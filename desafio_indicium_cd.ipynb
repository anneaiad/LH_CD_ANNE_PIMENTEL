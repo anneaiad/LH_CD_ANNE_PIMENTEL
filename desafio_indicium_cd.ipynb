{
  "nbformat": 4,
  "nbformat_minor": 0,
  "metadata": {
    "colab": {
      "provenance": [],
      "authorship_tag": "ABX9TyNxwBeUxTzBpef/kzw8f1Of",
      "include_colab_link": true
    },
    "kernelspec": {
      "name": "python3",
      "display_name": "Python 3"
    },
    "language_info": {
      "name": "python"
    }
  },
  "cells": [
    {
      "cell_type": "markdown",
      "metadata": {
        "id": "view-in-github",
        "colab_type": "text"
      },
      "source": [
        "<a href=\"https://colab.research.google.com/github/anneaiad/LH_CD_ANNE_PIMENTEL/blob/main/desafio_indicium_cd.ipynb\" target=\"_parent\"><img src=\"https://colab.research.google.com/assets/colab-badge.svg\" alt=\"Open In Colab\"/></a>"
      ]
    },
    {
      "cell_type": "markdown",
      "source": [
        "# Desafio Cientista de Dados - Indicium | Programa Lighthouse"
      ],
      "metadata": {
        "id": "-GAIMeMruR_w"
      }
    },
    {
      "cell_type": "markdown",
      "source": [
        "Desafio\n",
        "\n",
        "Você foi alocado em um time da Indicium contratado por um estúdio de Hollywood chamado PProductions, e agora deve fazer uma análise em cima de um banco de dados cinematográfico para orientar qual tipo de filme deve ser o próximo a ser desenvolvido. Lembre-se que há muito dinheiro envolvido, então a análise deve ser muito detalhada e levar em consideração o máximo de fatores possíveis (a introdução de dados externos é permitida - e encorajada).\n"
      ],
      "metadata": {
        "id": "Fhv-TGvwukGb"
      }
    },
    {
      "cell_type": "markdown",
      "source": [
        "# Preparação dos Dados"
      ],
      "metadata": {
        "id": "QkSaqiq7x1Bb"
      }
    },
    {
      "cell_type": "markdown",
      "source": [
        "# Extração dos Dados"
      ],
      "metadata": {
        "id": "ETDslCOpxyO2"
      }
    },
    {
      "cell_type": "code",
      "execution_count": 120,
      "metadata": {
        "id": "KU3I-w6OuPmP"
      },
      "outputs": [],
      "source": [
        "# Importando a biblioteca Pandas\n",
        "import pandas as pd"
      ]
    },
    {
      "cell_type": "code",
      "source": [
        "# Importando o arquivo csv\n",
        "dados = pd.read_csv('/content/desafio_indicium_imdb.csv')\n",
        "dados.head()"
      ],
      "metadata": {
        "colab": {
          "base_uri": "https://localhost:8080/",
          "height": 674
        },
        "id": "tLua4UT4u6MK",
        "outputId": "54d62e49-bea6-40e8-af5b-fa70e0d52984"
      },
      "execution_count": 121,
      "outputs": [
        {
          "output_type": "execute_result",
          "data": {
            "text/plain": [
              "   Unnamed: 0                                   Series_Title Released_Year  \\\n",
              "0           1                                  The Godfather          1972   \n",
              "1           2                                The Dark Knight          2008   \n",
              "2           3                         The Godfather: Part II          1974   \n",
              "3           4                                   12 Angry Men          1957   \n",
              "4           5  The Lord of the Rings: The Return of the King          2003   \n",
              "\n",
              "  Certificate  Runtime                     Genre  IMDB_Rating  \\\n",
              "0           A  175 min              Crime, Drama          9.2   \n",
              "1          UA  152 min      Action, Crime, Drama          9.0   \n",
              "2           A  202 min              Crime, Drama          9.0   \n",
              "3           U   96 min              Crime, Drama          9.0   \n",
              "4           U  201 min  Action, Adventure, Drama          8.9   \n",
              "\n",
              "                                                                                                                                                                                        Overview  \\\n",
              "0                                                                                 An organized crime dynasty's aging patriarch transfers control of his clandestine empire to his reluctant son.   \n",
              "1  When the menace known as the Joker wreaks havoc and chaos on the people of Gotham, Batman must accept one of the greatest psychological and physical tests of his ability to fight injustice.   \n",
              "2                           The early life and career of Vito Corleone in 1920s New York City is portrayed, while his son, Michael, expands and tightens his grip on the family crime syndicate.   \n",
              "3                                                                              A jury holdout attempts to prevent a miscarriage of justice by forcing his colleagues to reconsider the evidence.   \n",
              "4                                             Gandalf and Aragorn lead the World of Men against Sauron's army to draw his gaze from Frodo and Sam as they approach Mount Doom with the One Ring.   \n",
              "\n",
              "   Meta_score              Director           Star1            Star2  \\\n",
              "0       100.0  Francis Ford Coppola   Marlon Brando        Al Pacino   \n",
              "1        84.0     Christopher Nolan  Christian Bale     Heath Ledger   \n",
              "2        90.0  Francis Ford Coppola       Al Pacino   Robert De Niro   \n",
              "3        96.0          Sidney Lumet     Henry Fonda      Lee J. Cobb   \n",
              "4        94.0         Peter Jackson     Elijah Wood  Viggo Mortensen   \n",
              "\n",
              "           Star3          Star4  No_of_Votes        Gross  \n",
              "0     James Caan   Diane Keaton      1620367  134,966,411  \n",
              "1  Aaron Eckhart  Michael Caine      2303232  534,858,444  \n",
              "2  Robert Duvall   Diane Keaton      1129952   57,300,000  \n",
              "3  Martin Balsam   John Fiedler       689845    4,360,000  \n",
              "4   Ian McKellen  Orlando Bloom      1642758  377,845,905  "
            ],
            "text/html": [
              "\n",
              "  <div id=\"df-f93f45d4-9dd3-4f3a-91f1-27ec59dfb343\" class=\"colab-df-container\">\n",
              "    <div>\n",
              "<style scoped>\n",
              "    .dataframe tbody tr th:only-of-type {\n",
              "        vertical-align: middle;\n",
              "    }\n",
              "\n",
              "    .dataframe tbody tr th {\n",
              "        vertical-align: top;\n",
              "    }\n",
              "\n",
              "    .dataframe thead th {\n",
              "        text-align: right;\n",
              "    }\n",
              "</style>\n",
              "<table border=\"1\" class=\"dataframe\">\n",
              "  <thead>\n",
              "    <tr style=\"text-align: right;\">\n",
              "      <th></th>\n",
              "      <th>Unnamed: 0</th>\n",
              "      <th>Series_Title</th>\n",
              "      <th>Released_Year</th>\n",
              "      <th>Certificate</th>\n",
              "      <th>Runtime</th>\n",
              "      <th>Genre</th>\n",
              "      <th>IMDB_Rating</th>\n",
              "      <th>Overview</th>\n",
              "      <th>Meta_score</th>\n",
              "      <th>Director</th>\n",
              "      <th>Star1</th>\n",
              "      <th>Star2</th>\n",
              "      <th>Star3</th>\n",
              "      <th>Star4</th>\n",
              "      <th>No_of_Votes</th>\n",
              "      <th>Gross</th>\n",
              "    </tr>\n",
              "  </thead>\n",
              "  <tbody>\n",
              "    <tr>\n",
              "      <th>0</th>\n",
              "      <td>1</td>\n",
              "      <td>The Godfather</td>\n",
              "      <td>1972</td>\n",
              "      <td>A</td>\n",
              "      <td>175 min</td>\n",
              "      <td>Crime, Drama</td>\n",
              "      <td>9.2</td>\n",
              "      <td>An organized crime dynasty's aging patriarch transfers control of his clandestine empire to his reluctant son.</td>\n",
              "      <td>100.0</td>\n",
              "      <td>Francis Ford Coppola</td>\n",
              "      <td>Marlon Brando</td>\n",
              "      <td>Al Pacino</td>\n",
              "      <td>James Caan</td>\n",
              "      <td>Diane Keaton</td>\n",
              "      <td>1620367</td>\n",
              "      <td>134,966,411</td>\n",
              "    </tr>\n",
              "    <tr>\n",
              "      <th>1</th>\n",
              "      <td>2</td>\n",
              "      <td>The Dark Knight</td>\n",
              "      <td>2008</td>\n",
              "      <td>UA</td>\n",
              "      <td>152 min</td>\n",
              "      <td>Action, Crime, Drama</td>\n",
              "      <td>9.0</td>\n",
              "      <td>When the menace known as the Joker wreaks havoc and chaos on the people of Gotham, Batman must accept one of the greatest psychological and physical tests of his ability to fight injustice.</td>\n",
              "      <td>84.0</td>\n",
              "      <td>Christopher Nolan</td>\n",
              "      <td>Christian Bale</td>\n",
              "      <td>Heath Ledger</td>\n",
              "      <td>Aaron Eckhart</td>\n",
              "      <td>Michael Caine</td>\n",
              "      <td>2303232</td>\n",
              "      <td>534,858,444</td>\n",
              "    </tr>\n",
              "    <tr>\n",
              "      <th>2</th>\n",
              "      <td>3</td>\n",
              "      <td>The Godfather: Part II</td>\n",
              "      <td>1974</td>\n",
              "      <td>A</td>\n",
              "      <td>202 min</td>\n",
              "      <td>Crime, Drama</td>\n",
              "      <td>9.0</td>\n",
              "      <td>The early life and career of Vito Corleone in 1920s New York City is portrayed, while his son, Michael, expands and tightens his grip on the family crime syndicate.</td>\n",
              "      <td>90.0</td>\n",
              "      <td>Francis Ford Coppola</td>\n",
              "      <td>Al Pacino</td>\n",
              "      <td>Robert De Niro</td>\n",
              "      <td>Robert Duvall</td>\n",
              "      <td>Diane Keaton</td>\n",
              "      <td>1129952</td>\n",
              "      <td>57,300,000</td>\n",
              "    </tr>\n",
              "    <tr>\n",
              "      <th>3</th>\n",
              "      <td>4</td>\n",
              "      <td>12 Angry Men</td>\n",
              "      <td>1957</td>\n",
              "      <td>U</td>\n",
              "      <td>96 min</td>\n",
              "      <td>Crime, Drama</td>\n",
              "      <td>9.0</td>\n",
              "      <td>A jury holdout attempts to prevent a miscarriage of justice by forcing his colleagues to reconsider the evidence.</td>\n",
              "      <td>96.0</td>\n",
              "      <td>Sidney Lumet</td>\n",
              "      <td>Henry Fonda</td>\n",
              "      <td>Lee J. Cobb</td>\n",
              "      <td>Martin Balsam</td>\n",
              "      <td>John Fiedler</td>\n",
              "      <td>689845</td>\n",
              "      <td>4,360,000</td>\n",
              "    </tr>\n",
              "    <tr>\n",
              "      <th>4</th>\n",
              "      <td>5</td>\n",
              "      <td>The Lord of the Rings: The Return of the King</td>\n",
              "      <td>2003</td>\n",
              "      <td>U</td>\n",
              "      <td>201 min</td>\n",
              "      <td>Action, Adventure, Drama</td>\n",
              "      <td>8.9</td>\n",
              "      <td>Gandalf and Aragorn lead the World of Men against Sauron's army to draw his gaze from Frodo and Sam as they approach Mount Doom with the One Ring.</td>\n",
              "      <td>94.0</td>\n",
              "      <td>Peter Jackson</td>\n",
              "      <td>Elijah Wood</td>\n",
              "      <td>Viggo Mortensen</td>\n",
              "      <td>Ian McKellen</td>\n",
              "      <td>Orlando Bloom</td>\n",
              "      <td>1642758</td>\n",
              "      <td>377,845,905</td>\n",
              "    </tr>\n",
              "  </tbody>\n",
              "</table>\n",
              "</div>\n",
              "    <div class=\"colab-df-buttons\">\n",
              "\n",
              "  <div class=\"colab-df-container\">\n",
              "    <button class=\"colab-df-convert\" onclick=\"convertToInteractive('df-f93f45d4-9dd3-4f3a-91f1-27ec59dfb343')\"\n",
              "            title=\"Convert this dataframe to an interactive table.\"\n",
              "            style=\"display:none;\">\n",
              "\n",
              "  <svg xmlns=\"http://www.w3.org/2000/svg\" height=\"24px\" viewBox=\"0 -960 960 960\">\n",
              "    <path d=\"M120-120v-720h720v720H120Zm60-500h600v-160H180v160Zm220 220h160v-160H400v160Zm0 220h160v-160H400v160ZM180-400h160v-160H180v160Zm440 0h160v-160H620v160ZM180-180h160v-160H180v160Zm440 0h160v-160H620v160Z\"/>\n",
              "  </svg>\n",
              "    </button>\n",
              "\n",
              "  <style>\n",
              "    .colab-df-container {\n",
              "      display:flex;\n",
              "      gap: 12px;\n",
              "    }\n",
              "\n",
              "    .colab-df-convert {\n",
              "      background-color: #E8F0FE;\n",
              "      border: none;\n",
              "      border-radius: 50%;\n",
              "      cursor: pointer;\n",
              "      display: none;\n",
              "      fill: #1967D2;\n",
              "      height: 32px;\n",
              "      padding: 0 0 0 0;\n",
              "      width: 32px;\n",
              "    }\n",
              "\n",
              "    .colab-df-convert:hover {\n",
              "      background-color: #E2EBFA;\n",
              "      box-shadow: 0px 1px 2px rgba(60, 64, 67, 0.3), 0px 1px 3px 1px rgba(60, 64, 67, 0.15);\n",
              "      fill: #174EA6;\n",
              "    }\n",
              "\n",
              "    .colab-df-buttons div {\n",
              "      margin-bottom: 4px;\n",
              "    }\n",
              "\n",
              "    [theme=dark] .colab-df-convert {\n",
              "      background-color: #3B4455;\n",
              "      fill: #D2E3FC;\n",
              "    }\n",
              "\n",
              "    [theme=dark] .colab-df-convert:hover {\n",
              "      background-color: #434B5C;\n",
              "      box-shadow: 0px 1px 3px 1px rgba(0, 0, 0, 0.15);\n",
              "      filter: drop-shadow(0px 1px 2px rgba(0, 0, 0, 0.3));\n",
              "      fill: #FFFFFF;\n",
              "    }\n",
              "  </style>\n",
              "\n",
              "    <script>\n",
              "      const buttonEl =\n",
              "        document.querySelector('#df-f93f45d4-9dd3-4f3a-91f1-27ec59dfb343 button.colab-df-convert');\n",
              "      buttonEl.style.display =\n",
              "        google.colab.kernel.accessAllowed ? 'block' : 'none';\n",
              "\n",
              "      async function convertToInteractive(key) {\n",
              "        const element = document.querySelector('#df-f93f45d4-9dd3-4f3a-91f1-27ec59dfb343');\n",
              "        const dataTable =\n",
              "          await google.colab.kernel.invokeFunction('convertToInteractive',\n",
              "                                                    [key], {});\n",
              "        if (!dataTable) return;\n",
              "\n",
              "        const docLinkHtml = 'Like what you see? Visit the ' +\n",
              "          '<a target=\"_blank\" href=https://colab.research.google.com/notebooks/data_table.ipynb>data table notebook</a>'\n",
              "          + ' to learn more about interactive tables.';\n",
              "        element.innerHTML = '';\n",
              "        dataTable['output_type'] = 'display_data';\n",
              "        await google.colab.output.renderOutput(dataTable, element);\n",
              "        const docLink = document.createElement('div');\n",
              "        docLink.innerHTML = docLinkHtml;\n",
              "        element.appendChild(docLink);\n",
              "      }\n",
              "    </script>\n",
              "  </div>\n",
              "\n",
              "\n",
              "    <div id=\"df-dde92c8a-2aa7-4295-865c-d700d820cd57\">\n",
              "      <button class=\"colab-df-quickchart\" onclick=\"quickchart('df-dde92c8a-2aa7-4295-865c-d700d820cd57')\"\n",
              "                title=\"Suggest charts\"\n",
              "                style=\"display:none;\">\n",
              "\n",
              "<svg xmlns=\"http://www.w3.org/2000/svg\" height=\"24px\"viewBox=\"0 0 24 24\"\n",
              "     width=\"24px\">\n",
              "    <g>\n",
              "        <path d=\"M19 3H5c-1.1 0-2 .9-2 2v14c0 1.1.9 2 2 2h14c1.1 0 2-.9 2-2V5c0-1.1-.9-2-2-2zM9 17H7v-7h2v7zm4 0h-2V7h2v10zm4 0h-2v-4h2v4z\"/>\n",
              "    </g>\n",
              "</svg>\n",
              "      </button>\n",
              "\n",
              "<style>\n",
              "  .colab-df-quickchart {\n",
              "      --bg-color: #E8F0FE;\n",
              "      --fill-color: #1967D2;\n",
              "      --hover-bg-color: #E2EBFA;\n",
              "      --hover-fill-color: #174EA6;\n",
              "      --disabled-fill-color: #AAA;\n",
              "      --disabled-bg-color: #DDD;\n",
              "  }\n",
              "\n",
              "  [theme=dark] .colab-df-quickchart {\n",
              "      --bg-color: #3B4455;\n",
              "      --fill-color: #D2E3FC;\n",
              "      --hover-bg-color: #434B5C;\n",
              "      --hover-fill-color: #FFFFFF;\n",
              "      --disabled-bg-color: #3B4455;\n",
              "      --disabled-fill-color: #666;\n",
              "  }\n",
              "\n",
              "  .colab-df-quickchart {\n",
              "    background-color: var(--bg-color);\n",
              "    border: none;\n",
              "    border-radius: 50%;\n",
              "    cursor: pointer;\n",
              "    display: none;\n",
              "    fill: var(--fill-color);\n",
              "    height: 32px;\n",
              "    padding: 0;\n",
              "    width: 32px;\n",
              "  }\n",
              "\n",
              "  .colab-df-quickchart:hover {\n",
              "    background-color: var(--hover-bg-color);\n",
              "    box-shadow: 0 1px 2px rgba(60, 64, 67, 0.3), 0 1px 3px 1px rgba(60, 64, 67, 0.15);\n",
              "    fill: var(--button-hover-fill-color);\n",
              "  }\n",
              "\n",
              "  .colab-df-quickchart-complete:disabled,\n",
              "  .colab-df-quickchart-complete:disabled:hover {\n",
              "    background-color: var(--disabled-bg-color);\n",
              "    fill: var(--disabled-fill-color);\n",
              "    box-shadow: none;\n",
              "  }\n",
              "\n",
              "  .colab-df-spinner {\n",
              "    border: 2px solid var(--fill-color);\n",
              "    border-color: transparent;\n",
              "    border-bottom-color: var(--fill-color);\n",
              "    animation:\n",
              "      spin 1s steps(1) infinite;\n",
              "  }\n",
              "\n",
              "  @keyframes spin {\n",
              "    0% {\n",
              "      border-color: transparent;\n",
              "      border-bottom-color: var(--fill-color);\n",
              "      border-left-color: var(--fill-color);\n",
              "    }\n",
              "    20% {\n",
              "      border-color: transparent;\n",
              "      border-left-color: var(--fill-color);\n",
              "      border-top-color: var(--fill-color);\n",
              "    }\n",
              "    30% {\n",
              "      border-color: transparent;\n",
              "      border-left-color: var(--fill-color);\n",
              "      border-top-color: var(--fill-color);\n",
              "      border-right-color: var(--fill-color);\n",
              "    }\n",
              "    40% {\n",
              "      border-color: transparent;\n",
              "      border-right-color: var(--fill-color);\n",
              "      border-top-color: var(--fill-color);\n",
              "    }\n",
              "    60% {\n",
              "      border-color: transparent;\n",
              "      border-right-color: var(--fill-color);\n",
              "    }\n",
              "    80% {\n",
              "      border-color: transparent;\n",
              "      border-right-color: var(--fill-color);\n",
              "      border-bottom-color: var(--fill-color);\n",
              "    }\n",
              "    90% {\n",
              "      border-color: transparent;\n",
              "      border-bottom-color: var(--fill-color);\n",
              "    }\n",
              "  }\n",
              "</style>\n",
              "\n",
              "      <script>\n",
              "        async function quickchart(key) {\n",
              "          const quickchartButtonEl =\n",
              "            document.querySelector('#' + key + ' button');\n",
              "          quickchartButtonEl.disabled = true;  // To prevent multiple clicks.\n",
              "          quickchartButtonEl.classList.add('colab-df-spinner');\n",
              "          try {\n",
              "            const charts = await google.colab.kernel.invokeFunction(\n",
              "                'suggestCharts', [key], {});\n",
              "          } catch (error) {\n",
              "            console.error('Error during call to suggestCharts:', error);\n",
              "          }\n",
              "          quickchartButtonEl.classList.remove('colab-df-spinner');\n",
              "          quickchartButtonEl.classList.add('colab-df-quickchart-complete');\n",
              "        }\n",
              "        (() => {\n",
              "          let quickchartButtonEl =\n",
              "            document.querySelector('#df-dde92c8a-2aa7-4295-865c-d700d820cd57 button');\n",
              "          quickchartButtonEl.style.display =\n",
              "            google.colab.kernel.accessAllowed ? 'block' : 'none';\n",
              "        })();\n",
              "      </script>\n",
              "    </div>\n",
              "\n",
              "    </div>\n",
              "  </div>\n"
            ],
            "application/vnd.google.colaboratory.intrinsic+json": {
              "type": "dataframe",
              "variable_name": "dados",
              "summary": "{\n  \"name\": \"dados\",\n  \"rows\": 999,\n  \"fields\": [\n    {\n      \"column\": \"Unnamed: 0\",\n      \"properties\": {\n        \"dtype\": \"number\",\n        \"std\": 288,\n        \"min\": 1,\n        \"max\": 999,\n        \"num_unique_values\": 999,\n        \"samples\": [\n          454,\n          794,\n          210\n        ],\n        \"semantic_type\": \"\",\n        \"description\": \"\"\n      }\n    },\n    {\n      \"column\": \"Series_Title\",\n      \"properties\": {\n        \"dtype\": \"string\",\n        \"num_unique_values\": 998,\n        \"samples\": [\n          \"Arsenic and Old Lace\",\n          \"Hedwig and the Angry Inch\",\n          \"\\u00d4kami kodomo no Ame to Yuki\"\n        ],\n        \"semantic_type\": \"\",\n        \"description\": \"\"\n      }\n    },\n    {\n      \"column\": \"Released_Year\",\n      \"properties\": {\n        \"dtype\": \"category\",\n        \"num_unique_values\": 100,\n        \"samples\": [\n          \"1934\",\n          \"1992\",\n          \"1989\"\n        ],\n        \"semantic_type\": \"\",\n        \"description\": \"\"\n      }\n    },\n    {\n      \"column\": \"Certificate\",\n      \"properties\": {\n        \"dtype\": \"category\",\n        \"num_unique_values\": 16,\n        \"samples\": [\n          \"A\",\n          \"UA\",\n          \"PG\"\n        ],\n        \"semantic_type\": \"\",\n        \"description\": \"\"\n      }\n    },\n    {\n      \"column\": \"Runtime\",\n      \"properties\": {\n        \"dtype\": \"category\",\n        \"num_unique_values\": 140,\n        \"samples\": [\n          \"205 min\",\n          \"129 min\",\n          \"112 min\"\n        ],\n        \"semantic_type\": \"\",\n        \"description\": \"\"\n      }\n    },\n    {\n      \"column\": \"Genre\",\n      \"properties\": {\n        \"dtype\": \"category\",\n        \"num_unique_values\": 202,\n        \"samples\": [\n          \"Comedy, Drama, Fantasy\",\n          \"Crime, Drama, Fantasy\",\n          \"Drama, Romance, War\"\n        ],\n        \"semantic_type\": \"\",\n        \"description\": \"\"\n      }\n    },\n    {\n      \"column\": \"IMDB_Rating\",\n      \"properties\": {\n        \"dtype\": \"number\",\n        \"std\": 0.2722895085128789,\n        \"min\": 7.6,\n        \"max\": 9.2,\n        \"num_unique_values\": 16,\n        \"samples\": [\n          9.2,\n          9.0,\n          8.6\n        ],\n        \"semantic_type\": \"\",\n        \"description\": \"\"\n      }\n    },\n    {\n      \"column\": \"Overview\",\n      \"properties\": {\n        \"dtype\": \"string\",\n        \"num_unique_values\": 999,\n        \"samples\": [\n          \"Three World War II veterans return home to small-town America to discover that they and their families have been irreparably changed.\",\n          \"A gender-queer punk-rock singer from East Berlin tours the U.S. with her band as she tells her life story and follows the former lover/band-mate who stole her songs.\",\n          \"With his wife's disappearance having become the focus of an intense media circus, a man sees the spotlight turned on him when it's suspected that he may not be innocent.\"\n        ],\n        \"semantic_type\": \"\",\n        \"description\": \"\"\n      }\n    },\n    {\n      \"column\": \"Meta_score\",\n      \"properties\": {\n        \"dtype\": \"number\",\n        \"std\": 12.383257326288954,\n        \"min\": 28.0,\n        \"max\": 100.0,\n        \"num_unique_values\": 63,\n        \"samples\": [\n          30.0,\n          52.0,\n          100.0\n        ],\n        \"semantic_type\": \"\",\n        \"description\": \"\"\n      }\n    },\n    {\n      \"column\": \"Director\",\n      \"properties\": {\n        \"dtype\": \"string\",\n        \"num_unique_values\": 548,\n        \"samples\": [\n          \"Satoshi Kon\",\n          \"David Lean\",\n          \"Yilmaz Erdogan\"\n        ],\n        \"semantic_type\": \"\",\n        \"description\": \"\"\n      }\n    },\n    {\n      \"column\": \"Star1\",\n      \"properties\": {\n        \"dtype\": \"string\",\n        \"num_unique_values\": 659,\n        \"samples\": [\n          \"Peter Dinklage\",\n          \"Jay Baruchel\",\n          \"Steve McQueen\"\n        ],\n        \"semantic_type\": \"\",\n        \"description\": \"\"\n      }\n    },\n    {\n      \"column\": \"Star2\",\n      \"properties\": {\n        \"dtype\": \"string\",\n        \"num_unique_values\": 840,\n        \"samples\": [\n          \"Jacques Villeret\",\n          \"Meg Ryan\",\n          \"J.K. Simmons\"\n        ],\n        \"semantic_type\": \"\",\n        \"description\": \"\"\n      }\n    },\n    {\n      \"column\": \"Star3\",\n      \"properties\": {\n        \"dtype\": \"string\",\n        \"num_unique_values\": 890,\n        \"samples\": [\n          \"Yacef Saadi\",\n          \"John Wray\",\n          \"Chazz Palminteri\"\n        ],\n        \"semantic_type\": \"\",\n        \"description\": \"\"\n      }\n    },\n    {\n      \"column\": \"Star4\",\n      \"properties\": {\n        \"dtype\": \"string\",\n        \"num_unique_values\": 938,\n        \"samples\": [\n          \"Veronica Cartwright\",\n          \"Domhnall Gleeson\",\n          \"Jennifer Ulrich\"\n        ],\n        \"semantic_type\": \"\",\n        \"description\": \"\"\n      }\n    },\n    {\n      \"column\": \"No_of_Votes\",\n      \"properties\": {\n        \"dtype\": \"number\",\n        \"std\": 320912,\n        \"min\": 25088,\n        \"max\": 2303232,\n        \"num_unique_values\": 998,\n        \"samples\": [\n          57259,\n          31957,\n          859695\n        ],\n        \"semantic_type\": \"\",\n        \"description\": \"\"\n      }\n    },\n    {\n      \"column\": \"Gross\",\n      \"properties\": {\n        \"dtype\": \"string\",\n        \"num_unique_values\": 822,\n        \"samples\": [\n          \"136,025,503\",\n          \"356,461,711\",\n          \"275,902\"\n        ],\n        \"semantic_type\": \"\",\n        \"description\": \"\"\n      }\n    }\n  ]\n}"
            }
          },
          "metadata": {},
          "execution_count": 121
        }
      ]
    },
    {
      "cell_type": "markdown",
      "source": [
        "# Tratamento e Limpeza dos Dados"
      ],
      "metadata": {
        "id": "ZEJ729e2x4yq"
      }
    },
    {
      "cell_type": "code",
      "source": [
        "# Verificando o tipo de cada coluna e se há algum número nulo\n",
        "dados.info()"
      ],
      "metadata": {
        "colab": {
          "base_uri": "https://localhost:8080/"
        },
        "id": "kP9wU5Eiv9J5",
        "outputId": "1b0adb53-f1e4-447d-d5fc-46a6c180913a"
      },
      "execution_count": 122,
      "outputs": [
        {
          "output_type": "stream",
          "name": "stdout",
          "text": [
            "<class 'pandas.core.frame.DataFrame'>\n",
            "RangeIndex: 999 entries, 0 to 998\n",
            "Data columns (total 16 columns):\n",
            " #   Column         Non-Null Count  Dtype  \n",
            "---  ------         --------------  -----  \n",
            " 0   Unnamed: 0     999 non-null    int64  \n",
            " 1   Series_Title   999 non-null    object \n",
            " 2   Released_Year  999 non-null    object \n",
            " 3   Certificate    898 non-null    object \n",
            " 4   Runtime        999 non-null    object \n",
            " 5   Genre          999 non-null    object \n",
            " 6   IMDB_Rating    999 non-null    float64\n",
            " 7   Overview       999 non-null    object \n",
            " 8   Meta_score     842 non-null    float64\n",
            " 9   Director       999 non-null    object \n",
            " 10  Star1          999 non-null    object \n",
            " 11  Star2          999 non-null    object \n",
            " 12  Star3          999 non-null    object \n",
            " 13  Star4          999 non-null    object \n",
            " 14  No_of_Votes    999 non-null    int64  \n",
            " 15  Gross          830 non-null    object \n",
            "dtypes: float64(2), int64(2), object(12)\n",
            "memory usage: 125.0+ KB\n"
          ]
        }
      ]
    },
    {
      "cell_type": "code",
      "source": [
        "# Verificando a quantidade de valores nulos por coluna\n",
        "dados.isnull().sum()"
      ],
      "metadata": {
        "colab": {
          "base_uri": "https://localhost:8080/",
          "height": 585
        },
        "id": "uuTRmqFlPQ9c",
        "outputId": "9b8d7d7f-89ad-4d50-d054-cebb56d49eaa"
      },
      "execution_count": 123,
      "outputs": [
        {
          "output_type": "execute_result",
          "data": {
            "text/plain": [
              "Unnamed: 0         0\n",
              "Series_Title       0\n",
              "Released_Year      0\n",
              "Certificate      101\n",
              "Runtime            0\n",
              "Genre              0\n",
              "IMDB_Rating        0\n",
              "Overview           0\n",
              "Meta_score       157\n",
              "Director           0\n",
              "Star1              0\n",
              "Star2              0\n",
              "Star3              0\n",
              "Star4              0\n",
              "No_of_Votes        0\n",
              "Gross            169\n",
              "dtype: int64"
            ],
            "text/html": [
              "<div>\n",
              "<style scoped>\n",
              "    .dataframe tbody tr th:only-of-type {\n",
              "        vertical-align: middle;\n",
              "    }\n",
              "\n",
              "    .dataframe tbody tr th {\n",
              "        vertical-align: top;\n",
              "    }\n",
              "\n",
              "    .dataframe thead th {\n",
              "        text-align: right;\n",
              "    }\n",
              "</style>\n",
              "<table border=\"1\" class=\"dataframe\">\n",
              "  <thead>\n",
              "    <tr style=\"text-align: right;\">\n",
              "      <th></th>\n",
              "      <th>0</th>\n",
              "    </tr>\n",
              "  </thead>\n",
              "  <tbody>\n",
              "    <tr>\n",
              "      <th>Unnamed: 0</th>\n",
              "      <td>0</td>\n",
              "    </tr>\n",
              "    <tr>\n",
              "      <th>Series_Title</th>\n",
              "      <td>0</td>\n",
              "    </tr>\n",
              "    <tr>\n",
              "      <th>Released_Year</th>\n",
              "      <td>0</td>\n",
              "    </tr>\n",
              "    <tr>\n",
              "      <th>Certificate</th>\n",
              "      <td>101</td>\n",
              "    </tr>\n",
              "    <tr>\n",
              "      <th>Runtime</th>\n",
              "      <td>0</td>\n",
              "    </tr>\n",
              "    <tr>\n",
              "      <th>Genre</th>\n",
              "      <td>0</td>\n",
              "    </tr>\n",
              "    <tr>\n",
              "      <th>IMDB_Rating</th>\n",
              "      <td>0</td>\n",
              "    </tr>\n",
              "    <tr>\n",
              "      <th>Overview</th>\n",
              "      <td>0</td>\n",
              "    </tr>\n",
              "    <tr>\n",
              "      <th>Meta_score</th>\n",
              "      <td>157</td>\n",
              "    </tr>\n",
              "    <tr>\n",
              "      <th>Director</th>\n",
              "      <td>0</td>\n",
              "    </tr>\n",
              "    <tr>\n",
              "      <th>Star1</th>\n",
              "      <td>0</td>\n",
              "    </tr>\n",
              "    <tr>\n",
              "      <th>Star2</th>\n",
              "      <td>0</td>\n",
              "    </tr>\n",
              "    <tr>\n",
              "      <th>Star3</th>\n",
              "      <td>0</td>\n",
              "    </tr>\n",
              "    <tr>\n",
              "      <th>Star4</th>\n",
              "      <td>0</td>\n",
              "    </tr>\n",
              "    <tr>\n",
              "      <th>No_of_Votes</th>\n",
              "      <td>0</td>\n",
              "    </tr>\n",
              "    <tr>\n",
              "      <th>Gross</th>\n",
              "      <td>169</td>\n",
              "    </tr>\n",
              "  </tbody>\n",
              "</table>\n",
              "</div><br><label><b>dtype:</b> int64</label>"
            ]
          },
          "metadata": {},
          "execution_count": 123
        }
      ]
    },
    {
      "cell_type": "code",
      "source": [
        "# Tratando os valores nulos\n",
        "# Transformando os valores nulos da coluna 'Certificate' em 'Not Rated' para indicar que o filme não possui a nota ou não foi informada\n",
        "dados['Certificate'].fillna('Not Rated', inplace=True)"
      ],
      "metadata": {
        "colab": {
          "base_uri": "https://localhost:8080/"
        },
        "id": "rmotBDnmPZ_0",
        "outputId": "19ee3788-65a9-4b0c-f798-93c53d03a63f"
      },
      "execution_count": 124,
      "outputs": [
        {
          "output_type": "stream",
          "name": "stderr",
          "text": [
            "/tmp/ipython-input-3395511464.py:3: FutureWarning: A value is trying to be set on a copy of a DataFrame or Series through chained assignment using an inplace method.\n",
            "The behavior will change in pandas 3.0. This inplace method will never work because the intermediate object on which we are setting values always behaves as a copy.\n",
            "\n",
            "For example, when doing 'df[col].method(value, inplace=True)', try using 'df.method({col: value}, inplace=True)' or df[col] = df[col].method(value) instead, to perform the operation inplace on the original object.\n",
            "\n",
            "\n",
            "  dados['Certificate'].fillna('Not Rated', inplace=True)\n"
          ]
        }
      ]
    },
    {
      "cell_type": "code",
      "source": [
        "# Transformando os valores nulos da coluna 'Gross' em 'Unknown\" para indicar números de arrecadação não conhecidos\n",
        "dados['Gross'].fillna('Unknown', inplace=True)"
      ],
      "metadata": {
        "colab": {
          "base_uri": "https://localhost:8080/"
        },
        "id": "R2wSbl-PzIEJ",
        "outputId": "244d10fb-89b6-446a-dd45-f07e85674dab"
      },
      "execution_count": 125,
      "outputs": [
        {
          "output_type": "stream",
          "name": "stderr",
          "text": [
            "/tmp/ipython-input-1737451260.py:2: FutureWarning: A value is trying to be set on a copy of a DataFrame or Series through chained assignment using an inplace method.\n",
            "The behavior will change in pandas 3.0. This inplace method will never work because the intermediate object on which we are setting values always behaves as a copy.\n",
            "\n",
            "For example, when doing 'df[col].method(value, inplace=True)', try using 'df.method({col: value}, inplace=True)' or df[col] = df[col].method(value) instead, to perform the operation inplace on the original object.\n",
            "\n",
            "\n",
            "  dados['Gross'].fillna('Unknown', inplace=True)\n"
          ]
        }
      ]
    },
    {
      "cell_type": "code",
      "source": [
        "# Transformando os dados nulos da coluna 'Meta_score' com a mediana para conseguir trabalhar com os dados futuramente sem prejudicar a análise com números muito fora da realidade\n",
        "dados['Meta_score'].fillna(dados['Meta_score'].median(), inplace=True)"
      ],
      "metadata": {
        "id": "m9tsBx37z0h6",
        "colab": {
          "base_uri": "https://localhost:8080/"
        },
        "outputId": "691d74fe-d783-4fe0-d7f4-a883112de268"
      },
      "execution_count": 126,
      "outputs": [
        {
          "output_type": "stream",
          "name": "stderr",
          "text": [
            "/tmp/ipython-input-1643170532.py:2: FutureWarning: A value is trying to be set on a copy of a DataFrame or Series through chained assignment using an inplace method.\n",
            "The behavior will change in pandas 3.0. This inplace method will never work because the intermediate object on which we are setting values always behaves as a copy.\n",
            "\n",
            "For example, when doing 'df[col].method(value, inplace=True)', try using 'df.method({col: value}, inplace=True)' or df[col] = df[col].method(value) instead, to perform the operation inplace on the original object.\n",
            "\n",
            "\n",
            "  dados['Meta_score'].fillna(dados['Meta_score'].median(), inplace=True)\n"
          ]
        }
      ]
    },
    {
      "cell_type": "code",
      "source": [
        "# Verificando se ainda há valores nulos\n",
        "dados.isnull().sum()"
      ],
      "metadata": {
        "colab": {
          "base_uri": "https://localhost:8080/",
          "height": 585
        },
        "id": "K7uFKQCaShxd",
        "outputId": "beab375e-bfef-4d4c-8131-f864bfdc32a5"
      },
      "execution_count": 127,
      "outputs": [
        {
          "output_type": "execute_result",
          "data": {
            "text/plain": [
              "Unnamed: 0       0\n",
              "Series_Title     0\n",
              "Released_Year    0\n",
              "Certificate      0\n",
              "Runtime          0\n",
              "Genre            0\n",
              "IMDB_Rating      0\n",
              "Overview         0\n",
              "Meta_score       0\n",
              "Director         0\n",
              "Star1            0\n",
              "Star2            0\n",
              "Star3            0\n",
              "Star4            0\n",
              "No_of_Votes      0\n",
              "Gross            0\n",
              "dtype: int64"
            ],
            "text/html": [
              "<div>\n",
              "<style scoped>\n",
              "    .dataframe tbody tr th:only-of-type {\n",
              "        vertical-align: middle;\n",
              "    }\n",
              "\n",
              "    .dataframe tbody tr th {\n",
              "        vertical-align: top;\n",
              "    }\n",
              "\n",
              "    .dataframe thead th {\n",
              "        text-align: right;\n",
              "    }\n",
              "</style>\n",
              "<table border=\"1\" class=\"dataframe\">\n",
              "  <thead>\n",
              "    <tr style=\"text-align: right;\">\n",
              "      <th></th>\n",
              "      <th>0</th>\n",
              "    </tr>\n",
              "  </thead>\n",
              "  <tbody>\n",
              "    <tr>\n",
              "      <th>Unnamed: 0</th>\n",
              "      <td>0</td>\n",
              "    </tr>\n",
              "    <tr>\n",
              "      <th>Series_Title</th>\n",
              "      <td>0</td>\n",
              "    </tr>\n",
              "    <tr>\n",
              "      <th>Released_Year</th>\n",
              "      <td>0</td>\n",
              "    </tr>\n",
              "    <tr>\n",
              "      <th>Certificate</th>\n",
              "      <td>0</td>\n",
              "    </tr>\n",
              "    <tr>\n",
              "      <th>Runtime</th>\n",
              "      <td>0</td>\n",
              "    </tr>\n",
              "    <tr>\n",
              "      <th>Genre</th>\n",
              "      <td>0</td>\n",
              "    </tr>\n",
              "    <tr>\n",
              "      <th>IMDB_Rating</th>\n",
              "      <td>0</td>\n",
              "    </tr>\n",
              "    <tr>\n",
              "      <th>Overview</th>\n",
              "      <td>0</td>\n",
              "    </tr>\n",
              "    <tr>\n",
              "      <th>Meta_score</th>\n",
              "      <td>0</td>\n",
              "    </tr>\n",
              "    <tr>\n",
              "      <th>Director</th>\n",
              "      <td>0</td>\n",
              "    </tr>\n",
              "    <tr>\n",
              "      <th>Star1</th>\n",
              "      <td>0</td>\n",
              "    </tr>\n",
              "    <tr>\n",
              "      <th>Star2</th>\n",
              "      <td>0</td>\n",
              "    </tr>\n",
              "    <tr>\n",
              "      <th>Star3</th>\n",
              "      <td>0</td>\n",
              "    </tr>\n",
              "    <tr>\n",
              "      <th>Star4</th>\n",
              "      <td>0</td>\n",
              "    </tr>\n",
              "    <tr>\n",
              "      <th>No_of_Votes</th>\n",
              "      <td>0</td>\n",
              "    </tr>\n",
              "    <tr>\n",
              "      <th>Gross</th>\n",
              "      <td>0</td>\n",
              "    </tr>\n",
              "  </tbody>\n",
              "</table>\n",
              "</div><br><label><b>dtype:</b> int64</label>"
            ]
          },
          "metadata": {},
          "execution_count": 127
        }
      ]
    },
    {
      "cell_type": "code",
      "source": [
        "# Removendo a coluna 'Unnamed' que possui dados irrelevantes para a análise\n",
        "dados = dados.drop(columns=['Unnamed: 0'])\n",
        "dados.head()"
      ],
      "metadata": {
        "colab": {
          "base_uri": "https://localhost:8080/",
          "height": 536
        },
        "id": "8_3yxupewGUk",
        "outputId": "14e2a18f-9609-4b3c-8ccb-4d8563e5f00f"
      },
      "execution_count": 128,
      "outputs": [
        {
          "output_type": "execute_result",
          "data": {
            "text/plain": [
              "                                    Series_Title Released_Year Certificate  \\\n",
              "0                                  The Godfather          1972           A   \n",
              "1                                The Dark Knight          2008          UA   \n",
              "2                         The Godfather: Part II          1974           A   \n",
              "3                                   12 Angry Men          1957           U   \n",
              "4  The Lord of the Rings: The Return of the King          2003           U   \n",
              "\n",
              "   Runtime                     Genre  IMDB_Rating  \\\n",
              "0  175 min              Crime, Drama          9.2   \n",
              "1  152 min      Action, Crime, Drama          9.0   \n",
              "2  202 min              Crime, Drama          9.0   \n",
              "3   96 min              Crime, Drama          9.0   \n",
              "4  201 min  Action, Adventure, Drama          8.9   \n",
              "\n",
              "                                                                                                                                                                                        Overview  \\\n",
              "0                                                                                 An organized crime dynasty's aging patriarch transfers control of his clandestine empire to his reluctant son.   \n",
              "1  When the menace known as the Joker wreaks havoc and chaos on the people of Gotham, Batman must accept one of the greatest psychological and physical tests of his ability to fight injustice.   \n",
              "2                           The early life and career of Vito Corleone in 1920s New York City is portrayed, while his son, Michael, expands and tightens his grip on the family crime syndicate.   \n",
              "3                                                                              A jury holdout attempts to prevent a miscarriage of justice by forcing his colleagues to reconsider the evidence.   \n",
              "4                                             Gandalf and Aragorn lead the World of Men against Sauron's army to draw his gaze from Frodo and Sam as they approach Mount Doom with the One Ring.   \n",
              "\n",
              "   Meta_score              Director           Star1            Star2  \\\n",
              "0       100.0  Francis Ford Coppola   Marlon Brando        Al Pacino   \n",
              "1        84.0     Christopher Nolan  Christian Bale     Heath Ledger   \n",
              "2        90.0  Francis Ford Coppola       Al Pacino   Robert De Niro   \n",
              "3        96.0          Sidney Lumet     Henry Fonda      Lee J. Cobb   \n",
              "4        94.0         Peter Jackson     Elijah Wood  Viggo Mortensen   \n",
              "\n",
              "           Star3          Star4  No_of_Votes        Gross  \n",
              "0     James Caan   Diane Keaton      1620367  134,966,411  \n",
              "1  Aaron Eckhart  Michael Caine      2303232  534,858,444  \n",
              "2  Robert Duvall   Diane Keaton      1129952   57,300,000  \n",
              "3  Martin Balsam   John Fiedler       689845    4,360,000  \n",
              "4   Ian McKellen  Orlando Bloom      1642758  377,845,905  "
            ],
            "text/html": [
              "\n",
              "  <div id=\"df-164978e8-9bfe-4a8f-8f2f-eb3bc993fbaa\" class=\"colab-df-container\">\n",
              "    <div>\n",
              "<style scoped>\n",
              "    .dataframe tbody tr th:only-of-type {\n",
              "        vertical-align: middle;\n",
              "    }\n",
              "\n",
              "    .dataframe tbody tr th {\n",
              "        vertical-align: top;\n",
              "    }\n",
              "\n",
              "    .dataframe thead th {\n",
              "        text-align: right;\n",
              "    }\n",
              "</style>\n",
              "<table border=\"1\" class=\"dataframe\">\n",
              "  <thead>\n",
              "    <tr style=\"text-align: right;\">\n",
              "      <th></th>\n",
              "      <th>Series_Title</th>\n",
              "      <th>Released_Year</th>\n",
              "      <th>Certificate</th>\n",
              "      <th>Runtime</th>\n",
              "      <th>Genre</th>\n",
              "      <th>IMDB_Rating</th>\n",
              "      <th>Overview</th>\n",
              "      <th>Meta_score</th>\n",
              "      <th>Director</th>\n",
              "      <th>Star1</th>\n",
              "      <th>Star2</th>\n",
              "      <th>Star3</th>\n",
              "      <th>Star4</th>\n",
              "      <th>No_of_Votes</th>\n",
              "      <th>Gross</th>\n",
              "    </tr>\n",
              "  </thead>\n",
              "  <tbody>\n",
              "    <tr>\n",
              "      <th>0</th>\n",
              "      <td>The Godfather</td>\n",
              "      <td>1972</td>\n",
              "      <td>A</td>\n",
              "      <td>175 min</td>\n",
              "      <td>Crime, Drama</td>\n",
              "      <td>9.2</td>\n",
              "      <td>An organized crime dynasty's aging patriarch transfers control of his clandestine empire to his reluctant son.</td>\n",
              "      <td>100.0</td>\n",
              "      <td>Francis Ford Coppola</td>\n",
              "      <td>Marlon Brando</td>\n",
              "      <td>Al Pacino</td>\n",
              "      <td>James Caan</td>\n",
              "      <td>Diane Keaton</td>\n",
              "      <td>1620367</td>\n",
              "      <td>134,966,411</td>\n",
              "    </tr>\n",
              "    <tr>\n",
              "      <th>1</th>\n",
              "      <td>The Dark Knight</td>\n",
              "      <td>2008</td>\n",
              "      <td>UA</td>\n",
              "      <td>152 min</td>\n",
              "      <td>Action, Crime, Drama</td>\n",
              "      <td>9.0</td>\n",
              "      <td>When the menace known as the Joker wreaks havoc and chaos on the people of Gotham, Batman must accept one of the greatest psychological and physical tests of his ability to fight injustice.</td>\n",
              "      <td>84.0</td>\n",
              "      <td>Christopher Nolan</td>\n",
              "      <td>Christian Bale</td>\n",
              "      <td>Heath Ledger</td>\n",
              "      <td>Aaron Eckhart</td>\n",
              "      <td>Michael Caine</td>\n",
              "      <td>2303232</td>\n",
              "      <td>534,858,444</td>\n",
              "    </tr>\n",
              "    <tr>\n",
              "      <th>2</th>\n",
              "      <td>The Godfather: Part II</td>\n",
              "      <td>1974</td>\n",
              "      <td>A</td>\n",
              "      <td>202 min</td>\n",
              "      <td>Crime, Drama</td>\n",
              "      <td>9.0</td>\n",
              "      <td>The early life and career of Vito Corleone in 1920s New York City is portrayed, while his son, Michael, expands and tightens his grip on the family crime syndicate.</td>\n",
              "      <td>90.0</td>\n",
              "      <td>Francis Ford Coppola</td>\n",
              "      <td>Al Pacino</td>\n",
              "      <td>Robert De Niro</td>\n",
              "      <td>Robert Duvall</td>\n",
              "      <td>Diane Keaton</td>\n",
              "      <td>1129952</td>\n",
              "      <td>57,300,000</td>\n",
              "    </tr>\n",
              "    <tr>\n",
              "      <th>3</th>\n",
              "      <td>12 Angry Men</td>\n",
              "      <td>1957</td>\n",
              "      <td>U</td>\n",
              "      <td>96 min</td>\n",
              "      <td>Crime, Drama</td>\n",
              "      <td>9.0</td>\n",
              "      <td>A jury holdout attempts to prevent a miscarriage of justice by forcing his colleagues to reconsider the evidence.</td>\n",
              "      <td>96.0</td>\n",
              "      <td>Sidney Lumet</td>\n",
              "      <td>Henry Fonda</td>\n",
              "      <td>Lee J. Cobb</td>\n",
              "      <td>Martin Balsam</td>\n",
              "      <td>John Fiedler</td>\n",
              "      <td>689845</td>\n",
              "      <td>4,360,000</td>\n",
              "    </tr>\n",
              "    <tr>\n",
              "      <th>4</th>\n",
              "      <td>The Lord of the Rings: The Return of the King</td>\n",
              "      <td>2003</td>\n",
              "      <td>U</td>\n",
              "      <td>201 min</td>\n",
              "      <td>Action, Adventure, Drama</td>\n",
              "      <td>8.9</td>\n",
              "      <td>Gandalf and Aragorn lead the World of Men against Sauron's army to draw his gaze from Frodo and Sam as they approach Mount Doom with the One Ring.</td>\n",
              "      <td>94.0</td>\n",
              "      <td>Peter Jackson</td>\n",
              "      <td>Elijah Wood</td>\n",
              "      <td>Viggo Mortensen</td>\n",
              "      <td>Ian McKellen</td>\n",
              "      <td>Orlando Bloom</td>\n",
              "      <td>1642758</td>\n",
              "      <td>377,845,905</td>\n",
              "    </tr>\n",
              "  </tbody>\n",
              "</table>\n",
              "</div>\n",
              "    <div class=\"colab-df-buttons\">\n",
              "\n",
              "  <div class=\"colab-df-container\">\n",
              "    <button class=\"colab-df-convert\" onclick=\"convertToInteractive('df-164978e8-9bfe-4a8f-8f2f-eb3bc993fbaa')\"\n",
              "            title=\"Convert this dataframe to an interactive table.\"\n",
              "            style=\"display:none;\">\n",
              "\n",
              "  <svg xmlns=\"http://www.w3.org/2000/svg\" height=\"24px\" viewBox=\"0 -960 960 960\">\n",
              "    <path d=\"M120-120v-720h720v720H120Zm60-500h600v-160H180v160Zm220 220h160v-160H400v160Zm0 220h160v-160H400v160ZM180-400h160v-160H180v160Zm440 0h160v-160H620v160ZM180-180h160v-160H180v160Zm440 0h160v-160H620v160Z\"/>\n",
              "  </svg>\n",
              "    </button>\n",
              "\n",
              "  <style>\n",
              "    .colab-df-container {\n",
              "      display:flex;\n",
              "      gap: 12px;\n",
              "    }\n",
              "\n",
              "    .colab-df-convert {\n",
              "      background-color: #E8F0FE;\n",
              "      border: none;\n",
              "      border-radius: 50%;\n",
              "      cursor: pointer;\n",
              "      display: none;\n",
              "      fill: #1967D2;\n",
              "      height: 32px;\n",
              "      padding: 0 0 0 0;\n",
              "      width: 32px;\n",
              "    }\n",
              "\n",
              "    .colab-df-convert:hover {\n",
              "      background-color: #E2EBFA;\n",
              "      box-shadow: 0px 1px 2px rgba(60, 64, 67, 0.3), 0px 1px 3px 1px rgba(60, 64, 67, 0.15);\n",
              "      fill: #174EA6;\n",
              "    }\n",
              "\n",
              "    .colab-df-buttons div {\n",
              "      margin-bottom: 4px;\n",
              "    }\n",
              "\n",
              "    [theme=dark] .colab-df-convert {\n",
              "      background-color: #3B4455;\n",
              "      fill: #D2E3FC;\n",
              "    }\n",
              "\n",
              "    [theme=dark] .colab-df-convert:hover {\n",
              "      background-color: #434B5C;\n",
              "      box-shadow: 0px 1px 3px 1px rgba(0, 0, 0, 0.15);\n",
              "      filter: drop-shadow(0px 1px 2px rgba(0, 0, 0, 0.3));\n",
              "      fill: #FFFFFF;\n",
              "    }\n",
              "  </style>\n",
              "\n",
              "    <script>\n",
              "      const buttonEl =\n",
              "        document.querySelector('#df-164978e8-9bfe-4a8f-8f2f-eb3bc993fbaa button.colab-df-convert');\n",
              "      buttonEl.style.display =\n",
              "        google.colab.kernel.accessAllowed ? 'block' : 'none';\n",
              "\n",
              "      async function convertToInteractive(key) {\n",
              "        const element = document.querySelector('#df-164978e8-9bfe-4a8f-8f2f-eb3bc993fbaa');\n",
              "        const dataTable =\n",
              "          await google.colab.kernel.invokeFunction('convertToInteractive',\n",
              "                                                    [key], {});\n",
              "        if (!dataTable) return;\n",
              "\n",
              "        const docLinkHtml = 'Like what you see? Visit the ' +\n",
              "          '<a target=\"_blank\" href=https://colab.research.google.com/notebooks/data_table.ipynb>data table notebook</a>'\n",
              "          + ' to learn more about interactive tables.';\n",
              "        element.innerHTML = '';\n",
              "        dataTable['output_type'] = 'display_data';\n",
              "        await google.colab.output.renderOutput(dataTable, element);\n",
              "        const docLink = document.createElement('div');\n",
              "        docLink.innerHTML = docLinkHtml;\n",
              "        element.appendChild(docLink);\n",
              "      }\n",
              "    </script>\n",
              "  </div>\n",
              "\n",
              "\n",
              "    <div id=\"df-17eade9f-aab0-4647-a971-515e0dc72ebb\">\n",
              "      <button class=\"colab-df-quickchart\" onclick=\"quickchart('df-17eade9f-aab0-4647-a971-515e0dc72ebb')\"\n",
              "                title=\"Suggest charts\"\n",
              "                style=\"display:none;\">\n",
              "\n",
              "<svg xmlns=\"http://www.w3.org/2000/svg\" height=\"24px\"viewBox=\"0 0 24 24\"\n",
              "     width=\"24px\">\n",
              "    <g>\n",
              "        <path d=\"M19 3H5c-1.1 0-2 .9-2 2v14c0 1.1.9 2 2 2h14c1.1 0 2-.9 2-2V5c0-1.1-.9-2-2-2zM9 17H7v-7h2v7zm4 0h-2V7h2v10zm4 0h-2v-4h2v4z\"/>\n",
              "    </g>\n",
              "</svg>\n",
              "      </button>\n",
              "\n",
              "<style>\n",
              "  .colab-df-quickchart {\n",
              "      --bg-color: #E8F0FE;\n",
              "      --fill-color: #1967D2;\n",
              "      --hover-bg-color: #E2EBFA;\n",
              "      --hover-fill-color: #174EA6;\n",
              "      --disabled-fill-color: #AAA;\n",
              "      --disabled-bg-color: #DDD;\n",
              "  }\n",
              "\n",
              "  [theme=dark] .colab-df-quickchart {\n",
              "      --bg-color: #3B4455;\n",
              "      --fill-color: #D2E3FC;\n",
              "      --hover-bg-color: #434B5C;\n",
              "      --hover-fill-color: #FFFFFF;\n",
              "      --disabled-bg-color: #3B4455;\n",
              "      --disabled-fill-color: #666;\n",
              "  }\n",
              "\n",
              "  .colab-df-quickchart {\n",
              "    background-color: var(--bg-color);\n",
              "    border: none;\n",
              "    border-radius: 50%;\n",
              "    cursor: pointer;\n",
              "    display: none;\n",
              "    fill: var(--fill-color);\n",
              "    height: 32px;\n",
              "    padding: 0;\n",
              "    width: 32px;\n",
              "  }\n",
              "\n",
              "  .colab-df-quickchart:hover {\n",
              "    background-color: var(--hover-bg-color);\n",
              "    box-shadow: 0 1px 2px rgba(60, 64, 67, 0.3), 0 1px 3px 1px rgba(60, 64, 67, 0.15);\n",
              "    fill: var(--button-hover-fill-color);\n",
              "  }\n",
              "\n",
              "  .colab-df-quickchart-complete:disabled,\n",
              "  .colab-df-quickchart-complete:disabled:hover {\n",
              "    background-color: var(--disabled-bg-color);\n",
              "    fill: var(--disabled-fill-color);\n",
              "    box-shadow: none;\n",
              "  }\n",
              "\n",
              "  .colab-df-spinner {\n",
              "    border: 2px solid var(--fill-color);\n",
              "    border-color: transparent;\n",
              "    border-bottom-color: var(--fill-color);\n",
              "    animation:\n",
              "      spin 1s steps(1) infinite;\n",
              "  }\n",
              "\n",
              "  @keyframes spin {\n",
              "    0% {\n",
              "      border-color: transparent;\n",
              "      border-bottom-color: var(--fill-color);\n",
              "      border-left-color: var(--fill-color);\n",
              "    }\n",
              "    20% {\n",
              "      border-color: transparent;\n",
              "      border-left-color: var(--fill-color);\n",
              "      border-top-color: var(--fill-color);\n",
              "    }\n",
              "    30% {\n",
              "      border-color: transparent;\n",
              "      border-left-color: var(--fill-color);\n",
              "      border-top-color: var(--fill-color);\n",
              "      border-right-color: var(--fill-color);\n",
              "    }\n",
              "    40% {\n",
              "      border-color: transparent;\n",
              "      border-right-color: var(--fill-color);\n",
              "      border-top-color: var(--fill-color);\n",
              "    }\n",
              "    60% {\n",
              "      border-color: transparent;\n",
              "      border-right-color: var(--fill-color);\n",
              "    }\n",
              "    80% {\n",
              "      border-color: transparent;\n",
              "      border-right-color: var(--fill-color);\n",
              "      border-bottom-color: var(--fill-color);\n",
              "    }\n",
              "    90% {\n",
              "      border-color: transparent;\n",
              "      border-bottom-color: var(--fill-color);\n",
              "    }\n",
              "  }\n",
              "</style>\n",
              "\n",
              "      <script>\n",
              "        async function quickchart(key) {\n",
              "          const quickchartButtonEl =\n",
              "            document.querySelector('#' + key + ' button');\n",
              "          quickchartButtonEl.disabled = true;  // To prevent multiple clicks.\n",
              "          quickchartButtonEl.classList.add('colab-df-spinner');\n",
              "          try {\n",
              "            const charts = await google.colab.kernel.invokeFunction(\n",
              "                'suggestCharts', [key], {});\n",
              "          } catch (error) {\n",
              "            console.error('Error during call to suggestCharts:', error);\n",
              "          }\n",
              "          quickchartButtonEl.classList.remove('colab-df-spinner');\n",
              "          quickchartButtonEl.classList.add('colab-df-quickchart-complete');\n",
              "        }\n",
              "        (() => {\n",
              "          let quickchartButtonEl =\n",
              "            document.querySelector('#df-17eade9f-aab0-4647-a971-515e0dc72ebb button');\n",
              "          quickchartButtonEl.style.display =\n",
              "            google.colab.kernel.accessAllowed ? 'block' : 'none';\n",
              "        })();\n",
              "      </script>\n",
              "    </div>\n",
              "\n",
              "    </div>\n",
              "  </div>\n"
            ],
            "application/vnd.google.colaboratory.intrinsic+json": {
              "type": "dataframe",
              "variable_name": "dados",
              "summary": "{\n  \"name\": \"dados\",\n  \"rows\": 999,\n  \"fields\": [\n    {\n      \"column\": \"Series_Title\",\n      \"properties\": {\n        \"dtype\": \"string\",\n        \"num_unique_values\": 998,\n        \"samples\": [\n          \"Arsenic and Old Lace\",\n          \"Hedwig and the Angry Inch\",\n          \"\\u00d4kami kodomo no Ame to Yuki\"\n        ],\n        \"semantic_type\": \"\",\n        \"description\": \"\"\n      }\n    },\n    {\n      \"column\": \"Released_Year\",\n      \"properties\": {\n        \"dtype\": \"category\",\n        \"num_unique_values\": 100,\n        \"samples\": [\n          \"1934\",\n          \"1992\",\n          \"1989\"\n        ],\n        \"semantic_type\": \"\",\n        \"description\": \"\"\n      }\n    },\n    {\n      \"column\": \"Certificate\",\n      \"properties\": {\n        \"dtype\": \"category\",\n        \"num_unique_values\": 17,\n        \"samples\": [\n          \"A\",\n          \"UA\",\n          \"Not Rated\"\n        ],\n        \"semantic_type\": \"\",\n        \"description\": \"\"\n      }\n    },\n    {\n      \"column\": \"Runtime\",\n      \"properties\": {\n        \"dtype\": \"category\",\n        \"num_unique_values\": 140,\n        \"samples\": [\n          \"205 min\",\n          \"129 min\",\n          \"112 min\"\n        ],\n        \"semantic_type\": \"\",\n        \"description\": \"\"\n      }\n    },\n    {\n      \"column\": \"Genre\",\n      \"properties\": {\n        \"dtype\": \"category\",\n        \"num_unique_values\": 202,\n        \"samples\": [\n          \"Comedy, Drama, Fantasy\",\n          \"Crime, Drama, Fantasy\",\n          \"Drama, Romance, War\"\n        ],\n        \"semantic_type\": \"\",\n        \"description\": \"\"\n      }\n    },\n    {\n      \"column\": \"IMDB_Rating\",\n      \"properties\": {\n        \"dtype\": \"number\",\n        \"std\": 0.2722895085128789,\n        \"min\": 7.6,\n        \"max\": 9.2,\n        \"num_unique_values\": 16,\n        \"samples\": [\n          9.2,\n          9.0,\n          8.6\n        ],\n        \"semantic_type\": \"\",\n        \"description\": \"\"\n      }\n    },\n    {\n      \"column\": \"Overview\",\n      \"properties\": {\n        \"dtype\": \"string\",\n        \"num_unique_values\": 999,\n        \"samples\": [\n          \"Three World War II veterans return home to small-town America to discover that they and their families have been irreparably changed.\",\n          \"A gender-queer punk-rock singer from East Berlin tours the U.S. with her band as she tells her life story and follows the former lover/band-mate who stole her songs.\",\n          \"With his wife's disappearance having become the focus of an intense media circus, a man sees the spotlight turned on him when it's suspected that he may not be innocent.\"\n        ],\n        \"semantic_type\": \"\",\n        \"description\": \"\"\n      }\n    },\n    {\n      \"column\": \"Meta_score\",\n      \"properties\": {\n        \"dtype\": \"number\",\n        \"std\": 11.37376573152677,\n        \"min\": 28.0,\n        \"max\": 100.0,\n        \"num_unique_values\": 63,\n        \"samples\": [\n          30.0,\n          52.0,\n          100.0\n        ],\n        \"semantic_type\": \"\",\n        \"description\": \"\"\n      }\n    },\n    {\n      \"column\": \"Director\",\n      \"properties\": {\n        \"dtype\": \"string\",\n        \"num_unique_values\": 548,\n        \"samples\": [\n          \"Satoshi Kon\",\n          \"David Lean\",\n          \"Yilmaz Erdogan\"\n        ],\n        \"semantic_type\": \"\",\n        \"description\": \"\"\n      }\n    },\n    {\n      \"column\": \"Star1\",\n      \"properties\": {\n        \"dtype\": \"string\",\n        \"num_unique_values\": 659,\n        \"samples\": [\n          \"Peter Dinklage\",\n          \"Jay Baruchel\",\n          \"Steve McQueen\"\n        ],\n        \"semantic_type\": \"\",\n        \"description\": \"\"\n      }\n    },\n    {\n      \"column\": \"Star2\",\n      \"properties\": {\n        \"dtype\": \"string\",\n        \"num_unique_values\": 840,\n        \"samples\": [\n          \"Jacques Villeret\",\n          \"Meg Ryan\",\n          \"J.K. Simmons\"\n        ],\n        \"semantic_type\": \"\",\n        \"description\": \"\"\n      }\n    },\n    {\n      \"column\": \"Star3\",\n      \"properties\": {\n        \"dtype\": \"string\",\n        \"num_unique_values\": 890,\n        \"samples\": [\n          \"Yacef Saadi\",\n          \"John Wray\",\n          \"Chazz Palminteri\"\n        ],\n        \"semantic_type\": \"\",\n        \"description\": \"\"\n      }\n    },\n    {\n      \"column\": \"Star4\",\n      \"properties\": {\n        \"dtype\": \"string\",\n        \"num_unique_values\": 938,\n        \"samples\": [\n          \"Veronica Cartwright\",\n          \"Domhnall Gleeson\",\n          \"Jennifer Ulrich\"\n        ],\n        \"semantic_type\": \"\",\n        \"description\": \"\"\n      }\n    },\n    {\n      \"column\": \"No_of_Votes\",\n      \"properties\": {\n        \"dtype\": \"number\",\n        \"std\": 320912,\n        \"min\": 25088,\n        \"max\": 2303232,\n        \"num_unique_values\": 998,\n        \"samples\": [\n          57259,\n          31957,\n          859695\n        ],\n        \"semantic_type\": \"\",\n        \"description\": \"\"\n      }\n    },\n    {\n      \"column\": \"Gross\",\n      \"properties\": {\n        \"dtype\": \"string\",\n        \"num_unique_values\": 823,\n        \"samples\": [\n          \"132,092,958\",\n          \"67,209,615\",\n          \"78,900,000\"\n        ],\n        \"semantic_type\": \"\",\n        \"description\": \"\"\n      }\n    }\n  ]\n}"
            }
          },
          "metadata": {},
          "execution_count": 128
        }
      ]
    },
    {
      "cell_type": "code",
      "source": [
        "# Ajustando o Dtype da coluna 'Released_Year'\n",
        "# Verificando todos os valores únicos para identificar irregularidades\n",
        "dados['Released_Year'].unique()"
      ],
      "metadata": {
        "colab": {
          "base_uri": "https://localhost:8080/"
        },
        "id": "EDTqL9Xr3rLz",
        "outputId": "85a02af4-202a-4e06-c449-2c77706f47a0"
      },
      "execution_count": 129,
      "outputs": [
        {
          "output_type": "execute_result",
          "data": {
            "text/plain": [
              "array(['1972', '2008', '1974', '1957', '2003', '1994', '1993', '2010',\n",
              "       '1999', '2001', '1966', '2002', '1990', '1980', '1975', '2020',\n",
              "       '2019', '2014', '1998', '1997', '1995', '1991', '1977', '1962',\n",
              "       '1954', '1946', '2011', '2006', '2000', '1988', '1985', '1968',\n",
              "       '1960', '1942', '1936', '1931', '2018', '2017', '2016', '2012',\n",
              "       '2009', '2007', '1984', '1981', '1979', '1971', '1963', '1964',\n",
              "       '1950', '1940', '2013', '2005', '2004', '1992', '1987', '1986',\n",
              "       '1983', '1976', '1973', '1965', '1959', '1958', '1952', '1948',\n",
              "       '1944', '1941', '1927', '1921', '2015', '1996', '1989', '1978',\n",
              "       '1961', '1955', '1953', '1925', '1924', '1982', '1967', '1951',\n",
              "       '1949', '1939', '1937', '1934', '1928', '1926', '1920', '1970',\n",
              "       '1969', '1956', '1947', '1945', '1930', '1938', '1935', '1933',\n",
              "       '1932', '1922', '1943', 'PG'], dtype=object)"
            ]
          },
          "metadata": {},
          "execution_count": 129
        }
      ]
    },
    {
      "cell_type": "code",
      "source": [
        "# Contando quantos dados existem com o valor 'PG' na coluna Released_Year\n",
        "pg_cont = (dados['Released_Year'] == 'PG').sum()\n",
        "print(pg_cont)"
      ],
      "metadata": {
        "colab": {
          "base_uri": "https://localhost:8080/"
        },
        "id": "LS5HYL0L7mjF",
        "outputId": "647f37ea-4e78-4cad-f957-51a9edc04561"
      },
      "execution_count": 130,
      "outputs": [
        {
          "output_type": "stream",
          "name": "stdout",
          "text": [
            "1\n"
          ]
        }
      ]
    },
    {
      "cell_type": "code",
      "source": [
        "# Verificando em qual linha está o valor 'PG'\n",
        "pg_linhas = dados[dados['Released_Year'] == 'PG']\n",
        "print(pg_linhas)"
      ],
      "metadata": {
        "colab": {
          "base_uri": "https://localhost:8080/"
        },
        "id": "tUlIR39b6LMt",
        "outputId": "60acc5bc-9394-46b5-9fbc-2ba7c3ce783a"
      },
      "execution_count": 131,
      "outputs": [
        {
          "output_type": "stream",
          "name": "stdout",
          "text": [
            "    Series_Title Released_Year Certificate  Runtime  \\\n",
            "965    Apollo 13            PG           U  140 min   \n",
            "\n",
            "                         Genre  IMDB_Rating  \\\n",
            "965  Adventure, Drama, History          7.6   \n",
            "\n",
            "                                                                                                                                                                                   Overview  \\\n",
            "965  NASA must devise a strategy to return Apollo 13 to Earth safely after the spacecraft undergoes massive internal damage putting the lives of the three astronauts on board in jeopardy.   \n",
            "\n",
            "     Meta_score    Director      Star1        Star2        Star3        Star4  \\\n",
            "965        77.0  Ron Howard  Tom Hanks  Bill Paxton  Kevin Bacon  Gary Sinise   \n",
            "\n",
            "     No_of_Votes        Gross  \n",
            "965       269197  173,837,933  \n"
          ]
        }
      ]
    },
    {
      "cell_type": "code",
      "source": [
        "# Modificando o dado e inserindo o ano correto do filme. Fonte utilizada <https://www.imdb.com/pt/title/tt0112384/>\n",
        "dados.loc[dados['Released_Year'] == 'PG', 'Released_Year'] = 1995"
      ],
      "metadata": {
        "id": "1RRgoTmCFwfT"
      },
      "execution_count": 132,
      "outputs": []
    },
    {
      "cell_type": "code",
      "source": [
        "# Verificando se o dado foi modificado corretamente\n",
        "dados['Released_Year'].unique()"
      ],
      "metadata": {
        "colab": {
          "base_uri": "https://localhost:8080/"
        },
        "id": "0eE2Hr5TFwC7",
        "outputId": "661f8eea-9276-4997-be58-4ab672b157b5"
      },
      "execution_count": 133,
      "outputs": [
        {
          "output_type": "execute_result",
          "data": {
            "text/plain": [
              "array(['1972', '2008', '1974', '1957', '2003', '1994', '1993', '2010',\n",
              "       '1999', '2001', '1966', '2002', '1990', '1980', '1975', '2020',\n",
              "       '2019', '2014', '1998', '1997', '1995', '1991', '1977', '1962',\n",
              "       '1954', '1946', '2011', '2006', '2000', '1988', '1985', '1968',\n",
              "       '1960', '1942', '1936', '1931', '2018', '2017', '2016', '2012',\n",
              "       '2009', '2007', '1984', '1981', '1979', '1971', '1963', '1964',\n",
              "       '1950', '1940', '2013', '2005', '2004', '1992', '1987', '1986',\n",
              "       '1983', '1976', '1973', '1965', '1959', '1958', '1952', '1948',\n",
              "       '1944', '1941', '1927', '1921', '2015', '1996', '1989', '1978',\n",
              "       '1961', '1955', '1953', '1925', '1924', '1982', '1967', '1951',\n",
              "       '1949', '1939', '1937', '1934', '1928', '1926', '1920', '1970',\n",
              "       '1969', '1956', '1947', '1945', '1930', '1938', '1935', '1933',\n",
              "       '1932', '1922', '1943', 1995], dtype=object)"
            ]
          },
          "metadata": {},
          "execution_count": 133
        }
      ]
    },
    {
      "cell_type": "code",
      "source": [
        "# Transformando o Dtype em int\n",
        "dados['Released_Year'] = dados['Released_Year'].astype(int)\n",
        "dados.info()"
      ],
      "metadata": {
        "colab": {
          "base_uri": "https://localhost:8080/"
        },
        "id": "t6YtNVMCLFWL",
        "outputId": "e5713e5e-8633-4461-d3cb-538a1315ba60"
      },
      "execution_count": 134,
      "outputs": [
        {
          "output_type": "stream",
          "name": "stdout",
          "text": [
            "<class 'pandas.core.frame.DataFrame'>\n",
            "RangeIndex: 999 entries, 0 to 998\n",
            "Data columns (total 15 columns):\n",
            " #   Column         Non-Null Count  Dtype  \n",
            "---  ------         --------------  -----  \n",
            " 0   Series_Title   999 non-null    object \n",
            " 1   Released_Year  999 non-null    int64  \n",
            " 2   Certificate    999 non-null    object \n",
            " 3   Runtime        999 non-null    object \n",
            " 4   Genre          999 non-null    object \n",
            " 5   IMDB_Rating    999 non-null    float64\n",
            " 6   Overview       999 non-null    object \n",
            " 7   Meta_score     999 non-null    float64\n",
            " 8   Director       999 non-null    object \n",
            " 9   Star1          999 non-null    object \n",
            " 10  Star2          999 non-null    object \n",
            " 11  Star3          999 non-null    object \n",
            " 12  Star4          999 non-null    object \n",
            " 13  No_of_Votes    999 non-null    int64  \n",
            " 14  Gross          999 non-null    object \n",
            "dtypes: float64(2), int64(2), object(11)\n",
            "memory usage: 117.2+ KB\n"
          ]
        }
      ]
    },
    {
      "cell_type": "code",
      "source": [
        "# Criando uma nova coluna 'Runtime_min' removendo a parte textual 'min' e os espaços deixando apenas os números\n",
        "dados['Runtime_min'] = dados['Runtime'].str.replace('min', '', regex=False).str.strip()"
      ],
      "metadata": {
        "id": "vYTGPmeIrDbX"
      },
      "execution_count": 135,
      "outputs": []
    },
    {
      "cell_type": "code",
      "source": [
        "# Verificando se a coluna 'Runtime_min' foi criada corretamente\n",
        "dados.head(3)"
      ],
      "metadata": {
        "colab": {
          "base_uri": "https://localhost:8080/",
          "height": 386
        },
        "id": "lWG0xKp5yvmx",
        "outputId": "b12bfbf2-1f6a-4f45-ad57-0abbdffbe98d"
      },
      "execution_count": 136,
      "outputs": [
        {
          "output_type": "execute_result",
          "data": {
            "text/plain": [
              "             Series_Title  Released_Year Certificate  Runtime  \\\n",
              "0           The Godfather           1972           A  175 min   \n",
              "1         The Dark Knight           2008          UA  152 min   \n",
              "2  The Godfather: Part II           1974           A  202 min   \n",
              "\n",
              "                  Genre  IMDB_Rating  \\\n",
              "0          Crime, Drama          9.2   \n",
              "1  Action, Crime, Drama          9.0   \n",
              "2          Crime, Drama          9.0   \n",
              "\n",
              "                                                                                                                                                                                        Overview  \\\n",
              "0                                                                                 An organized crime dynasty's aging patriarch transfers control of his clandestine empire to his reluctant son.   \n",
              "1  When the menace known as the Joker wreaks havoc and chaos on the people of Gotham, Batman must accept one of the greatest psychological and physical tests of his ability to fight injustice.   \n",
              "2                           The early life and career of Vito Corleone in 1920s New York City is portrayed, while his son, Michael, expands and tightens his grip on the family crime syndicate.   \n",
              "\n",
              "   Meta_score              Director           Star1           Star2  \\\n",
              "0       100.0  Francis Ford Coppola   Marlon Brando       Al Pacino   \n",
              "1        84.0     Christopher Nolan  Christian Bale    Heath Ledger   \n",
              "2        90.0  Francis Ford Coppola       Al Pacino  Robert De Niro   \n",
              "\n",
              "           Star3          Star4  No_of_Votes        Gross Runtime_min  \n",
              "0     James Caan   Diane Keaton      1620367  134,966,411         175  \n",
              "1  Aaron Eckhart  Michael Caine      2303232  534,858,444         152  \n",
              "2  Robert Duvall   Diane Keaton      1129952   57,300,000         202  "
            ],
            "text/html": [
              "\n",
              "  <div id=\"df-903d2f88-d808-4f3c-853b-6929c7594e97\" class=\"colab-df-container\">\n",
              "    <div>\n",
              "<style scoped>\n",
              "    .dataframe tbody tr th:only-of-type {\n",
              "        vertical-align: middle;\n",
              "    }\n",
              "\n",
              "    .dataframe tbody tr th {\n",
              "        vertical-align: top;\n",
              "    }\n",
              "\n",
              "    .dataframe thead th {\n",
              "        text-align: right;\n",
              "    }\n",
              "</style>\n",
              "<table border=\"1\" class=\"dataframe\">\n",
              "  <thead>\n",
              "    <tr style=\"text-align: right;\">\n",
              "      <th></th>\n",
              "      <th>Series_Title</th>\n",
              "      <th>Released_Year</th>\n",
              "      <th>Certificate</th>\n",
              "      <th>Runtime</th>\n",
              "      <th>Genre</th>\n",
              "      <th>IMDB_Rating</th>\n",
              "      <th>Overview</th>\n",
              "      <th>Meta_score</th>\n",
              "      <th>Director</th>\n",
              "      <th>Star1</th>\n",
              "      <th>Star2</th>\n",
              "      <th>Star3</th>\n",
              "      <th>Star4</th>\n",
              "      <th>No_of_Votes</th>\n",
              "      <th>Gross</th>\n",
              "      <th>Runtime_min</th>\n",
              "    </tr>\n",
              "  </thead>\n",
              "  <tbody>\n",
              "    <tr>\n",
              "      <th>0</th>\n",
              "      <td>The Godfather</td>\n",
              "      <td>1972</td>\n",
              "      <td>A</td>\n",
              "      <td>175 min</td>\n",
              "      <td>Crime, Drama</td>\n",
              "      <td>9.2</td>\n",
              "      <td>An organized crime dynasty's aging patriarch transfers control of his clandestine empire to his reluctant son.</td>\n",
              "      <td>100.0</td>\n",
              "      <td>Francis Ford Coppola</td>\n",
              "      <td>Marlon Brando</td>\n",
              "      <td>Al Pacino</td>\n",
              "      <td>James Caan</td>\n",
              "      <td>Diane Keaton</td>\n",
              "      <td>1620367</td>\n",
              "      <td>134,966,411</td>\n",
              "      <td>175</td>\n",
              "    </tr>\n",
              "    <tr>\n",
              "      <th>1</th>\n",
              "      <td>The Dark Knight</td>\n",
              "      <td>2008</td>\n",
              "      <td>UA</td>\n",
              "      <td>152 min</td>\n",
              "      <td>Action, Crime, Drama</td>\n",
              "      <td>9.0</td>\n",
              "      <td>When the menace known as the Joker wreaks havoc and chaos on the people of Gotham, Batman must accept one of the greatest psychological and physical tests of his ability to fight injustice.</td>\n",
              "      <td>84.0</td>\n",
              "      <td>Christopher Nolan</td>\n",
              "      <td>Christian Bale</td>\n",
              "      <td>Heath Ledger</td>\n",
              "      <td>Aaron Eckhart</td>\n",
              "      <td>Michael Caine</td>\n",
              "      <td>2303232</td>\n",
              "      <td>534,858,444</td>\n",
              "      <td>152</td>\n",
              "    </tr>\n",
              "    <tr>\n",
              "      <th>2</th>\n",
              "      <td>The Godfather: Part II</td>\n",
              "      <td>1974</td>\n",
              "      <td>A</td>\n",
              "      <td>202 min</td>\n",
              "      <td>Crime, Drama</td>\n",
              "      <td>9.0</td>\n",
              "      <td>The early life and career of Vito Corleone in 1920s New York City is portrayed, while his son, Michael, expands and tightens his grip on the family crime syndicate.</td>\n",
              "      <td>90.0</td>\n",
              "      <td>Francis Ford Coppola</td>\n",
              "      <td>Al Pacino</td>\n",
              "      <td>Robert De Niro</td>\n",
              "      <td>Robert Duvall</td>\n",
              "      <td>Diane Keaton</td>\n",
              "      <td>1129952</td>\n",
              "      <td>57,300,000</td>\n",
              "      <td>202</td>\n",
              "    </tr>\n",
              "  </tbody>\n",
              "</table>\n",
              "</div>\n",
              "    <div class=\"colab-df-buttons\">\n",
              "\n",
              "  <div class=\"colab-df-container\">\n",
              "    <button class=\"colab-df-convert\" onclick=\"convertToInteractive('df-903d2f88-d808-4f3c-853b-6929c7594e97')\"\n",
              "            title=\"Convert this dataframe to an interactive table.\"\n",
              "            style=\"display:none;\">\n",
              "\n",
              "  <svg xmlns=\"http://www.w3.org/2000/svg\" height=\"24px\" viewBox=\"0 -960 960 960\">\n",
              "    <path d=\"M120-120v-720h720v720H120Zm60-500h600v-160H180v160Zm220 220h160v-160H400v160Zm0 220h160v-160H400v160ZM180-400h160v-160H180v160Zm440 0h160v-160H620v160ZM180-180h160v-160H180v160Zm440 0h160v-160H620v160Z\"/>\n",
              "  </svg>\n",
              "    </button>\n",
              "\n",
              "  <style>\n",
              "    .colab-df-container {\n",
              "      display:flex;\n",
              "      gap: 12px;\n",
              "    }\n",
              "\n",
              "    .colab-df-convert {\n",
              "      background-color: #E8F0FE;\n",
              "      border: none;\n",
              "      border-radius: 50%;\n",
              "      cursor: pointer;\n",
              "      display: none;\n",
              "      fill: #1967D2;\n",
              "      height: 32px;\n",
              "      padding: 0 0 0 0;\n",
              "      width: 32px;\n",
              "    }\n",
              "\n",
              "    .colab-df-convert:hover {\n",
              "      background-color: #E2EBFA;\n",
              "      box-shadow: 0px 1px 2px rgba(60, 64, 67, 0.3), 0px 1px 3px 1px rgba(60, 64, 67, 0.15);\n",
              "      fill: #174EA6;\n",
              "    }\n",
              "\n",
              "    .colab-df-buttons div {\n",
              "      margin-bottom: 4px;\n",
              "    }\n",
              "\n",
              "    [theme=dark] .colab-df-convert {\n",
              "      background-color: #3B4455;\n",
              "      fill: #D2E3FC;\n",
              "    }\n",
              "\n",
              "    [theme=dark] .colab-df-convert:hover {\n",
              "      background-color: #434B5C;\n",
              "      box-shadow: 0px 1px 3px 1px rgba(0, 0, 0, 0.15);\n",
              "      filter: drop-shadow(0px 1px 2px rgba(0, 0, 0, 0.3));\n",
              "      fill: #FFFFFF;\n",
              "    }\n",
              "  </style>\n",
              "\n",
              "    <script>\n",
              "      const buttonEl =\n",
              "        document.querySelector('#df-903d2f88-d808-4f3c-853b-6929c7594e97 button.colab-df-convert');\n",
              "      buttonEl.style.display =\n",
              "        google.colab.kernel.accessAllowed ? 'block' : 'none';\n",
              "\n",
              "      async function convertToInteractive(key) {\n",
              "        const element = document.querySelector('#df-903d2f88-d808-4f3c-853b-6929c7594e97');\n",
              "        const dataTable =\n",
              "          await google.colab.kernel.invokeFunction('convertToInteractive',\n",
              "                                                    [key], {});\n",
              "        if (!dataTable) return;\n",
              "\n",
              "        const docLinkHtml = 'Like what you see? Visit the ' +\n",
              "          '<a target=\"_blank\" href=https://colab.research.google.com/notebooks/data_table.ipynb>data table notebook</a>'\n",
              "          + ' to learn more about interactive tables.';\n",
              "        element.innerHTML = '';\n",
              "        dataTable['output_type'] = 'display_data';\n",
              "        await google.colab.output.renderOutput(dataTable, element);\n",
              "        const docLink = document.createElement('div');\n",
              "        docLink.innerHTML = docLinkHtml;\n",
              "        element.appendChild(docLink);\n",
              "      }\n",
              "    </script>\n",
              "  </div>\n",
              "\n",
              "\n",
              "    <div id=\"df-df409793-add1-4e43-a994-1f8f77e537de\">\n",
              "      <button class=\"colab-df-quickchart\" onclick=\"quickchart('df-df409793-add1-4e43-a994-1f8f77e537de')\"\n",
              "                title=\"Suggest charts\"\n",
              "                style=\"display:none;\">\n",
              "\n",
              "<svg xmlns=\"http://www.w3.org/2000/svg\" height=\"24px\"viewBox=\"0 0 24 24\"\n",
              "     width=\"24px\">\n",
              "    <g>\n",
              "        <path d=\"M19 3H5c-1.1 0-2 .9-2 2v14c0 1.1.9 2 2 2h14c1.1 0 2-.9 2-2V5c0-1.1-.9-2-2-2zM9 17H7v-7h2v7zm4 0h-2V7h2v10zm4 0h-2v-4h2v4z\"/>\n",
              "    </g>\n",
              "</svg>\n",
              "      </button>\n",
              "\n",
              "<style>\n",
              "  .colab-df-quickchart {\n",
              "      --bg-color: #E8F0FE;\n",
              "      --fill-color: #1967D2;\n",
              "      --hover-bg-color: #E2EBFA;\n",
              "      --hover-fill-color: #174EA6;\n",
              "      --disabled-fill-color: #AAA;\n",
              "      --disabled-bg-color: #DDD;\n",
              "  }\n",
              "\n",
              "  [theme=dark] .colab-df-quickchart {\n",
              "      --bg-color: #3B4455;\n",
              "      --fill-color: #D2E3FC;\n",
              "      --hover-bg-color: #434B5C;\n",
              "      --hover-fill-color: #FFFFFF;\n",
              "      --disabled-bg-color: #3B4455;\n",
              "      --disabled-fill-color: #666;\n",
              "  }\n",
              "\n",
              "  .colab-df-quickchart {\n",
              "    background-color: var(--bg-color);\n",
              "    border: none;\n",
              "    border-radius: 50%;\n",
              "    cursor: pointer;\n",
              "    display: none;\n",
              "    fill: var(--fill-color);\n",
              "    height: 32px;\n",
              "    padding: 0;\n",
              "    width: 32px;\n",
              "  }\n",
              "\n",
              "  .colab-df-quickchart:hover {\n",
              "    background-color: var(--hover-bg-color);\n",
              "    box-shadow: 0 1px 2px rgba(60, 64, 67, 0.3), 0 1px 3px 1px rgba(60, 64, 67, 0.15);\n",
              "    fill: var(--button-hover-fill-color);\n",
              "  }\n",
              "\n",
              "  .colab-df-quickchart-complete:disabled,\n",
              "  .colab-df-quickchart-complete:disabled:hover {\n",
              "    background-color: var(--disabled-bg-color);\n",
              "    fill: var(--disabled-fill-color);\n",
              "    box-shadow: none;\n",
              "  }\n",
              "\n",
              "  .colab-df-spinner {\n",
              "    border: 2px solid var(--fill-color);\n",
              "    border-color: transparent;\n",
              "    border-bottom-color: var(--fill-color);\n",
              "    animation:\n",
              "      spin 1s steps(1) infinite;\n",
              "  }\n",
              "\n",
              "  @keyframes spin {\n",
              "    0% {\n",
              "      border-color: transparent;\n",
              "      border-bottom-color: var(--fill-color);\n",
              "      border-left-color: var(--fill-color);\n",
              "    }\n",
              "    20% {\n",
              "      border-color: transparent;\n",
              "      border-left-color: var(--fill-color);\n",
              "      border-top-color: var(--fill-color);\n",
              "    }\n",
              "    30% {\n",
              "      border-color: transparent;\n",
              "      border-left-color: var(--fill-color);\n",
              "      border-top-color: var(--fill-color);\n",
              "      border-right-color: var(--fill-color);\n",
              "    }\n",
              "    40% {\n",
              "      border-color: transparent;\n",
              "      border-right-color: var(--fill-color);\n",
              "      border-top-color: var(--fill-color);\n",
              "    }\n",
              "    60% {\n",
              "      border-color: transparent;\n",
              "      border-right-color: var(--fill-color);\n",
              "    }\n",
              "    80% {\n",
              "      border-color: transparent;\n",
              "      border-right-color: var(--fill-color);\n",
              "      border-bottom-color: var(--fill-color);\n",
              "    }\n",
              "    90% {\n",
              "      border-color: transparent;\n",
              "      border-bottom-color: var(--fill-color);\n",
              "    }\n",
              "  }\n",
              "</style>\n",
              "\n",
              "      <script>\n",
              "        async function quickchart(key) {\n",
              "          const quickchartButtonEl =\n",
              "            document.querySelector('#' + key + ' button');\n",
              "          quickchartButtonEl.disabled = true;  // To prevent multiple clicks.\n",
              "          quickchartButtonEl.classList.add('colab-df-spinner');\n",
              "          try {\n",
              "            const charts = await google.colab.kernel.invokeFunction(\n",
              "                'suggestCharts', [key], {});\n",
              "          } catch (error) {\n",
              "            console.error('Error during call to suggestCharts:', error);\n",
              "          }\n",
              "          quickchartButtonEl.classList.remove('colab-df-spinner');\n",
              "          quickchartButtonEl.classList.add('colab-df-quickchart-complete');\n",
              "        }\n",
              "        (() => {\n",
              "          let quickchartButtonEl =\n",
              "            document.querySelector('#df-df409793-add1-4e43-a994-1f8f77e537de button');\n",
              "          quickchartButtonEl.style.display =\n",
              "            google.colab.kernel.accessAllowed ? 'block' : 'none';\n",
              "        })();\n",
              "      </script>\n",
              "    </div>\n",
              "\n",
              "    </div>\n",
              "  </div>\n"
            ],
            "application/vnd.google.colaboratory.intrinsic+json": {
              "type": "dataframe",
              "variable_name": "dados",
              "summary": "{\n  \"name\": \"dados\",\n  \"rows\": 999,\n  \"fields\": [\n    {\n      \"column\": \"Series_Title\",\n      \"properties\": {\n        \"dtype\": \"string\",\n        \"num_unique_values\": 998,\n        \"samples\": [\n          \"Arsenic and Old Lace\",\n          \"Hedwig and the Angry Inch\",\n          \"\\u00d4kami kodomo no Ame to Yuki\"\n        ],\n        \"semantic_type\": \"\",\n        \"description\": \"\"\n      }\n    },\n    {\n      \"column\": \"Released_Year\",\n      \"properties\": {\n        \"dtype\": \"number\",\n        \"std\": 23,\n        \"min\": 1920,\n        \"max\": 2020,\n        \"num_unique_values\": 99,\n        \"samples\": [\n          1952,\n          2009,\n          1933\n        ],\n        \"semantic_type\": \"\",\n        \"description\": \"\"\n      }\n    },\n    {\n      \"column\": \"Certificate\",\n      \"properties\": {\n        \"dtype\": \"category\",\n        \"num_unique_values\": 17,\n        \"samples\": [\n          \"A\",\n          \"UA\",\n          \"Not Rated\"\n        ],\n        \"semantic_type\": \"\",\n        \"description\": \"\"\n      }\n    },\n    {\n      \"column\": \"Runtime\",\n      \"properties\": {\n        \"dtype\": \"category\",\n        \"num_unique_values\": 140,\n        \"samples\": [\n          \"205 min\",\n          \"129 min\",\n          \"112 min\"\n        ],\n        \"semantic_type\": \"\",\n        \"description\": \"\"\n      }\n    },\n    {\n      \"column\": \"Genre\",\n      \"properties\": {\n        \"dtype\": \"category\",\n        \"num_unique_values\": 202,\n        \"samples\": [\n          \"Comedy, Drama, Fantasy\",\n          \"Crime, Drama, Fantasy\",\n          \"Drama, Romance, War\"\n        ],\n        \"semantic_type\": \"\",\n        \"description\": \"\"\n      }\n    },\n    {\n      \"column\": \"IMDB_Rating\",\n      \"properties\": {\n        \"dtype\": \"number\",\n        \"std\": 0.2722895085128789,\n        \"min\": 7.6,\n        \"max\": 9.2,\n        \"num_unique_values\": 16,\n        \"samples\": [\n          9.2,\n          9.0,\n          8.6\n        ],\n        \"semantic_type\": \"\",\n        \"description\": \"\"\n      }\n    },\n    {\n      \"column\": \"Overview\",\n      \"properties\": {\n        \"dtype\": \"string\",\n        \"num_unique_values\": 999,\n        \"samples\": [\n          \"Three World War II veterans return home to small-town America to discover that they and their families have been irreparably changed.\",\n          \"A gender-queer punk-rock singer from East Berlin tours the U.S. with her band as she tells her life story and follows the former lover/band-mate who stole her songs.\",\n          \"With his wife's disappearance having become the focus of an intense media circus, a man sees the spotlight turned on him when it's suspected that he may not be innocent.\"\n        ],\n        \"semantic_type\": \"\",\n        \"description\": \"\"\n      }\n    },\n    {\n      \"column\": \"Meta_score\",\n      \"properties\": {\n        \"dtype\": \"number\",\n        \"std\": 11.37376573152677,\n        \"min\": 28.0,\n        \"max\": 100.0,\n        \"num_unique_values\": 63,\n        \"samples\": [\n          30.0,\n          52.0,\n          100.0\n        ],\n        \"semantic_type\": \"\",\n        \"description\": \"\"\n      }\n    },\n    {\n      \"column\": \"Director\",\n      \"properties\": {\n        \"dtype\": \"string\",\n        \"num_unique_values\": 548,\n        \"samples\": [\n          \"Satoshi Kon\",\n          \"David Lean\",\n          \"Yilmaz Erdogan\"\n        ],\n        \"semantic_type\": \"\",\n        \"description\": \"\"\n      }\n    },\n    {\n      \"column\": \"Star1\",\n      \"properties\": {\n        \"dtype\": \"string\",\n        \"num_unique_values\": 659,\n        \"samples\": [\n          \"Peter Dinklage\",\n          \"Jay Baruchel\",\n          \"Steve McQueen\"\n        ],\n        \"semantic_type\": \"\",\n        \"description\": \"\"\n      }\n    },\n    {\n      \"column\": \"Star2\",\n      \"properties\": {\n        \"dtype\": \"string\",\n        \"num_unique_values\": 840,\n        \"samples\": [\n          \"Jacques Villeret\",\n          \"Meg Ryan\",\n          \"J.K. Simmons\"\n        ],\n        \"semantic_type\": \"\",\n        \"description\": \"\"\n      }\n    },\n    {\n      \"column\": \"Star3\",\n      \"properties\": {\n        \"dtype\": \"string\",\n        \"num_unique_values\": 890,\n        \"samples\": [\n          \"Yacef Saadi\",\n          \"John Wray\",\n          \"Chazz Palminteri\"\n        ],\n        \"semantic_type\": \"\",\n        \"description\": \"\"\n      }\n    },\n    {\n      \"column\": \"Star4\",\n      \"properties\": {\n        \"dtype\": \"string\",\n        \"num_unique_values\": 938,\n        \"samples\": [\n          \"Veronica Cartwright\",\n          \"Domhnall Gleeson\",\n          \"Jennifer Ulrich\"\n        ],\n        \"semantic_type\": \"\",\n        \"description\": \"\"\n      }\n    },\n    {\n      \"column\": \"No_of_Votes\",\n      \"properties\": {\n        \"dtype\": \"number\",\n        \"std\": 320912,\n        \"min\": 25088,\n        \"max\": 2303232,\n        \"num_unique_values\": 998,\n        \"samples\": [\n          57259,\n          31957,\n          859695\n        ],\n        \"semantic_type\": \"\",\n        \"description\": \"\"\n      }\n    },\n    {\n      \"column\": \"Gross\",\n      \"properties\": {\n        \"dtype\": \"string\",\n        \"num_unique_values\": 823,\n        \"samples\": [\n          \"132,092,958\",\n          \"67,209,615\",\n          \"78,900,000\"\n        ],\n        \"semantic_type\": \"\",\n        \"description\": \"\"\n      }\n    },\n    {\n      \"column\": \"Runtime_min\",\n      \"properties\": {\n        \"dtype\": \"category\",\n        \"num_unique_values\": 140,\n        \"samples\": [\n          \"205\",\n          \"129\",\n          \"112\"\n        ],\n        \"semantic_type\": \"\",\n        \"description\": \"\"\n      }\n    }\n  ]\n}"
            }
          },
          "metadata": {},
          "execution_count": 136
        }
      ]
    },
    {
      "cell_type": "code",
      "source": [
        "# Modificando o tipo da coluna 'Runtime_min' para int\n",
        "dados['Runtime_min'] = dados['Runtime_min'].astype(int)"
      ],
      "metadata": {
        "id": "5Hz_yR2DtfIc"
      },
      "execution_count": 137,
      "outputs": []
    },
    {
      "cell_type": "code",
      "source": [
        "# Verificando se o tipo da coluna 'Runtime_min' foi modificado corretamente\n",
        "dados.info()"
      ],
      "metadata": {
        "colab": {
          "base_uri": "https://localhost:8080/"
        },
        "id": "vRTRrxhsuHC5",
        "outputId": "d547d869-067f-418c-f4bd-c0a6211b1aa8"
      },
      "execution_count": 138,
      "outputs": [
        {
          "output_type": "stream",
          "name": "stdout",
          "text": [
            "<class 'pandas.core.frame.DataFrame'>\n",
            "RangeIndex: 999 entries, 0 to 998\n",
            "Data columns (total 16 columns):\n",
            " #   Column         Non-Null Count  Dtype  \n",
            "---  ------         --------------  -----  \n",
            " 0   Series_Title   999 non-null    object \n",
            " 1   Released_Year  999 non-null    int64  \n",
            " 2   Certificate    999 non-null    object \n",
            " 3   Runtime        999 non-null    object \n",
            " 4   Genre          999 non-null    object \n",
            " 5   IMDB_Rating    999 non-null    float64\n",
            " 6   Overview       999 non-null    object \n",
            " 7   Meta_score     999 non-null    float64\n",
            " 8   Director       999 non-null    object \n",
            " 9   Star1          999 non-null    object \n",
            " 10  Star2          999 non-null    object \n",
            " 11  Star3          999 non-null    object \n",
            " 12  Star4          999 non-null    object \n",
            " 13  No_of_Votes    999 non-null    int64  \n",
            " 14  Gross          999 non-null    object \n",
            " 15  Runtime_min    999 non-null    int64  \n",
            "dtypes: float64(2), int64(3), object(11)\n",
            "memory usage: 125.0+ KB\n"
          ]
        }
      ]
    },
    {
      "cell_type": "code",
      "source": [
        "# Removendo os possíveis espaços extras nas colunas descritivas do tipo 'object'\n",
        "for col in dados.select_dtypes(include=['object']).columns:\n",
        "  dados[col] = dados[col].str.strip()"
      ],
      "metadata": {
        "id": "M9X8a5HVO8Le"
      },
      "execution_count": 139,
      "outputs": []
    },
    {
      "cell_type": "code",
      "source": [
        "# Padronizando os textos das colunas textuais 'Genre' e 'Overview' deixando em lowercase para melhor visualização\n",
        "dados_text_lower = ['Genre', 'Overview']\n",
        "for col in dados_text_lower:\n",
        "  dados[col] = dados[col].str.lower()"
      ],
      "metadata": {
        "id": "egbzKgGO0mqn"
      },
      "execution_count": 140,
      "outputs": []
    },
    {
      "cell_type": "code",
      "source": [
        "# Verificando se a padronização do texto foi aplicada corretamente\n",
        "dados.head()"
      ],
      "metadata": {
        "id": "edlae4-71X7b",
        "colab": {
          "base_uri": "https://localhost:8080/",
          "height": 692
        },
        "outputId": "33f27f36-93bc-4e96-afe5-c62378367e15"
      },
      "execution_count": 141,
      "outputs": [
        {
          "output_type": "execute_result",
          "data": {
            "text/plain": [
              "                                    Series_Title  Released_Year Certificate  \\\n",
              "0                                  The Godfather           1972           A   \n",
              "1                                The Dark Knight           2008          UA   \n",
              "2                         The Godfather: Part II           1974           A   \n",
              "3                                   12 Angry Men           1957           U   \n",
              "4  The Lord of the Rings: The Return of the King           2003           U   \n",
              "\n",
              "   Runtime                     Genre  IMDB_Rating  \\\n",
              "0  175 min              crime, drama          9.2   \n",
              "1  152 min      action, crime, drama          9.0   \n",
              "2  202 min              crime, drama          9.0   \n",
              "3   96 min              crime, drama          9.0   \n",
              "4  201 min  action, adventure, drama          8.9   \n",
              "\n",
              "                                                                                                                                                                                        Overview  \\\n",
              "0                                                                                 an organized crime dynasty's aging patriarch transfers control of his clandestine empire to his reluctant son.   \n",
              "1  when the menace known as the joker wreaks havoc and chaos on the people of gotham, batman must accept one of the greatest psychological and physical tests of his ability to fight injustice.   \n",
              "2                           the early life and career of vito corleone in 1920s new york city is portrayed, while his son, michael, expands and tightens his grip on the family crime syndicate.   \n",
              "3                                                                              a jury holdout attempts to prevent a miscarriage of justice by forcing his colleagues to reconsider the evidence.   \n",
              "4                                             gandalf and aragorn lead the world of men against sauron's army to draw his gaze from frodo and sam as they approach mount doom with the one ring.   \n",
              "\n",
              "   Meta_score              Director           Star1            Star2  \\\n",
              "0       100.0  Francis Ford Coppola   Marlon Brando        Al Pacino   \n",
              "1        84.0     Christopher Nolan  Christian Bale     Heath Ledger   \n",
              "2        90.0  Francis Ford Coppola       Al Pacino   Robert De Niro   \n",
              "3        96.0          Sidney Lumet     Henry Fonda      Lee J. Cobb   \n",
              "4        94.0         Peter Jackson     Elijah Wood  Viggo Mortensen   \n",
              "\n",
              "           Star3          Star4  No_of_Votes        Gross  Runtime_min  \n",
              "0     James Caan   Diane Keaton      1620367  134,966,411          175  \n",
              "1  Aaron Eckhart  Michael Caine      2303232  534,858,444          152  \n",
              "2  Robert Duvall   Diane Keaton      1129952   57,300,000          202  \n",
              "3  Martin Balsam   John Fiedler       689845    4,360,000           96  \n",
              "4   Ian McKellen  Orlando Bloom      1642758  377,845,905          201  "
            ],
            "text/html": [
              "\n",
              "  <div id=\"df-924351ad-d222-42bf-9c1c-7142264f7340\" class=\"colab-df-container\">\n",
              "    <div>\n",
              "<style scoped>\n",
              "    .dataframe tbody tr th:only-of-type {\n",
              "        vertical-align: middle;\n",
              "    }\n",
              "\n",
              "    .dataframe tbody tr th {\n",
              "        vertical-align: top;\n",
              "    }\n",
              "\n",
              "    .dataframe thead th {\n",
              "        text-align: right;\n",
              "    }\n",
              "</style>\n",
              "<table border=\"1\" class=\"dataframe\">\n",
              "  <thead>\n",
              "    <tr style=\"text-align: right;\">\n",
              "      <th></th>\n",
              "      <th>Series_Title</th>\n",
              "      <th>Released_Year</th>\n",
              "      <th>Certificate</th>\n",
              "      <th>Runtime</th>\n",
              "      <th>Genre</th>\n",
              "      <th>IMDB_Rating</th>\n",
              "      <th>Overview</th>\n",
              "      <th>Meta_score</th>\n",
              "      <th>Director</th>\n",
              "      <th>Star1</th>\n",
              "      <th>Star2</th>\n",
              "      <th>Star3</th>\n",
              "      <th>Star4</th>\n",
              "      <th>No_of_Votes</th>\n",
              "      <th>Gross</th>\n",
              "      <th>Runtime_min</th>\n",
              "    </tr>\n",
              "  </thead>\n",
              "  <tbody>\n",
              "    <tr>\n",
              "      <th>0</th>\n",
              "      <td>The Godfather</td>\n",
              "      <td>1972</td>\n",
              "      <td>A</td>\n",
              "      <td>175 min</td>\n",
              "      <td>crime, drama</td>\n",
              "      <td>9.2</td>\n",
              "      <td>an organized crime dynasty's aging patriarch transfers control of his clandestine empire to his reluctant son.</td>\n",
              "      <td>100.0</td>\n",
              "      <td>Francis Ford Coppola</td>\n",
              "      <td>Marlon Brando</td>\n",
              "      <td>Al Pacino</td>\n",
              "      <td>James Caan</td>\n",
              "      <td>Diane Keaton</td>\n",
              "      <td>1620367</td>\n",
              "      <td>134,966,411</td>\n",
              "      <td>175</td>\n",
              "    </tr>\n",
              "    <tr>\n",
              "      <th>1</th>\n",
              "      <td>The Dark Knight</td>\n",
              "      <td>2008</td>\n",
              "      <td>UA</td>\n",
              "      <td>152 min</td>\n",
              "      <td>action, crime, drama</td>\n",
              "      <td>9.0</td>\n",
              "      <td>when the menace known as the joker wreaks havoc and chaos on the people of gotham, batman must accept one of the greatest psychological and physical tests of his ability to fight injustice.</td>\n",
              "      <td>84.0</td>\n",
              "      <td>Christopher Nolan</td>\n",
              "      <td>Christian Bale</td>\n",
              "      <td>Heath Ledger</td>\n",
              "      <td>Aaron Eckhart</td>\n",
              "      <td>Michael Caine</td>\n",
              "      <td>2303232</td>\n",
              "      <td>534,858,444</td>\n",
              "      <td>152</td>\n",
              "    </tr>\n",
              "    <tr>\n",
              "      <th>2</th>\n",
              "      <td>The Godfather: Part II</td>\n",
              "      <td>1974</td>\n",
              "      <td>A</td>\n",
              "      <td>202 min</td>\n",
              "      <td>crime, drama</td>\n",
              "      <td>9.0</td>\n",
              "      <td>the early life and career of vito corleone in 1920s new york city is portrayed, while his son, michael, expands and tightens his grip on the family crime syndicate.</td>\n",
              "      <td>90.0</td>\n",
              "      <td>Francis Ford Coppola</td>\n",
              "      <td>Al Pacino</td>\n",
              "      <td>Robert De Niro</td>\n",
              "      <td>Robert Duvall</td>\n",
              "      <td>Diane Keaton</td>\n",
              "      <td>1129952</td>\n",
              "      <td>57,300,000</td>\n",
              "      <td>202</td>\n",
              "    </tr>\n",
              "    <tr>\n",
              "      <th>3</th>\n",
              "      <td>12 Angry Men</td>\n",
              "      <td>1957</td>\n",
              "      <td>U</td>\n",
              "      <td>96 min</td>\n",
              "      <td>crime, drama</td>\n",
              "      <td>9.0</td>\n",
              "      <td>a jury holdout attempts to prevent a miscarriage of justice by forcing his colleagues to reconsider the evidence.</td>\n",
              "      <td>96.0</td>\n",
              "      <td>Sidney Lumet</td>\n",
              "      <td>Henry Fonda</td>\n",
              "      <td>Lee J. Cobb</td>\n",
              "      <td>Martin Balsam</td>\n",
              "      <td>John Fiedler</td>\n",
              "      <td>689845</td>\n",
              "      <td>4,360,000</td>\n",
              "      <td>96</td>\n",
              "    </tr>\n",
              "    <tr>\n",
              "      <th>4</th>\n",
              "      <td>The Lord of the Rings: The Return of the King</td>\n",
              "      <td>2003</td>\n",
              "      <td>U</td>\n",
              "      <td>201 min</td>\n",
              "      <td>action, adventure, drama</td>\n",
              "      <td>8.9</td>\n",
              "      <td>gandalf and aragorn lead the world of men against sauron's army to draw his gaze from frodo and sam as they approach mount doom with the one ring.</td>\n",
              "      <td>94.0</td>\n",
              "      <td>Peter Jackson</td>\n",
              "      <td>Elijah Wood</td>\n",
              "      <td>Viggo Mortensen</td>\n",
              "      <td>Ian McKellen</td>\n",
              "      <td>Orlando Bloom</td>\n",
              "      <td>1642758</td>\n",
              "      <td>377,845,905</td>\n",
              "      <td>201</td>\n",
              "    </tr>\n",
              "  </tbody>\n",
              "</table>\n",
              "</div>\n",
              "    <div class=\"colab-df-buttons\">\n",
              "\n",
              "  <div class=\"colab-df-container\">\n",
              "    <button class=\"colab-df-convert\" onclick=\"convertToInteractive('df-924351ad-d222-42bf-9c1c-7142264f7340')\"\n",
              "            title=\"Convert this dataframe to an interactive table.\"\n",
              "            style=\"display:none;\">\n",
              "\n",
              "  <svg xmlns=\"http://www.w3.org/2000/svg\" height=\"24px\" viewBox=\"0 -960 960 960\">\n",
              "    <path d=\"M120-120v-720h720v720H120Zm60-500h600v-160H180v160Zm220 220h160v-160H400v160Zm0 220h160v-160H400v160ZM180-400h160v-160H180v160Zm440 0h160v-160H620v160ZM180-180h160v-160H180v160Zm440 0h160v-160H620v160Z\"/>\n",
              "  </svg>\n",
              "    </button>\n",
              "\n",
              "  <style>\n",
              "    .colab-df-container {\n",
              "      display:flex;\n",
              "      gap: 12px;\n",
              "    }\n",
              "\n",
              "    .colab-df-convert {\n",
              "      background-color: #E8F0FE;\n",
              "      border: none;\n",
              "      border-radius: 50%;\n",
              "      cursor: pointer;\n",
              "      display: none;\n",
              "      fill: #1967D2;\n",
              "      height: 32px;\n",
              "      padding: 0 0 0 0;\n",
              "      width: 32px;\n",
              "    }\n",
              "\n",
              "    .colab-df-convert:hover {\n",
              "      background-color: #E2EBFA;\n",
              "      box-shadow: 0px 1px 2px rgba(60, 64, 67, 0.3), 0px 1px 3px 1px rgba(60, 64, 67, 0.15);\n",
              "      fill: #174EA6;\n",
              "    }\n",
              "\n",
              "    .colab-df-buttons div {\n",
              "      margin-bottom: 4px;\n",
              "    }\n",
              "\n",
              "    [theme=dark] .colab-df-convert {\n",
              "      background-color: #3B4455;\n",
              "      fill: #D2E3FC;\n",
              "    }\n",
              "\n",
              "    [theme=dark] .colab-df-convert:hover {\n",
              "      background-color: #434B5C;\n",
              "      box-shadow: 0px 1px 3px 1px rgba(0, 0, 0, 0.15);\n",
              "      filter: drop-shadow(0px 1px 2px rgba(0, 0, 0, 0.3));\n",
              "      fill: #FFFFFF;\n",
              "    }\n",
              "  </style>\n",
              "\n",
              "    <script>\n",
              "      const buttonEl =\n",
              "        document.querySelector('#df-924351ad-d222-42bf-9c1c-7142264f7340 button.colab-df-convert');\n",
              "      buttonEl.style.display =\n",
              "        google.colab.kernel.accessAllowed ? 'block' : 'none';\n",
              "\n",
              "      async function convertToInteractive(key) {\n",
              "        const element = document.querySelector('#df-924351ad-d222-42bf-9c1c-7142264f7340');\n",
              "        const dataTable =\n",
              "          await google.colab.kernel.invokeFunction('convertToInteractive',\n",
              "                                                    [key], {});\n",
              "        if (!dataTable) return;\n",
              "\n",
              "        const docLinkHtml = 'Like what you see? Visit the ' +\n",
              "          '<a target=\"_blank\" href=https://colab.research.google.com/notebooks/data_table.ipynb>data table notebook</a>'\n",
              "          + ' to learn more about interactive tables.';\n",
              "        element.innerHTML = '';\n",
              "        dataTable['output_type'] = 'display_data';\n",
              "        await google.colab.output.renderOutput(dataTable, element);\n",
              "        const docLink = document.createElement('div');\n",
              "        docLink.innerHTML = docLinkHtml;\n",
              "        element.appendChild(docLink);\n",
              "      }\n",
              "    </script>\n",
              "  </div>\n",
              "\n",
              "\n",
              "    <div id=\"df-20dafad2-2244-455c-b124-b2dc5992656a\">\n",
              "      <button class=\"colab-df-quickchart\" onclick=\"quickchart('df-20dafad2-2244-455c-b124-b2dc5992656a')\"\n",
              "                title=\"Suggest charts\"\n",
              "                style=\"display:none;\">\n",
              "\n",
              "<svg xmlns=\"http://www.w3.org/2000/svg\" height=\"24px\"viewBox=\"0 0 24 24\"\n",
              "     width=\"24px\">\n",
              "    <g>\n",
              "        <path d=\"M19 3H5c-1.1 0-2 .9-2 2v14c0 1.1.9 2 2 2h14c1.1 0 2-.9 2-2V5c0-1.1-.9-2-2-2zM9 17H7v-7h2v7zm4 0h-2V7h2v10zm4 0h-2v-4h2v4z\"/>\n",
              "    </g>\n",
              "</svg>\n",
              "      </button>\n",
              "\n",
              "<style>\n",
              "  .colab-df-quickchart {\n",
              "      --bg-color: #E8F0FE;\n",
              "      --fill-color: #1967D2;\n",
              "      --hover-bg-color: #E2EBFA;\n",
              "      --hover-fill-color: #174EA6;\n",
              "      --disabled-fill-color: #AAA;\n",
              "      --disabled-bg-color: #DDD;\n",
              "  }\n",
              "\n",
              "  [theme=dark] .colab-df-quickchart {\n",
              "      --bg-color: #3B4455;\n",
              "      --fill-color: #D2E3FC;\n",
              "      --hover-bg-color: #434B5C;\n",
              "      --hover-fill-color: #FFFFFF;\n",
              "      --disabled-bg-color: #3B4455;\n",
              "      --disabled-fill-color: #666;\n",
              "  }\n",
              "\n",
              "  .colab-df-quickchart {\n",
              "    background-color: var(--bg-color);\n",
              "    border: none;\n",
              "    border-radius: 50%;\n",
              "    cursor: pointer;\n",
              "    display: none;\n",
              "    fill: var(--fill-color);\n",
              "    height: 32px;\n",
              "    padding: 0;\n",
              "    width: 32px;\n",
              "  }\n",
              "\n",
              "  .colab-df-quickchart:hover {\n",
              "    background-color: var(--hover-bg-color);\n",
              "    box-shadow: 0 1px 2px rgba(60, 64, 67, 0.3), 0 1px 3px 1px rgba(60, 64, 67, 0.15);\n",
              "    fill: var(--button-hover-fill-color);\n",
              "  }\n",
              "\n",
              "  .colab-df-quickchart-complete:disabled,\n",
              "  .colab-df-quickchart-complete:disabled:hover {\n",
              "    background-color: var(--disabled-bg-color);\n",
              "    fill: var(--disabled-fill-color);\n",
              "    box-shadow: none;\n",
              "  }\n",
              "\n",
              "  .colab-df-spinner {\n",
              "    border: 2px solid var(--fill-color);\n",
              "    border-color: transparent;\n",
              "    border-bottom-color: var(--fill-color);\n",
              "    animation:\n",
              "      spin 1s steps(1) infinite;\n",
              "  }\n",
              "\n",
              "  @keyframes spin {\n",
              "    0% {\n",
              "      border-color: transparent;\n",
              "      border-bottom-color: var(--fill-color);\n",
              "      border-left-color: var(--fill-color);\n",
              "    }\n",
              "    20% {\n",
              "      border-color: transparent;\n",
              "      border-left-color: var(--fill-color);\n",
              "      border-top-color: var(--fill-color);\n",
              "    }\n",
              "    30% {\n",
              "      border-color: transparent;\n",
              "      border-left-color: var(--fill-color);\n",
              "      border-top-color: var(--fill-color);\n",
              "      border-right-color: var(--fill-color);\n",
              "    }\n",
              "    40% {\n",
              "      border-color: transparent;\n",
              "      border-right-color: var(--fill-color);\n",
              "      border-top-color: var(--fill-color);\n",
              "    }\n",
              "    60% {\n",
              "      border-color: transparent;\n",
              "      border-right-color: var(--fill-color);\n",
              "    }\n",
              "    80% {\n",
              "      border-color: transparent;\n",
              "      border-right-color: var(--fill-color);\n",
              "      border-bottom-color: var(--fill-color);\n",
              "    }\n",
              "    90% {\n",
              "      border-color: transparent;\n",
              "      border-bottom-color: var(--fill-color);\n",
              "    }\n",
              "  }\n",
              "</style>\n",
              "\n",
              "      <script>\n",
              "        async function quickchart(key) {\n",
              "          const quickchartButtonEl =\n",
              "            document.querySelector('#' + key + ' button');\n",
              "          quickchartButtonEl.disabled = true;  // To prevent multiple clicks.\n",
              "          quickchartButtonEl.classList.add('colab-df-spinner');\n",
              "          try {\n",
              "            const charts = await google.colab.kernel.invokeFunction(\n",
              "                'suggestCharts', [key], {});\n",
              "          } catch (error) {\n",
              "            console.error('Error during call to suggestCharts:', error);\n",
              "          }\n",
              "          quickchartButtonEl.classList.remove('colab-df-spinner');\n",
              "          quickchartButtonEl.classList.add('colab-df-quickchart-complete');\n",
              "        }\n",
              "        (() => {\n",
              "          let quickchartButtonEl =\n",
              "            document.querySelector('#df-20dafad2-2244-455c-b124-b2dc5992656a button');\n",
              "          quickchartButtonEl.style.display =\n",
              "            google.colab.kernel.accessAllowed ? 'block' : 'none';\n",
              "        })();\n",
              "      </script>\n",
              "    </div>\n",
              "\n",
              "    </div>\n",
              "  </div>\n"
            ],
            "application/vnd.google.colaboratory.intrinsic+json": {
              "type": "dataframe",
              "variable_name": "dados",
              "summary": "{\n  \"name\": \"dados\",\n  \"rows\": 999,\n  \"fields\": [\n    {\n      \"column\": \"Series_Title\",\n      \"properties\": {\n        \"dtype\": \"string\",\n        \"num_unique_values\": 998,\n        \"samples\": [\n          \"Arsenic and Old Lace\",\n          \"Hedwig and the Angry Inch\",\n          \"\\u00d4kami kodomo no Ame to Yuki\"\n        ],\n        \"semantic_type\": \"\",\n        \"description\": \"\"\n      }\n    },\n    {\n      \"column\": \"Released_Year\",\n      \"properties\": {\n        \"dtype\": \"number\",\n        \"std\": 23,\n        \"min\": 1920,\n        \"max\": 2020,\n        \"num_unique_values\": 99,\n        \"samples\": [\n          1952,\n          2009,\n          1933\n        ],\n        \"semantic_type\": \"\",\n        \"description\": \"\"\n      }\n    },\n    {\n      \"column\": \"Certificate\",\n      \"properties\": {\n        \"dtype\": \"category\",\n        \"num_unique_values\": 17,\n        \"samples\": [\n          \"A\",\n          \"UA\",\n          \"Not Rated\"\n        ],\n        \"semantic_type\": \"\",\n        \"description\": \"\"\n      }\n    },\n    {\n      \"column\": \"Runtime\",\n      \"properties\": {\n        \"dtype\": \"category\",\n        \"num_unique_values\": 140,\n        \"samples\": [\n          \"205 min\",\n          \"129 min\",\n          \"112 min\"\n        ],\n        \"semantic_type\": \"\",\n        \"description\": \"\"\n      }\n    },\n    {\n      \"column\": \"Genre\",\n      \"properties\": {\n        \"dtype\": \"category\",\n        \"num_unique_values\": 202,\n        \"samples\": [\n          \"comedy, drama, fantasy\",\n          \"crime, drama, fantasy\",\n          \"drama, romance, war\"\n        ],\n        \"semantic_type\": \"\",\n        \"description\": \"\"\n      }\n    },\n    {\n      \"column\": \"IMDB_Rating\",\n      \"properties\": {\n        \"dtype\": \"number\",\n        \"std\": 0.2722895085128789,\n        \"min\": 7.6,\n        \"max\": 9.2,\n        \"num_unique_values\": 16,\n        \"samples\": [\n          9.2,\n          9.0,\n          8.6\n        ],\n        \"semantic_type\": \"\",\n        \"description\": \"\"\n      }\n    },\n    {\n      \"column\": \"Overview\",\n      \"properties\": {\n        \"dtype\": \"string\",\n        \"num_unique_values\": 999,\n        \"samples\": [\n          \"three world war ii veterans return home to small-town america to discover that they and their families have been irreparably changed.\",\n          \"a gender-queer punk-rock singer from east berlin tours the u.s. with her band as she tells her life story and follows the former lover/band-mate who stole her songs.\",\n          \"with his wife's disappearance having become the focus of an intense media circus, a man sees the spotlight turned on him when it's suspected that he may not be innocent.\"\n        ],\n        \"semantic_type\": \"\",\n        \"description\": \"\"\n      }\n    },\n    {\n      \"column\": \"Meta_score\",\n      \"properties\": {\n        \"dtype\": \"number\",\n        \"std\": 11.37376573152677,\n        \"min\": 28.0,\n        \"max\": 100.0,\n        \"num_unique_values\": 63,\n        \"samples\": [\n          30.0,\n          52.0,\n          100.0\n        ],\n        \"semantic_type\": \"\",\n        \"description\": \"\"\n      }\n    },\n    {\n      \"column\": \"Director\",\n      \"properties\": {\n        \"dtype\": \"string\",\n        \"num_unique_values\": 548,\n        \"samples\": [\n          \"Satoshi Kon\",\n          \"David Lean\",\n          \"Yilmaz Erdogan\"\n        ],\n        \"semantic_type\": \"\",\n        \"description\": \"\"\n      }\n    },\n    {\n      \"column\": \"Star1\",\n      \"properties\": {\n        \"dtype\": \"string\",\n        \"num_unique_values\": 659,\n        \"samples\": [\n          \"Peter Dinklage\",\n          \"Jay Baruchel\",\n          \"Steve McQueen\"\n        ],\n        \"semantic_type\": \"\",\n        \"description\": \"\"\n      }\n    },\n    {\n      \"column\": \"Star2\",\n      \"properties\": {\n        \"dtype\": \"string\",\n        \"num_unique_values\": 840,\n        \"samples\": [\n          \"Jacques Villeret\",\n          \"Meg Ryan\",\n          \"J.K. Simmons\"\n        ],\n        \"semantic_type\": \"\",\n        \"description\": \"\"\n      }\n    },\n    {\n      \"column\": \"Star3\",\n      \"properties\": {\n        \"dtype\": \"string\",\n        \"num_unique_values\": 890,\n        \"samples\": [\n          \"Yacef Saadi\",\n          \"John Wray\",\n          \"Chazz Palminteri\"\n        ],\n        \"semantic_type\": \"\",\n        \"description\": \"\"\n      }\n    },\n    {\n      \"column\": \"Star4\",\n      \"properties\": {\n        \"dtype\": \"string\",\n        \"num_unique_values\": 938,\n        \"samples\": [\n          \"Veronica Cartwright\",\n          \"Domhnall Gleeson\",\n          \"Jennifer Ulrich\"\n        ],\n        \"semantic_type\": \"\",\n        \"description\": \"\"\n      }\n    },\n    {\n      \"column\": \"No_of_Votes\",\n      \"properties\": {\n        \"dtype\": \"number\",\n        \"std\": 320912,\n        \"min\": 25088,\n        \"max\": 2303232,\n        \"num_unique_values\": 998,\n        \"samples\": [\n          57259,\n          31957,\n          859695\n        ],\n        \"semantic_type\": \"\",\n        \"description\": \"\"\n      }\n    },\n    {\n      \"column\": \"Gross\",\n      \"properties\": {\n        \"dtype\": \"string\",\n        \"num_unique_values\": 823,\n        \"samples\": [\n          \"132,092,958\",\n          \"67,209,615\",\n          \"78,900,000\"\n        ],\n        \"semantic_type\": \"\",\n        \"description\": \"\"\n      }\n    },\n    {\n      \"column\": \"Runtime_min\",\n      \"properties\": {\n        \"dtype\": \"number\",\n        \"std\": 28,\n        \"min\": 45,\n        \"max\": 321,\n        \"num_unique_values\": 140,\n        \"samples\": [\n          205,\n          129,\n          112\n        ],\n        \"semantic_type\": \"\",\n        \"description\": \"\"\n      }\n    }\n  ]\n}"
            }
          },
          "metadata": {},
          "execution_count": 141
        }
      ]
    },
    {
      "cell_type": "code",
      "source": [
        "# Salvando os dados tratados em uma cópia do dataframe original\n",
        "dados_tratados = dados.copy()"
      ],
      "metadata": {
        "id": "2f-VHVmKTGTu"
      },
      "execution_count": 142,
      "outputs": []
    },
    {
      "cell_type": "code",
      "source": [
        "# Removendo a coluna 'Runtime' para utilizar apenas a nova coluna criada 'Runtime_min'\n",
        "dados_tratados.drop(columns=['Runtime'], inplace=True)"
      ],
      "metadata": {
        "id": "F6-XCYHyz-7V"
      },
      "execution_count": 143,
      "outputs": []
    },
    {
      "cell_type": "code",
      "source": [
        "# Verificando se foi aplicado corretamente\n",
        "dados_tratados.head(3)"
      ],
      "metadata": {
        "colab": {
          "base_uri": "https://localhost:8080/",
          "height": 299
        },
        "id": "J2XRDeA-0vqQ",
        "outputId": "1c03a5e4-aa93-4fe9-f201-ba337fd48aa3"
      },
      "execution_count": 144,
      "outputs": [
        {
          "output_type": "execute_result",
          "data": {
            "text/plain": [
              "             Series_Title  Released_Year Certificate                 Genre  \\\n",
              "0           The Godfather           1972           A          crime, drama   \n",
              "1         The Dark Knight           2008          UA  action, crime, drama   \n",
              "2  The Godfather: Part II           1974           A          crime, drama   \n",
              "\n",
              "   IMDB_Rating  \\\n",
              "0          9.2   \n",
              "1          9.0   \n",
              "2          9.0   \n",
              "\n",
              "                                                                                                                                                                                        Overview  \\\n",
              "0                                                                                 an organized crime dynasty's aging patriarch transfers control of his clandestine empire to his reluctant son.   \n",
              "1  when the menace known as the joker wreaks havoc and chaos on the people of gotham, batman must accept one of the greatest psychological and physical tests of his ability to fight injustice.   \n",
              "2                           the early life and career of vito corleone in 1920s new york city is portrayed, while his son, michael, expands and tightens his grip on the family crime syndicate.   \n",
              "\n",
              "   Meta_score              Director           Star1           Star2  \\\n",
              "0       100.0  Francis Ford Coppola   Marlon Brando       Al Pacino   \n",
              "1        84.0     Christopher Nolan  Christian Bale    Heath Ledger   \n",
              "2        90.0  Francis Ford Coppola       Al Pacino  Robert De Niro   \n",
              "\n",
              "           Star3          Star4  No_of_Votes        Gross  Runtime_min  \n",
              "0     James Caan   Diane Keaton      1620367  134,966,411          175  \n",
              "1  Aaron Eckhart  Michael Caine      2303232  534,858,444          152  \n",
              "2  Robert Duvall   Diane Keaton      1129952   57,300,000          202  "
            ],
            "text/html": [
              "\n",
              "  <div id=\"df-6a814007-3668-4891-8661-6a71e8e23be9\" class=\"colab-df-container\">\n",
              "    <div>\n",
              "<style scoped>\n",
              "    .dataframe tbody tr th:only-of-type {\n",
              "        vertical-align: middle;\n",
              "    }\n",
              "\n",
              "    .dataframe tbody tr th {\n",
              "        vertical-align: top;\n",
              "    }\n",
              "\n",
              "    .dataframe thead th {\n",
              "        text-align: right;\n",
              "    }\n",
              "</style>\n",
              "<table border=\"1\" class=\"dataframe\">\n",
              "  <thead>\n",
              "    <tr style=\"text-align: right;\">\n",
              "      <th></th>\n",
              "      <th>Series_Title</th>\n",
              "      <th>Released_Year</th>\n",
              "      <th>Certificate</th>\n",
              "      <th>Genre</th>\n",
              "      <th>IMDB_Rating</th>\n",
              "      <th>Overview</th>\n",
              "      <th>Meta_score</th>\n",
              "      <th>Director</th>\n",
              "      <th>Star1</th>\n",
              "      <th>Star2</th>\n",
              "      <th>Star3</th>\n",
              "      <th>Star4</th>\n",
              "      <th>No_of_Votes</th>\n",
              "      <th>Gross</th>\n",
              "      <th>Runtime_min</th>\n",
              "    </tr>\n",
              "  </thead>\n",
              "  <tbody>\n",
              "    <tr>\n",
              "      <th>0</th>\n",
              "      <td>The Godfather</td>\n",
              "      <td>1972</td>\n",
              "      <td>A</td>\n",
              "      <td>crime, drama</td>\n",
              "      <td>9.2</td>\n",
              "      <td>an organized crime dynasty's aging patriarch transfers control of his clandestine empire to his reluctant son.</td>\n",
              "      <td>100.0</td>\n",
              "      <td>Francis Ford Coppola</td>\n",
              "      <td>Marlon Brando</td>\n",
              "      <td>Al Pacino</td>\n",
              "      <td>James Caan</td>\n",
              "      <td>Diane Keaton</td>\n",
              "      <td>1620367</td>\n",
              "      <td>134,966,411</td>\n",
              "      <td>175</td>\n",
              "    </tr>\n",
              "    <tr>\n",
              "      <th>1</th>\n",
              "      <td>The Dark Knight</td>\n",
              "      <td>2008</td>\n",
              "      <td>UA</td>\n",
              "      <td>action, crime, drama</td>\n",
              "      <td>9.0</td>\n",
              "      <td>when the menace known as the joker wreaks havoc and chaos on the people of gotham, batman must accept one of the greatest psychological and physical tests of his ability to fight injustice.</td>\n",
              "      <td>84.0</td>\n",
              "      <td>Christopher Nolan</td>\n",
              "      <td>Christian Bale</td>\n",
              "      <td>Heath Ledger</td>\n",
              "      <td>Aaron Eckhart</td>\n",
              "      <td>Michael Caine</td>\n",
              "      <td>2303232</td>\n",
              "      <td>534,858,444</td>\n",
              "      <td>152</td>\n",
              "    </tr>\n",
              "    <tr>\n",
              "      <th>2</th>\n",
              "      <td>The Godfather: Part II</td>\n",
              "      <td>1974</td>\n",
              "      <td>A</td>\n",
              "      <td>crime, drama</td>\n",
              "      <td>9.0</td>\n",
              "      <td>the early life and career of vito corleone in 1920s new york city is portrayed, while his son, michael, expands and tightens his grip on the family crime syndicate.</td>\n",
              "      <td>90.0</td>\n",
              "      <td>Francis Ford Coppola</td>\n",
              "      <td>Al Pacino</td>\n",
              "      <td>Robert De Niro</td>\n",
              "      <td>Robert Duvall</td>\n",
              "      <td>Diane Keaton</td>\n",
              "      <td>1129952</td>\n",
              "      <td>57,300,000</td>\n",
              "      <td>202</td>\n",
              "    </tr>\n",
              "  </tbody>\n",
              "</table>\n",
              "</div>\n",
              "    <div class=\"colab-df-buttons\">\n",
              "\n",
              "  <div class=\"colab-df-container\">\n",
              "    <button class=\"colab-df-convert\" onclick=\"convertToInteractive('df-6a814007-3668-4891-8661-6a71e8e23be9')\"\n",
              "            title=\"Convert this dataframe to an interactive table.\"\n",
              "            style=\"display:none;\">\n",
              "\n",
              "  <svg xmlns=\"http://www.w3.org/2000/svg\" height=\"24px\" viewBox=\"0 -960 960 960\">\n",
              "    <path d=\"M120-120v-720h720v720H120Zm60-500h600v-160H180v160Zm220 220h160v-160H400v160Zm0 220h160v-160H400v160ZM180-400h160v-160H180v160Zm440 0h160v-160H620v160ZM180-180h160v-160H180v160Zm440 0h160v-160H620v160Z\"/>\n",
              "  </svg>\n",
              "    </button>\n",
              "\n",
              "  <style>\n",
              "    .colab-df-container {\n",
              "      display:flex;\n",
              "      gap: 12px;\n",
              "    }\n",
              "\n",
              "    .colab-df-convert {\n",
              "      background-color: #E8F0FE;\n",
              "      border: none;\n",
              "      border-radius: 50%;\n",
              "      cursor: pointer;\n",
              "      display: none;\n",
              "      fill: #1967D2;\n",
              "      height: 32px;\n",
              "      padding: 0 0 0 0;\n",
              "      width: 32px;\n",
              "    }\n",
              "\n",
              "    .colab-df-convert:hover {\n",
              "      background-color: #E2EBFA;\n",
              "      box-shadow: 0px 1px 2px rgba(60, 64, 67, 0.3), 0px 1px 3px 1px rgba(60, 64, 67, 0.15);\n",
              "      fill: #174EA6;\n",
              "    }\n",
              "\n",
              "    .colab-df-buttons div {\n",
              "      margin-bottom: 4px;\n",
              "    }\n",
              "\n",
              "    [theme=dark] .colab-df-convert {\n",
              "      background-color: #3B4455;\n",
              "      fill: #D2E3FC;\n",
              "    }\n",
              "\n",
              "    [theme=dark] .colab-df-convert:hover {\n",
              "      background-color: #434B5C;\n",
              "      box-shadow: 0px 1px 3px 1px rgba(0, 0, 0, 0.15);\n",
              "      filter: drop-shadow(0px 1px 2px rgba(0, 0, 0, 0.3));\n",
              "      fill: #FFFFFF;\n",
              "    }\n",
              "  </style>\n",
              "\n",
              "    <script>\n",
              "      const buttonEl =\n",
              "        document.querySelector('#df-6a814007-3668-4891-8661-6a71e8e23be9 button.colab-df-convert');\n",
              "      buttonEl.style.display =\n",
              "        google.colab.kernel.accessAllowed ? 'block' : 'none';\n",
              "\n",
              "      async function convertToInteractive(key) {\n",
              "        const element = document.querySelector('#df-6a814007-3668-4891-8661-6a71e8e23be9');\n",
              "        const dataTable =\n",
              "          await google.colab.kernel.invokeFunction('convertToInteractive',\n",
              "                                                    [key], {});\n",
              "        if (!dataTable) return;\n",
              "\n",
              "        const docLinkHtml = 'Like what you see? Visit the ' +\n",
              "          '<a target=\"_blank\" href=https://colab.research.google.com/notebooks/data_table.ipynb>data table notebook</a>'\n",
              "          + ' to learn more about interactive tables.';\n",
              "        element.innerHTML = '';\n",
              "        dataTable['output_type'] = 'display_data';\n",
              "        await google.colab.output.renderOutput(dataTable, element);\n",
              "        const docLink = document.createElement('div');\n",
              "        docLink.innerHTML = docLinkHtml;\n",
              "        element.appendChild(docLink);\n",
              "      }\n",
              "    </script>\n",
              "  </div>\n",
              "\n",
              "\n",
              "    <div id=\"df-2fb032e5-aaa0-45b6-8336-0855bff9da9b\">\n",
              "      <button class=\"colab-df-quickchart\" onclick=\"quickchart('df-2fb032e5-aaa0-45b6-8336-0855bff9da9b')\"\n",
              "                title=\"Suggest charts\"\n",
              "                style=\"display:none;\">\n",
              "\n",
              "<svg xmlns=\"http://www.w3.org/2000/svg\" height=\"24px\"viewBox=\"0 0 24 24\"\n",
              "     width=\"24px\">\n",
              "    <g>\n",
              "        <path d=\"M19 3H5c-1.1 0-2 .9-2 2v14c0 1.1.9 2 2 2h14c1.1 0 2-.9 2-2V5c0-1.1-.9-2-2-2zM9 17H7v-7h2v7zm4 0h-2V7h2v10zm4 0h-2v-4h2v4z\"/>\n",
              "    </g>\n",
              "</svg>\n",
              "      </button>\n",
              "\n",
              "<style>\n",
              "  .colab-df-quickchart {\n",
              "      --bg-color: #E8F0FE;\n",
              "      --fill-color: #1967D2;\n",
              "      --hover-bg-color: #E2EBFA;\n",
              "      --hover-fill-color: #174EA6;\n",
              "      --disabled-fill-color: #AAA;\n",
              "      --disabled-bg-color: #DDD;\n",
              "  }\n",
              "\n",
              "  [theme=dark] .colab-df-quickchart {\n",
              "      --bg-color: #3B4455;\n",
              "      --fill-color: #D2E3FC;\n",
              "      --hover-bg-color: #434B5C;\n",
              "      --hover-fill-color: #FFFFFF;\n",
              "      --disabled-bg-color: #3B4455;\n",
              "      --disabled-fill-color: #666;\n",
              "  }\n",
              "\n",
              "  .colab-df-quickchart {\n",
              "    background-color: var(--bg-color);\n",
              "    border: none;\n",
              "    border-radius: 50%;\n",
              "    cursor: pointer;\n",
              "    display: none;\n",
              "    fill: var(--fill-color);\n",
              "    height: 32px;\n",
              "    padding: 0;\n",
              "    width: 32px;\n",
              "  }\n",
              "\n",
              "  .colab-df-quickchart:hover {\n",
              "    background-color: var(--hover-bg-color);\n",
              "    box-shadow: 0 1px 2px rgba(60, 64, 67, 0.3), 0 1px 3px 1px rgba(60, 64, 67, 0.15);\n",
              "    fill: var(--button-hover-fill-color);\n",
              "  }\n",
              "\n",
              "  .colab-df-quickchart-complete:disabled,\n",
              "  .colab-df-quickchart-complete:disabled:hover {\n",
              "    background-color: var(--disabled-bg-color);\n",
              "    fill: var(--disabled-fill-color);\n",
              "    box-shadow: none;\n",
              "  }\n",
              "\n",
              "  .colab-df-spinner {\n",
              "    border: 2px solid var(--fill-color);\n",
              "    border-color: transparent;\n",
              "    border-bottom-color: var(--fill-color);\n",
              "    animation:\n",
              "      spin 1s steps(1) infinite;\n",
              "  }\n",
              "\n",
              "  @keyframes spin {\n",
              "    0% {\n",
              "      border-color: transparent;\n",
              "      border-bottom-color: var(--fill-color);\n",
              "      border-left-color: var(--fill-color);\n",
              "    }\n",
              "    20% {\n",
              "      border-color: transparent;\n",
              "      border-left-color: var(--fill-color);\n",
              "      border-top-color: var(--fill-color);\n",
              "    }\n",
              "    30% {\n",
              "      border-color: transparent;\n",
              "      border-left-color: var(--fill-color);\n",
              "      border-top-color: var(--fill-color);\n",
              "      border-right-color: var(--fill-color);\n",
              "    }\n",
              "    40% {\n",
              "      border-color: transparent;\n",
              "      border-right-color: var(--fill-color);\n",
              "      border-top-color: var(--fill-color);\n",
              "    }\n",
              "    60% {\n",
              "      border-color: transparent;\n",
              "      border-right-color: var(--fill-color);\n",
              "    }\n",
              "    80% {\n",
              "      border-color: transparent;\n",
              "      border-right-color: var(--fill-color);\n",
              "      border-bottom-color: var(--fill-color);\n",
              "    }\n",
              "    90% {\n",
              "      border-color: transparent;\n",
              "      border-bottom-color: var(--fill-color);\n",
              "    }\n",
              "  }\n",
              "</style>\n",
              "\n",
              "      <script>\n",
              "        async function quickchart(key) {\n",
              "          const quickchartButtonEl =\n",
              "            document.querySelector('#' + key + ' button');\n",
              "          quickchartButtonEl.disabled = true;  // To prevent multiple clicks.\n",
              "          quickchartButtonEl.classList.add('colab-df-spinner');\n",
              "          try {\n",
              "            const charts = await google.colab.kernel.invokeFunction(\n",
              "                'suggestCharts', [key], {});\n",
              "          } catch (error) {\n",
              "            console.error('Error during call to suggestCharts:', error);\n",
              "          }\n",
              "          quickchartButtonEl.classList.remove('colab-df-spinner');\n",
              "          quickchartButtonEl.classList.add('colab-df-quickchart-complete');\n",
              "        }\n",
              "        (() => {\n",
              "          let quickchartButtonEl =\n",
              "            document.querySelector('#df-2fb032e5-aaa0-45b6-8336-0855bff9da9b button');\n",
              "          quickchartButtonEl.style.display =\n",
              "            google.colab.kernel.accessAllowed ? 'block' : 'none';\n",
              "        })();\n",
              "      </script>\n",
              "    </div>\n",
              "\n",
              "    </div>\n",
              "  </div>\n"
            ],
            "application/vnd.google.colaboratory.intrinsic+json": {
              "type": "dataframe",
              "variable_name": "dados_tratados",
              "summary": "{\n  \"name\": \"dados_tratados\",\n  \"rows\": 999,\n  \"fields\": [\n    {\n      \"column\": \"Series_Title\",\n      \"properties\": {\n        \"dtype\": \"string\",\n        \"num_unique_values\": 998,\n        \"samples\": [\n          \"Arsenic and Old Lace\",\n          \"Hedwig and the Angry Inch\",\n          \"\\u00d4kami kodomo no Ame to Yuki\"\n        ],\n        \"semantic_type\": \"\",\n        \"description\": \"\"\n      }\n    },\n    {\n      \"column\": \"Released_Year\",\n      \"properties\": {\n        \"dtype\": \"number\",\n        \"std\": 23,\n        \"min\": 1920,\n        \"max\": 2020,\n        \"num_unique_values\": 99,\n        \"samples\": [\n          1952,\n          2009,\n          1933\n        ],\n        \"semantic_type\": \"\",\n        \"description\": \"\"\n      }\n    },\n    {\n      \"column\": \"Certificate\",\n      \"properties\": {\n        \"dtype\": \"category\",\n        \"num_unique_values\": 17,\n        \"samples\": [\n          \"A\",\n          \"UA\",\n          \"Not Rated\"\n        ],\n        \"semantic_type\": \"\",\n        \"description\": \"\"\n      }\n    },\n    {\n      \"column\": \"Genre\",\n      \"properties\": {\n        \"dtype\": \"category\",\n        \"num_unique_values\": 202,\n        \"samples\": [\n          \"comedy, drama, fantasy\",\n          \"crime, drama, fantasy\",\n          \"drama, romance, war\"\n        ],\n        \"semantic_type\": \"\",\n        \"description\": \"\"\n      }\n    },\n    {\n      \"column\": \"IMDB_Rating\",\n      \"properties\": {\n        \"dtype\": \"number\",\n        \"std\": 0.2722895085128789,\n        \"min\": 7.6,\n        \"max\": 9.2,\n        \"num_unique_values\": 16,\n        \"samples\": [\n          9.2,\n          9.0,\n          8.6\n        ],\n        \"semantic_type\": \"\",\n        \"description\": \"\"\n      }\n    },\n    {\n      \"column\": \"Overview\",\n      \"properties\": {\n        \"dtype\": \"string\",\n        \"num_unique_values\": 999,\n        \"samples\": [\n          \"three world war ii veterans return home to small-town america to discover that they and their families have been irreparably changed.\",\n          \"a gender-queer punk-rock singer from east berlin tours the u.s. with her band as she tells her life story and follows the former lover/band-mate who stole her songs.\",\n          \"with his wife's disappearance having become the focus of an intense media circus, a man sees the spotlight turned on him when it's suspected that he may not be innocent.\"\n        ],\n        \"semantic_type\": \"\",\n        \"description\": \"\"\n      }\n    },\n    {\n      \"column\": \"Meta_score\",\n      \"properties\": {\n        \"dtype\": \"number\",\n        \"std\": 11.37376573152677,\n        \"min\": 28.0,\n        \"max\": 100.0,\n        \"num_unique_values\": 63,\n        \"samples\": [\n          30.0,\n          52.0,\n          100.0\n        ],\n        \"semantic_type\": \"\",\n        \"description\": \"\"\n      }\n    },\n    {\n      \"column\": \"Director\",\n      \"properties\": {\n        \"dtype\": \"string\",\n        \"num_unique_values\": 548,\n        \"samples\": [\n          \"Satoshi Kon\",\n          \"David Lean\",\n          \"Yilmaz Erdogan\"\n        ],\n        \"semantic_type\": \"\",\n        \"description\": \"\"\n      }\n    },\n    {\n      \"column\": \"Star1\",\n      \"properties\": {\n        \"dtype\": \"string\",\n        \"num_unique_values\": 659,\n        \"samples\": [\n          \"Peter Dinklage\",\n          \"Jay Baruchel\",\n          \"Steve McQueen\"\n        ],\n        \"semantic_type\": \"\",\n        \"description\": \"\"\n      }\n    },\n    {\n      \"column\": \"Star2\",\n      \"properties\": {\n        \"dtype\": \"string\",\n        \"num_unique_values\": 840,\n        \"samples\": [\n          \"Jacques Villeret\",\n          \"Meg Ryan\",\n          \"J.K. Simmons\"\n        ],\n        \"semantic_type\": \"\",\n        \"description\": \"\"\n      }\n    },\n    {\n      \"column\": \"Star3\",\n      \"properties\": {\n        \"dtype\": \"string\",\n        \"num_unique_values\": 890,\n        \"samples\": [\n          \"Yacef Saadi\",\n          \"John Wray\",\n          \"Chazz Palminteri\"\n        ],\n        \"semantic_type\": \"\",\n        \"description\": \"\"\n      }\n    },\n    {\n      \"column\": \"Star4\",\n      \"properties\": {\n        \"dtype\": \"string\",\n        \"num_unique_values\": 938,\n        \"samples\": [\n          \"Veronica Cartwright\",\n          \"Domhnall Gleeson\",\n          \"Jennifer Ulrich\"\n        ],\n        \"semantic_type\": \"\",\n        \"description\": \"\"\n      }\n    },\n    {\n      \"column\": \"No_of_Votes\",\n      \"properties\": {\n        \"dtype\": \"number\",\n        \"std\": 320912,\n        \"min\": 25088,\n        \"max\": 2303232,\n        \"num_unique_values\": 998,\n        \"samples\": [\n          57259,\n          31957,\n          859695\n        ],\n        \"semantic_type\": \"\",\n        \"description\": \"\"\n      }\n    },\n    {\n      \"column\": \"Gross\",\n      \"properties\": {\n        \"dtype\": \"string\",\n        \"num_unique_values\": 823,\n        \"samples\": [\n          \"132,092,958\",\n          \"67,209,615\",\n          \"78,900,000\"\n        ],\n        \"semantic_type\": \"\",\n        \"description\": \"\"\n      }\n    },\n    {\n      \"column\": \"Runtime_min\",\n      \"properties\": {\n        \"dtype\": \"number\",\n        \"std\": 28,\n        \"min\": 45,\n        \"max\": 321,\n        \"num_unique_values\": 140,\n        \"samples\": [\n          205,\n          129,\n          112\n        ],\n        \"semantic_type\": \"\",\n        \"description\": \"\"\n      }\n    }\n  ]\n}"
            }
          },
          "metadata": {},
          "execution_count": 144
        }
      ]
    },
    {
      "cell_type": "code",
      "source": [
        "# Salvando os dados tratados em um novo arquivo csv para futura consultas\n",
        "dados_tratados.to_csv('dados_tratados_desafio_indicium.csv', index=False)"
      ],
      "metadata": {
        "id": "0MOEV8JlTVDo"
      },
      "execution_count": 145,
      "outputs": []
    },
    {
      "cell_type": "markdown",
      "source": [
        "# Análise e Visualização dos Dados"
      ],
      "metadata": {
        "id": "HK6vqBWN4OHZ"
      }
    },
    {
      "cell_type": "markdown",
      "source": [
        "A seguir estaremos respondendo as seguintes perguntas:\n",
        "\n",
        "a) Qual filme você recomendaria para uma pessoa que você não conhece?\n",
        "\n",
        "b) Quais são os principais fatores que estão relacionados com alta expectativa de faturamento de um filme?\n",
        "\n",
        "c) Quais insights podem ser tirados com a coluna overview? É possível inferir o gênero do filme a partir dessa coluna?"
      ],
      "metadata": {
        "id": "UZEQHI7VcO5z"
      }
    },
    {
      "cell_type": "markdown",
      "source": [
        "# Primeiras Análises"
      ],
      "metadata": {
        "id": "_lwiDB16F9p4"
      }
    },
    {
      "cell_type": "code",
      "source": [
        "# Primeira visualização dos números utilizando o describe\n",
        "dados_tratados.describe()"
      ],
      "metadata": {
        "colab": {
          "base_uri": "https://localhost:8080/",
          "height": 300
        },
        "id": "sl7AxoPu5ckw",
        "outputId": "b65c862e-7444-4f17-d644-3fcacb371c9c"
      },
      "execution_count": 146,
      "outputs": [
        {
          "output_type": "execute_result",
          "data": {
            "text/plain": [
              "       Released_Year  IMDB_Rating  Meta_score   No_of_Votes  Runtime_min\n",
              "count     999.000000   999.000000  999.000000  9.990000e+02   999.000000\n",
              "mean     1991.218218     7.947948   78.131131  2.716214e+05   122.871872\n",
              "std        23.297166     0.272290   11.373766  3.209126e+05    28.101227\n",
              "min      1920.000000     7.600000   28.000000  2.508800e+04    45.000000\n",
              "25%      1976.000000     7.700000   72.000000  5.547150e+04   103.000000\n",
              "50%      1999.000000     7.900000   79.000000  1.383560e+05   119.000000\n",
              "75%      2009.000000     8.100000   85.500000  3.731675e+05   137.000000\n",
              "max      2020.000000     9.200000  100.000000  2.303232e+06   321.000000"
            ],
            "text/html": [
              "\n",
              "  <div id=\"df-60076852-ade2-4dfc-a5f4-431c9e18b075\" class=\"colab-df-container\">\n",
              "    <div>\n",
              "<style scoped>\n",
              "    .dataframe tbody tr th:only-of-type {\n",
              "        vertical-align: middle;\n",
              "    }\n",
              "\n",
              "    .dataframe tbody tr th {\n",
              "        vertical-align: top;\n",
              "    }\n",
              "\n",
              "    .dataframe thead th {\n",
              "        text-align: right;\n",
              "    }\n",
              "</style>\n",
              "<table border=\"1\" class=\"dataframe\">\n",
              "  <thead>\n",
              "    <tr style=\"text-align: right;\">\n",
              "      <th></th>\n",
              "      <th>Released_Year</th>\n",
              "      <th>IMDB_Rating</th>\n",
              "      <th>Meta_score</th>\n",
              "      <th>No_of_Votes</th>\n",
              "      <th>Runtime_min</th>\n",
              "    </tr>\n",
              "  </thead>\n",
              "  <tbody>\n",
              "    <tr>\n",
              "      <th>count</th>\n",
              "      <td>999.000000</td>\n",
              "      <td>999.000000</td>\n",
              "      <td>999.000000</td>\n",
              "      <td>9.990000e+02</td>\n",
              "      <td>999.000000</td>\n",
              "    </tr>\n",
              "    <tr>\n",
              "      <th>mean</th>\n",
              "      <td>1991.218218</td>\n",
              "      <td>7.947948</td>\n",
              "      <td>78.131131</td>\n",
              "      <td>2.716214e+05</td>\n",
              "      <td>122.871872</td>\n",
              "    </tr>\n",
              "    <tr>\n",
              "      <th>std</th>\n",
              "      <td>23.297166</td>\n",
              "      <td>0.272290</td>\n",
              "      <td>11.373766</td>\n",
              "      <td>3.209126e+05</td>\n",
              "      <td>28.101227</td>\n",
              "    </tr>\n",
              "    <tr>\n",
              "      <th>min</th>\n",
              "      <td>1920.000000</td>\n",
              "      <td>7.600000</td>\n",
              "      <td>28.000000</td>\n",
              "      <td>2.508800e+04</td>\n",
              "      <td>45.000000</td>\n",
              "    </tr>\n",
              "    <tr>\n",
              "      <th>25%</th>\n",
              "      <td>1976.000000</td>\n",
              "      <td>7.700000</td>\n",
              "      <td>72.000000</td>\n",
              "      <td>5.547150e+04</td>\n",
              "      <td>103.000000</td>\n",
              "    </tr>\n",
              "    <tr>\n",
              "      <th>50%</th>\n",
              "      <td>1999.000000</td>\n",
              "      <td>7.900000</td>\n",
              "      <td>79.000000</td>\n",
              "      <td>1.383560e+05</td>\n",
              "      <td>119.000000</td>\n",
              "    </tr>\n",
              "    <tr>\n",
              "      <th>75%</th>\n",
              "      <td>2009.000000</td>\n",
              "      <td>8.100000</td>\n",
              "      <td>85.500000</td>\n",
              "      <td>3.731675e+05</td>\n",
              "      <td>137.000000</td>\n",
              "    </tr>\n",
              "    <tr>\n",
              "      <th>max</th>\n",
              "      <td>2020.000000</td>\n",
              "      <td>9.200000</td>\n",
              "      <td>100.000000</td>\n",
              "      <td>2.303232e+06</td>\n",
              "      <td>321.000000</td>\n",
              "    </tr>\n",
              "  </tbody>\n",
              "</table>\n",
              "</div>\n",
              "    <div class=\"colab-df-buttons\">\n",
              "\n",
              "  <div class=\"colab-df-container\">\n",
              "    <button class=\"colab-df-convert\" onclick=\"convertToInteractive('df-60076852-ade2-4dfc-a5f4-431c9e18b075')\"\n",
              "            title=\"Convert this dataframe to an interactive table.\"\n",
              "            style=\"display:none;\">\n",
              "\n",
              "  <svg xmlns=\"http://www.w3.org/2000/svg\" height=\"24px\" viewBox=\"0 -960 960 960\">\n",
              "    <path d=\"M120-120v-720h720v720H120Zm60-500h600v-160H180v160Zm220 220h160v-160H400v160Zm0 220h160v-160H400v160ZM180-400h160v-160H180v160Zm440 0h160v-160H620v160ZM180-180h160v-160H180v160Zm440 0h160v-160H620v160Z\"/>\n",
              "  </svg>\n",
              "    </button>\n",
              "\n",
              "  <style>\n",
              "    .colab-df-container {\n",
              "      display:flex;\n",
              "      gap: 12px;\n",
              "    }\n",
              "\n",
              "    .colab-df-convert {\n",
              "      background-color: #E8F0FE;\n",
              "      border: none;\n",
              "      border-radius: 50%;\n",
              "      cursor: pointer;\n",
              "      display: none;\n",
              "      fill: #1967D2;\n",
              "      height: 32px;\n",
              "      padding: 0 0 0 0;\n",
              "      width: 32px;\n",
              "    }\n",
              "\n",
              "    .colab-df-convert:hover {\n",
              "      background-color: #E2EBFA;\n",
              "      box-shadow: 0px 1px 2px rgba(60, 64, 67, 0.3), 0px 1px 3px 1px rgba(60, 64, 67, 0.15);\n",
              "      fill: #174EA6;\n",
              "    }\n",
              "\n",
              "    .colab-df-buttons div {\n",
              "      margin-bottom: 4px;\n",
              "    }\n",
              "\n",
              "    [theme=dark] .colab-df-convert {\n",
              "      background-color: #3B4455;\n",
              "      fill: #D2E3FC;\n",
              "    }\n",
              "\n",
              "    [theme=dark] .colab-df-convert:hover {\n",
              "      background-color: #434B5C;\n",
              "      box-shadow: 0px 1px 3px 1px rgba(0, 0, 0, 0.15);\n",
              "      filter: drop-shadow(0px 1px 2px rgba(0, 0, 0, 0.3));\n",
              "      fill: #FFFFFF;\n",
              "    }\n",
              "  </style>\n",
              "\n",
              "    <script>\n",
              "      const buttonEl =\n",
              "        document.querySelector('#df-60076852-ade2-4dfc-a5f4-431c9e18b075 button.colab-df-convert');\n",
              "      buttonEl.style.display =\n",
              "        google.colab.kernel.accessAllowed ? 'block' : 'none';\n",
              "\n",
              "      async function convertToInteractive(key) {\n",
              "        const element = document.querySelector('#df-60076852-ade2-4dfc-a5f4-431c9e18b075');\n",
              "        const dataTable =\n",
              "          await google.colab.kernel.invokeFunction('convertToInteractive',\n",
              "                                                    [key], {});\n",
              "        if (!dataTable) return;\n",
              "\n",
              "        const docLinkHtml = 'Like what you see? Visit the ' +\n",
              "          '<a target=\"_blank\" href=https://colab.research.google.com/notebooks/data_table.ipynb>data table notebook</a>'\n",
              "          + ' to learn more about interactive tables.';\n",
              "        element.innerHTML = '';\n",
              "        dataTable['output_type'] = 'display_data';\n",
              "        await google.colab.output.renderOutput(dataTable, element);\n",
              "        const docLink = document.createElement('div');\n",
              "        docLink.innerHTML = docLinkHtml;\n",
              "        element.appendChild(docLink);\n",
              "      }\n",
              "    </script>\n",
              "  </div>\n",
              "\n",
              "\n",
              "    <div id=\"df-ea790743-99ad-4ba8-b62a-b948b65c16c4\">\n",
              "      <button class=\"colab-df-quickchart\" onclick=\"quickchart('df-ea790743-99ad-4ba8-b62a-b948b65c16c4')\"\n",
              "                title=\"Suggest charts\"\n",
              "                style=\"display:none;\">\n",
              "\n",
              "<svg xmlns=\"http://www.w3.org/2000/svg\" height=\"24px\"viewBox=\"0 0 24 24\"\n",
              "     width=\"24px\">\n",
              "    <g>\n",
              "        <path d=\"M19 3H5c-1.1 0-2 .9-2 2v14c0 1.1.9 2 2 2h14c1.1 0 2-.9 2-2V5c0-1.1-.9-2-2-2zM9 17H7v-7h2v7zm4 0h-2V7h2v10zm4 0h-2v-4h2v4z\"/>\n",
              "    </g>\n",
              "</svg>\n",
              "      </button>\n",
              "\n",
              "<style>\n",
              "  .colab-df-quickchart {\n",
              "      --bg-color: #E8F0FE;\n",
              "      --fill-color: #1967D2;\n",
              "      --hover-bg-color: #E2EBFA;\n",
              "      --hover-fill-color: #174EA6;\n",
              "      --disabled-fill-color: #AAA;\n",
              "      --disabled-bg-color: #DDD;\n",
              "  }\n",
              "\n",
              "  [theme=dark] .colab-df-quickchart {\n",
              "      --bg-color: #3B4455;\n",
              "      --fill-color: #D2E3FC;\n",
              "      --hover-bg-color: #434B5C;\n",
              "      --hover-fill-color: #FFFFFF;\n",
              "      --disabled-bg-color: #3B4455;\n",
              "      --disabled-fill-color: #666;\n",
              "  }\n",
              "\n",
              "  .colab-df-quickchart {\n",
              "    background-color: var(--bg-color);\n",
              "    border: none;\n",
              "    border-radius: 50%;\n",
              "    cursor: pointer;\n",
              "    display: none;\n",
              "    fill: var(--fill-color);\n",
              "    height: 32px;\n",
              "    padding: 0;\n",
              "    width: 32px;\n",
              "  }\n",
              "\n",
              "  .colab-df-quickchart:hover {\n",
              "    background-color: var(--hover-bg-color);\n",
              "    box-shadow: 0 1px 2px rgba(60, 64, 67, 0.3), 0 1px 3px 1px rgba(60, 64, 67, 0.15);\n",
              "    fill: var(--button-hover-fill-color);\n",
              "  }\n",
              "\n",
              "  .colab-df-quickchart-complete:disabled,\n",
              "  .colab-df-quickchart-complete:disabled:hover {\n",
              "    background-color: var(--disabled-bg-color);\n",
              "    fill: var(--disabled-fill-color);\n",
              "    box-shadow: none;\n",
              "  }\n",
              "\n",
              "  .colab-df-spinner {\n",
              "    border: 2px solid var(--fill-color);\n",
              "    border-color: transparent;\n",
              "    border-bottom-color: var(--fill-color);\n",
              "    animation:\n",
              "      spin 1s steps(1) infinite;\n",
              "  }\n",
              "\n",
              "  @keyframes spin {\n",
              "    0% {\n",
              "      border-color: transparent;\n",
              "      border-bottom-color: var(--fill-color);\n",
              "      border-left-color: var(--fill-color);\n",
              "    }\n",
              "    20% {\n",
              "      border-color: transparent;\n",
              "      border-left-color: var(--fill-color);\n",
              "      border-top-color: var(--fill-color);\n",
              "    }\n",
              "    30% {\n",
              "      border-color: transparent;\n",
              "      border-left-color: var(--fill-color);\n",
              "      border-top-color: var(--fill-color);\n",
              "      border-right-color: var(--fill-color);\n",
              "    }\n",
              "    40% {\n",
              "      border-color: transparent;\n",
              "      border-right-color: var(--fill-color);\n",
              "      border-top-color: var(--fill-color);\n",
              "    }\n",
              "    60% {\n",
              "      border-color: transparent;\n",
              "      border-right-color: var(--fill-color);\n",
              "    }\n",
              "    80% {\n",
              "      border-color: transparent;\n",
              "      border-right-color: var(--fill-color);\n",
              "      border-bottom-color: var(--fill-color);\n",
              "    }\n",
              "    90% {\n",
              "      border-color: transparent;\n",
              "      border-bottom-color: var(--fill-color);\n",
              "    }\n",
              "  }\n",
              "</style>\n",
              "\n",
              "      <script>\n",
              "        async function quickchart(key) {\n",
              "          const quickchartButtonEl =\n",
              "            document.querySelector('#' + key + ' button');\n",
              "          quickchartButtonEl.disabled = true;  // To prevent multiple clicks.\n",
              "          quickchartButtonEl.classList.add('colab-df-spinner');\n",
              "          try {\n",
              "            const charts = await google.colab.kernel.invokeFunction(\n",
              "                'suggestCharts', [key], {});\n",
              "          } catch (error) {\n",
              "            console.error('Error during call to suggestCharts:', error);\n",
              "          }\n",
              "          quickchartButtonEl.classList.remove('colab-df-spinner');\n",
              "          quickchartButtonEl.classList.add('colab-df-quickchart-complete');\n",
              "        }\n",
              "        (() => {\n",
              "          let quickchartButtonEl =\n",
              "            document.querySelector('#df-ea790743-99ad-4ba8-b62a-b948b65c16c4 button');\n",
              "          quickchartButtonEl.style.display =\n",
              "            google.colab.kernel.accessAllowed ? 'block' : 'none';\n",
              "        })();\n",
              "      </script>\n",
              "    </div>\n",
              "\n",
              "    </div>\n",
              "  </div>\n"
            ],
            "application/vnd.google.colaboratory.intrinsic+json": {
              "type": "dataframe",
              "summary": "{\n  \"name\": \"dados_tratados\",\n  \"rows\": 8,\n  \"fields\": [\n    {\n      \"column\": \"Released_Year\",\n      \"properties\": {\n        \"dtype\": \"number\",\n        \"std\": 731.3918932761485,\n        \"min\": 23.29716601471224,\n        \"max\": 2020.0,\n        \"num_unique_values\": 8,\n        \"samples\": [\n          1991.2182182182182,\n          1999.0,\n          999.0\n        ],\n        \"semantic_type\": \"\",\n        \"description\": \"\"\n      }\n    },\n    {\n      \"column\": \"IMDB_Rating\",\n      \"properties\": {\n        \"dtype\": \"number\",\n        \"std\": 350.75006201428675,\n        \"min\": 0.2722895085128789,\n        \"max\": 999.0,\n        \"num_unique_values\": 8,\n        \"samples\": [\n          7.947947947947948,\n          7.9,\n          999.0\n        ],\n        \"semantic_type\": \"\",\n        \"description\": \"\"\n      }\n    },\n    {\n      \"column\": \"Meta_score\",\n      \"properties\": {\n        \"dtype\": \"number\",\n        \"std\": 331.6304273499962,\n        \"min\": 11.37376573152677,\n        \"max\": 999.0,\n        \"num_unique_values\": 8,\n        \"samples\": [\n          78.13113113113113,\n          79.0,\n          999.0\n        ],\n        \"semantic_type\": \"\",\n        \"description\": \"\"\n      }\n    },\n    {\n      \"column\": \"No_of_Votes\",\n      \"properties\": {\n        \"dtype\": \"number\",\n        \"std\": 767392.3403630465,\n        \"min\": 999.0,\n        \"max\": 2303232.0,\n        \"num_unique_values\": 8,\n        \"samples\": [\n          271621.42242242245,\n          138356.0,\n          999.0\n        ],\n        \"semantic_type\": \"\",\n        \"description\": \"\"\n      }\n    },\n    {\n      \"column\": \"Runtime_min\",\n      \"properties\": {\n        \"dtype\": \"number\",\n        \"std\": 321.39265274733066,\n        \"min\": 28.101226975251933,\n        \"max\": 999.0,\n        \"num_unique_values\": 8,\n        \"samples\": [\n          122.87187187187187,\n          119.0,\n          999.0\n        ],\n        \"semantic_type\": \"\",\n        \"description\": \"\"\n      }\n    }\n  ]\n}"
            }
          },
          "metadata": {},
          "execution_count": 146
        }
      ]
    },
    {
      "cell_type": "markdown",
      "source": [
        "É possível observar que o filme mais antigo em que temos registro no nosso dataFrame é de 1920 e o mais recente 2020.\n",
        "\n",
        "A Nota mais alta do IMDB é de 9.2 e a mais baixa de 7.6 e com uma média de 7.9.\n",
        "\n",
        "A Nota do Meta Score mais alta é de 100 e a mais baixa é de 28, o desvio padrão é de 11.37 indicando uma alta variação ou possível presença de outliers.\n",
        "\n",
        "O menor número de votos é de 25mil e o maior 2M, aproximadamente, com uma média de 270mil o que pode indicar uma grande variação e possível presença de outliers como filmes super populares puxando a média pra cima.\n",
        "\n",
        "O filme mais longo tem uma duração de 321min ou seja aproximadamente 5h35min, o que não é comum em um filme, indicando um possível outlier ou dados incorretos. O filme mais curto é de 42min, o que pode ser comum em filmes mais antigos."
      ],
      "metadata": {
        "id": "DfYHEJuD8dY9"
      }
    },
    {
      "cell_type": "code",
      "source": [
        "# Importando as bibliotecas para visualização de dados\n",
        "import matplotlib.pyplot as plt\n",
        "import seaborn as sns"
      ],
      "metadata": {
        "id": "w3ItdTnQ5lTS"
      },
      "execution_count": 147,
      "outputs": []
    },
    {
      "cell_type": "code",
      "source": [
        "# Verificando as correlações entre as variáveis\n",
        "dados_num = dados_tratados.select_dtypes(include=['int64', 'float64'])\n",
        "matriz_dados_corr = dados_num.corr()"
      ],
      "metadata": {
        "id": "vcjYgZ4APTFu"
      },
      "execution_count": 148,
      "outputs": []
    },
    {
      "cell_type": "code",
      "source": [
        "# Criando um gráfico heatmap para visualização da matriz de correlação\n",
        "plt.figure(figsize=(15,8))\n",
        "sns.heatmap(matriz_dados_corr, annot=True, cmap='coolwarm', fmt='.2f')\n",
        "plt.title('Matriz de Correlação')\n",
        "plt.show()"
      ],
      "metadata": {
        "colab": {
          "base_uri": "https://localhost:8080/",
          "height": 699
        },
        "id": "KHvCCuwdQR5f",
        "outputId": "f95d668f-5cce-4400-f157-6b112529d2d6"
      },
      "execution_count": 149,
      "outputs": [
        {
          "output_type": "display_data",
          "data": {
            "text/plain": [
              "<Figure size 1500x800 with 2 Axes>"
            ],
            "image/png": "[encoded data removed]"
          },
          "metadata": {}
        }
      ]
    },
    {
      "cell_type": "markdown",
      "source": [
        "Considerando os seguintes parâmetros para os coeficientes:\n",
        "\n",
        "0.0 a 0.3 ➡ fraca\n",
        "\n",
        "0.3 a 0.7 ➡ moderada\n",
        "\n",
        "0.7 a 1.0 ➡ forte\n",
        "\n",
        "\n",
        "Conseguimos visualizar pelo mapa de calor que a variável 'Número de Votos' tem uma correlação considerável com a 'Arrecadação' de coeficiente 0.59 e com a 'Nota IMDB' de coeficiente 0.48.\n",
        "\n",
        "A 'Nota IMDB' tem correlações maiores com as variáveis 'Número de Votos', 'Tempo de Duração' e 'Meta Score'.\n",
        "\n",
        "Podemos notar também que o 'Ano de Lançamento' tem uma correlação inversamente proporcional em relação as variáveis 'Nota IMDB' e 'Meta Score'.\n",
        "\n",
        "O valor de 'Arrecadação' tem correlação maior com o 'Número de Votos' e 'Ano de Lançamento'\n",
        "\n"
      ],
      "metadata": {
        "id": "V75GkNgldTh7"
      }
    },
    {
      "cell_type": "markdown",
      "source": [
        "# Qual filme você recomendaria para uma pessoa que você não conhece?"
      ],
      "metadata": {
        "id": "9nufgSnfGD4L"
      }
    },
    {
      "cell_type": "code",
      "source": [
        "# Verificar os filmes mais populares em relação a pontuação IMDB e Meta Score calculando a média de pontuação\n",
        "# Criando uma nova coluna com a média das notas IMDB e Meta\n",
        "dados_tratados['Nota_Media'] = ((dados_tratados['IMDB_Rating'] * 10) + dados_tratados['Meta_score'])/2\n",
        "dados_tratados.info()"
      ],
      "metadata": {
        "colab": {
          "base_uri": "https://localhost:8080/"
        },
        "id": "T7awWUBJd6aL",
        "outputId": "efe91f01-c573-447e-8dfd-c9118580236e"
      },
      "execution_count": 226,
      "outputs": [
        {
          "output_type": "stream",
          "name": "stdout",
          "text": [
            "<class 'pandas.core.frame.DataFrame'>\n",
            "RangeIndex: 999 entries, 0 to 998\n",
            "Data columns (total 18 columns):\n",
            " #   Column         Non-Null Count  Dtype   \n",
            "---  ------         --------------  -----   \n",
            " 0   Series_Title   999 non-null    object  \n",
            " 1   Released_Year  999 non-null    int64   \n",
            " 2   Certificate    999 non-null    object  \n",
            " 3   Genre          999 non-null    object  \n",
            " 4   IMDB_Rating    999 non-null    float64 \n",
            " 5   Overview       999 non-null    object  \n",
            " 6   Meta_score     999 non-null    float64 \n",
            " 7   Director       999 non-null    object  \n",
            " 8   Star1          999 non-null    object  \n",
            " 9   Star2          999 non-null    object  \n",
            " 10  Star3          999 non-null    object  \n",
            " 11  Star4          999 non-null    object  \n",
            " 12  No_of_Votes    999 non-null    int64   \n",
            " 13  Gross          830 non-null    float64 \n",
            " 14  Runtime_min    999 non-null    int64   \n",
            " 15  Nota_Media     999 non-null    float64 \n",
            " 16  Genre_split    999 non-null    object  \n",
            " 17  Gross_group    830 non-null    category\n",
            "dtypes: category(1), float64(4), int64(3), object(10)\n",
            "memory usage: 134.1+ KB\n"
          ]
        }
      ]
    },
    {
      "cell_type": "code",
      "source": [
        "# Verificando alguns dados estatísticos da 'Nota Média' que acabamos de criar para saber qual a média de notas dos filmes, além da nota média mais alta e a mais baixa\n",
        "dados_tratados['Nota_Media'].describe()"
      ],
      "metadata": {
        "colab": {
          "base_uri": "https://localhost:8080/",
          "height": 335
        },
        "id": "BNkB4_rwDLqF",
        "outputId": "256b869a-e7f5-477b-e910-ae7fa3f8d279"
      },
      "execution_count": 227,
      "outputs": [
        {
          "output_type": "execute_result",
          "data": {
            "text/plain": [
              "count    999.000000\n",
              "mean      78.805305\n",
              "std        6.183515\n",
              "min       52.500000\n",
              "25%       75.500000\n",
              "50%       79.500000\n",
              "75%       82.500000\n",
              "max       96.000000\n",
              "Name: Nota_Media, dtype: float64"
            ],
            "text/html": [
              "<div>\n",
              "<style scoped>\n",
              "    .dataframe tbody tr th:only-of-type {\n",
              "        vertical-align: middle;\n",
              "    }\n",
              "\n",
              "    .dataframe tbody tr th {\n",
              "        vertical-align: top;\n",
              "    }\n",
              "\n",
              "    .dataframe thead th {\n",
              "        text-align: right;\n",
              "    }\n",
              "</style>\n",
              "<table border=\"1\" class=\"dataframe\">\n",
              "  <thead>\n",
              "    <tr style=\"text-align: right;\">\n",
              "      <th></th>\n",
              "      <th>Nota_Media</th>\n",
              "    </tr>\n",
              "  </thead>\n",
              "  <tbody>\n",
              "    <tr>\n",
              "      <th>count</th>\n",
              "      <td>999.000000</td>\n",
              "    </tr>\n",
              "    <tr>\n",
              "      <th>mean</th>\n",
              "      <td>78.805305</td>\n",
              "    </tr>\n",
              "    <tr>\n",
              "      <th>std</th>\n",
              "      <td>6.183515</td>\n",
              "    </tr>\n",
              "    <tr>\n",
              "      <th>min</th>\n",
              "      <td>52.500000</td>\n",
              "    </tr>\n",
              "    <tr>\n",
              "      <th>25%</th>\n",
              "      <td>75.500000</td>\n",
              "    </tr>\n",
              "    <tr>\n",
              "      <th>50%</th>\n",
              "      <td>79.500000</td>\n",
              "    </tr>\n",
              "    <tr>\n",
              "      <th>75%</th>\n",
              "      <td>82.500000</td>\n",
              "    </tr>\n",
              "    <tr>\n",
              "      <th>max</th>\n",
              "      <td>96.000000</td>\n",
              "    </tr>\n",
              "  </tbody>\n",
              "</table>\n",
              "</div><br><label><b>dtype:</b> float64</label>"
            ]
          },
          "metadata": {},
          "execution_count": 227
        }
      ]
    },
    {
      "cell_type": "markdown",
      "source": [
        "Podemos observar que a nota média dos filmes é de 78.8.\n",
        "\n",
        "A maior nota média é de 96.0 e a menor é de 52.5.\n",
        "\n",
        "Podemos observar também que pelo menos 75% dos filmes tem uma nota média abaixo de 82.2 e 50% dos filmes tem uma nota de 79.5 o que se aproxima muito da média.\n",
        "\n",
        "25% dos filmes tem uma nota abaixo de 75.5.\n",
        "\n",
        "Tanto a nota mais alta de 96.0 quanto a nota mais baixa de 52.5 estão bem distantes da média, indicando possível presença de outliers."
      ],
      "metadata": {
        "id": "G46dEIJRD6Mt"
      }
    },
    {
      "cell_type": "code",
      "source": [
        "# Selecionando os top 20 melhores avaliados segundo a 'Nota Média' calculada\n",
        "top_20_nota_media = dados_tratados.sort_values(by='Nota_Media', ascending=False).head(20)\n",
        "print(top_20_nota_media[['Series_Title', 'Nota_Media']].to_string())"
      ],
      "metadata": {
        "colab": {
          "base_uri": "https://localhost:8080/"
        },
        "id": "sMMlHys2d6OZ",
        "outputId": "c1e8977c-49ba-4222-bf4e-b2fad97630ae"
      },
      "execution_count": 225,
      "outputs": [
        {
          "output_type": "stream",
          "name": "stdout",
          "text": [
            "                                                             Series_Title  Nota_Media\n",
            "0                                                           The Godfather        96.0\n",
            "3                                                            12 Angry Men        93.0\n",
            "49                                                             Casablanca        92.5\n",
            "80                                                            Rear Window        92.0\n",
            "51                                                            City Lights        92.0\n",
            "30                                                   Shichinin no samurai        92.0\n",
            "5                                                            Pulp Fiction        91.5\n",
            "4                           The Lord of the Rings: The Return of the King        91.5\n",
            "6                                                        Schindler's List        91.5\n",
            "118                                                               Vertigo        91.5\n",
            "123                                                          Citizen Kane        91.5\n",
            "115                                                    Lawrence of Arabia        91.5\n",
            "48                                                                 Psycho        91.0\n",
            "18                                                           Gisaengchung        91.0\n",
            "119                                                   Singin' in the Rain        91.0\n",
            "22                                          Sen to Chihiro no kamikakushi        91.0\n",
            "117                                                    North by Northwest        90.5\n",
            "77   Dr. Strangelove or: How I Learned to Stop Worrying and Love the Bomb        90.5\n",
            "50                                                           Modern Times        90.5\n",
            "125                                                            Metropolis        90.5\n"
          ]
        }
      ]
    },
    {
      "cell_type": "markdown",
      "source": [
        "Se utilizarmos apenas a Nota Média de avaliação de cada filme, podemos listar e recomendar estes filmes acima como os mais recomendados. Porém, podemos analisar outros fatores de popularidade como o 'Genero' para que nossa lista de recomendação seja mais assertiva.\n",
        "\n"
      ],
      "metadata": {
        "id": "YRGDD3CUGTDO"
      }
    },
    {
      "cell_type": "code",
      "source": [
        "# Separar a coluna 'Genre' em listas para auxiliar na contagem dos gêneros\n",
        "dados_tratados['Genre_split'] = dados_tratados['Genre'].str.split(', ')"
      ],
      "metadata": {
        "id": "A2ZVRoRBtU3K"
      },
      "execution_count": 152,
      "outputs": []
    },
    {
      "cell_type": "code",
      "source": [
        "# Explodir as listas para criar novas linhas com valor único\n",
        "dados_genero = dados_tratados.explode('Genre_split')"
      ],
      "metadata": {
        "id": "vU7uTb9tvaSv"
      },
      "execution_count": 153,
      "outputs": []
    },
    {
      "cell_type": "code",
      "source": [
        "# Limpando os espaços para garantir valores únicos\n",
        "dados_genero['Genre_split'] = dados_genero['Genre_split'].fillna('').astype(str).str.strip()"
      ],
      "metadata": {
        "id": "o4FRdOW64ocZ"
      },
      "execution_count": 154,
      "outputs": []
    },
    {
      "cell_type": "code",
      "source": [
        "# Contagem de gênero\n",
        "genero_contagem = dados_genero['Genre_split'].value_counts()\n",
        "print(genero_contagem)"
      ],
      "metadata": {
        "colab": {
          "base_uri": "https://localhost:8080/"
        },
        "id": "C3lqJWOksIqU",
        "outputId": "b3f882a1-fd67-4094-f429-ce03defe8358"
      },
      "execution_count": 155,
      "outputs": [
        {
          "output_type": "stream",
          "name": "stdout",
          "text": [
            "Genre_split\n",
            "drama        723\n",
            "comedy       233\n",
            "crime        209\n",
            "adventure    196\n",
            "action       189\n",
            "thriller     137\n",
            "romance      125\n",
            "biography    109\n",
            "mystery       99\n",
            "animation     82\n",
            "sci-fi        67\n",
            "fantasy       66\n",
            "history       56\n",
            "family        56\n",
            "war           51\n",
            "music         35\n",
            "horror        32\n",
            "western       20\n",
            "film-noir     19\n",
            "sport         19\n",
            "musical       17\n",
            "Name: count, dtype: int64\n"
          ]
        }
      ]
    },
    {
      "cell_type": "markdown",
      "source": [
        "Podemos verificar que o genero 'drama' é o que aparece com mais frequencia, seguido de 'comedy' e 'crime'."
      ],
      "metadata": {
        "id": "HJquXAhZHenN"
      }
    },
    {
      "cell_type": "code",
      "source": [
        "# Criando um gráfico de barras para representar a quantidade de filmes por gênero\n",
        "plt.figure(figsize=(12,8))\n",
        "sns.barplot(y=genero_contagem.index, x=genero_contagem.values)\n",
        "plt.title('Quantidade de Filmes por Gênero', fontsize=14)\n",
        "plt.xlabel('')\n",
        "plt.ylabel('')\n",
        "plt.show()\n",
        "\n"
      ],
      "metadata": {
        "colab": {
          "base_uri": "https://localhost:8080/",
          "height": 701
        },
        "id": "DzM3M5j45mtW",
        "outputId": "f6bc7b5e-49e9-4c90-b7c9-bb9f9dbefb2f"
      },
      "execution_count": 230,
      "outputs": [
        {
          "output_type": "display_data",
          "data": {
            "text/plain": [
              "<Figure size 1200x800 with 1 Axes>"
            ],
            "image/png": "[encoded data removed]"
          },
          "metadata": {}
        }
      ]
    },
    {
      "cell_type": "markdown",
      "source": [
        "No gráfico de barras acima é possível visualizar com clareza que o gênero 'drama' é o mais popular, aparecendo com muito mais frequencia que os outros gêneros. O gênero 'comedy' apesar de ser o segundo da lista ainda tem menos da metade de aparições que o genero 'drama'."
      ],
      "metadata": {
        "id": "Vecmwpt9IDQC"
      }
    },
    {
      "cell_type": "code",
      "source": [
        "# Verificando a nota média de cada gênero\n",
        "top_genero_media = dados_genero.groupby('Genre_split')['Nota_Media'].mean().sort_values(ascending=False)\n",
        "print(top_genero_media)"
      ],
      "metadata": {
        "colab": {
          "base_uri": "https://localhost:8080/"
        },
        "id": "Qk56uEapxdZu",
        "outputId": "df1ebb55-4466-46df-8339-e35085c9d45c"
      },
      "execution_count": 157,
      "outputs": [
        {
          "output_type": "stream",
          "name": "stdout",
          "text": [
            "Genre_split\n",
            "film-noir    83.710526\n",
            "western      81.550000\n",
            "war          80.137255\n",
            "animation    80.109756\n",
            "romance      80.076000\n",
            "horror       80.015625\n",
            "history      79.366071\n",
            "mystery      79.242424\n",
            "drama        78.888658\n",
            "musical      78.852941\n",
            "adventure    78.803571\n",
            "comedy       78.596567\n",
            "family       78.562500\n",
            "sci-fi       78.276119\n",
            "music        78.200000\n",
            "thriller     78.149635\n",
            "fantasy      77.992424\n",
            "biography    77.986239\n",
            "crime        77.822967\n",
            "action       77.084656\n",
            "sport        76.236842\n",
            "Name: Nota_Media, dtype: float64\n"
          ]
        }
      ]
    },
    {
      "cell_type": "markdown",
      "source": [
        "Apesar do gênero 'drama' ser o mais popular em relação a frequência de vezes que ele aparece, ele não aparece em primeiro na lsita das melhores notas médias.\n",
        "\n",
        "O gênero melhor avaliado seria o 'film-noir' com nota média de 83.71.\n",
        "\n",
        "E o gênero com pior avaliação é o 'sport' com nota média de 76.23.\n",
        "\n",
        "'Drama' segue com a pontuação media de 78.88 em 9º lugar no ranking de pontuação média."
      ],
      "metadata": {
        "id": "6Zs5juVXJHCW"
      }
    },
    {
      "cell_type": "code",
      "source": [
        "# Visualizando as notas média por gênero em um gráfico de barras\n",
        "plt.figure(figsize=(12,6))\n",
        "sns.barplot(x=top_genero_media.index, y=top_genero_media.values)\n",
        "nota = 78.8\n",
        "plt.axhline(y=nota, color='red', linewidth=0.5)\n",
        "plt.title('Nota Média por Gênero', fontsize=14)\n",
        "plt.xticks(rotation=45)\n",
        "plt.xlabel('')\n",
        "plt.ylabel('')\n",
        "plt.show()\n"
      ],
      "metadata": {
        "colab": {
          "base_uri": "https://localhost:8080/",
          "height": 593
        },
        "id": "_hOi-Qwow8aY",
        "outputId": "0b88c3d9-7d27-47b0-fc34-3d8e888389d5"
      },
      "execution_count": 231,
      "outputs": [
        {
          "output_type": "display_data",
          "data": {
            "text/plain": [
              "<Figure size 1200x600 with 1 Axes>"
            ],
            "image/png": "[encoded data removed]"
          },
          "metadata": {}
        }
      ]
    },
    {
      "cell_type": "markdown",
      "source": [
        "No gráfico acima podemos observar que os gêneros 'film-noir', 'western', 'war', 'animation', 'romance', 'horror', 'history' e 'mystery' estão acima da média de 78.8.\n",
        "\n",
        "O gênero 'drama' fica muito próximo da linha da média, ele não se destaca em relação aos outros.\n",
        "\n",
        "Assim, o gênero 'drama' apesar de aparecer com mais frequência, não é o fator decisivo para uma nota média mais alta."
      ],
      "metadata": {
        "id": "im5o9-ApKZlE"
      }
    },
    {
      "cell_type": "code",
      "source": [
        "# Média de ano de lançamento por gênero\n",
        "top_lancamento_media = dados_genero.groupby('Genre_split')['Released_Year'].mean().sort_values(ascending=False)\n",
        "print(top_lancamento_media)"
      ],
      "metadata": {
        "colab": {
          "base_uri": "https://localhost:8080/"
        },
        "id": "e4DoXKVtw8N8",
        "outputId": "b4c005c4-014b-477a-d5f0-fa6392dad431"
      },
      "execution_count": 159,
      "outputs": [
        {
          "output_type": "stream",
          "name": "stdout",
          "text": [
            "Genre_split\n",
            "animation    2002.219512\n",
            "sport        2001.736842\n",
            "biography    1998.577982\n",
            "action       1997.719577\n",
            "music        1996.657143\n",
            "adventure    1995.056122\n",
            "drama        1992.182573\n",
            "sci-fi       1992.164179\n",
            "crime        1991.913876\n",
            "fantasy      1991.287879\n",
            "comedy       1991.034335\n",
            "thriller     1990.963504\n",
            "family       1988.625000\n",
            "history      1988.500000\n",
            "mystery      1987.737374\n",
            "romance      1987.400000\n",
            "musical      1979.294118\n",
            "war          1979.196078\n",
            "horror       1969.531250\n",
            "western      1969.450000\n",
            "film-noir    1948.578947\n",
            "Name: Released_Year, dtype: float64\n"
          ]
        }
      ]
    },
    {
      "cell_type": "markdown",
      "source": [
        "A partir das médias de Ano de Lançamento podemos observar que o gênero 'animação' tem a tendência de ter o ano de lançamento mais recente, o que pode indicar uma tendência do mercado.\n",
        "\n",
        "Em contrapartida, o gênero film-noir, que verificamos ser o gênero melhor avaliado de acordo com sua nota média, tem a tendência a ter o ano de lançamento mais antigo, o que pode indicar uma queda de tendências no mercado, mostrando que esses gêneros podem não ser tão populares atualmente."
      ],
      "metadata": {
        "id": "C_QU938yLaxM"
      }
    },
    {
      "cell_type": "code",
      "source": [
        "# Selecionar os filmes por ano de lançamento e nota média\n",
        "melhores_filmes_recentes = (dados_tratados[dados_tratados['Nota_Media'] > 78.8][['Series_Title', 'Released_Year', 'Nota_Media','Genre']].sort_values(\n",
        "    by=['Released_Year', 'Nota_Media'], ascending=[False, False]))\n",
        "print(melhores_filmes_recentes.head(20).to_string())"
      ],
      "metadata": {
        "colab": {
          "base_uri": "https://localhost:8080/"
        },
        "id": "ts7SohUXKDbf",
        "outputId": "25e50a86-2824-4a2b-a4bd-849797d513dd"
      },
      "execution_count": 248,
      "outputs": [
        {
          "output_type": "stream",
          "name": "stdout",
          "text": [
            "                          Series_Title  Released_Year  Nota_Media                         Genre\n",
            "17                            Hamilton           2020        88.0     biography, drama, history\n",
            "19                     Soorarai Pottru           2020        82.5                         drama\n",
            "204                               Soul           2020        82.0  animation, adventure, comedy\n",
            "612                               Druk           2020        79.5                 comedy, drama\n",
            "463                        Dil Bechara           2020        79.0        comedy, drama, romance\n",
            "18                        Gisaengchung           2019        91.0       comedy, drama, thriller\n",
            "194  Portrait de la jeune fille en feu           2019        88.0                drama, romance\n",
            "465                     Marriage Story           2019        86.5        comedy, drama, romance\n",
            "483                       The Irishman           2019        86.5       biography, crime, drama\n",
            "584                       Little Women           2019        84.5                drama, romance\n",
            "58                   Avengers: Endgame           2019        81.0      action, adventure, drama\n",
            "90                Miracle in cell NO.7           2019        81.0                         drama\n",
            "216                     Ford v Ferrari           2019        81.0      action, biography, drama\n",
            "595                        Toy Story 4           2019        81.0  animation, adventure, comedy\n",
            "83                                1917           2019        80.5          drama, thriller, war\n",
            "127                         Chhichhore           2019        80.5                 comedy, drama\n",
            "462                         Knives Out           2019        80.5          comedy, crime, drama\n",
            "570                     Sound of Metal           2019        79.5                  drama, music\n",
            "878   Once Upon a Time... in Hollywood           2019        79.5                 comedy, drama\n",
            "719                               Roma           2018        86.5                         drama\n"
          ]
        }
      ]
    },
    {
      "cell_type": "markdown",
      "source": [
        "Os filmes que eu indicaria, considerando os lançamentos mais recentes e com pontuação acima da média de 78.8, seriam estes acima.\n",
        "\n",
        "Com destaque para o filme 'Hamilton' sendo o mais recente e com pontuação acima da média com 88.0 e o filme 'Gisaenchung' com a pontuação mais alta entre os mais recentes com 91.0.\n",
        "\n",
        "Podemos observar também que a maioria possui 'drama' em sua lista de gênero, que é o mais popular, mas não decisivo na nota média do filme."
      ],
      "metadata": {
        "id": "WmnWZe_pTjhg"
      }
    },
    {
      "cell_type": "code",
      "source": [
        "# Selecionar os filmes por ano de lançamento e nota média\n",
        "melhores_filmes_recentes = (dados_tratados[dados_tratados['Nota_Media'] > 78.8][['Series_Title', 'Released_Year', 'Nota_Media','Genre']].sort_values(\n",
        "    by=['Nota_Media', 'Released_Year'], ascending=[False, False]))\n",
        "print(melhores_filmes_recentes.head(20).to_string())"
      ],
      "metadata": {
        "colab": {
          "base_uri": "https://localhost:8080/"
        },
        "id": "QHT1YV5eR6aZ",
        "outputId": "143fbf1f-288f-4e59-ac2a-852e48371d66"
      },
      "execution_count": 251,
      "outputs": [
        {
          "output_type": "stream",
          "name": "stdout",
          "text": [
            "                                                             Series_Title  Released_Year  Nota_Media                         Genre\n",
            "0                                                           The Godfather           1972        96.0                  crime, drama\n",
            "3                                                            12 Angry Men           1957        93.0                  crime, drama\n",
            "49                                                             Casablanca           1942        92.5           drama, romance, war\n",
            "30                                                   Shichinin no samurai           1954        92.0      action, adventure, drama\n",
            "80                                                            Rear Window           1954        92.0             mystery, thriller\n",
            "51                                                            City Lights           1931        92.0        comedy, drama, romance\n",
            "4                           The Lord of the Rings: The Return of the King           2003        91.5      action, adventure, drama\n",
            "5                                                            Pulp Fiction           1994        91.5                  crime, drama\n",
            "6                                                        Schindler's List           1993        91.5     biography, drama, history\n",
            "115                                                    Lawrence of Arabia           1962        91.5   adventure, biography, drama\n",
            "118                                                               Vertigo           1958        91.5    mystery, romance, thriller\n",
            "123                                                          Citizen Kane           1941        91.5                drama, mystery\n",
            "18                                                           Gisaengchung           2019        91.0       comedy, drama, thriller\n",
            "22                                          Sen to Chihiro no kamikakushi           2001        91.0  animation, adventure, family\n",
            "48                                                                 Psycho           1960        91.0     horror, mystery, thriller\n",
            "119                                                   Singin' in the Rain           1952        91.0      comedy, musical, romance\n",
            "259                                                 Trois couleurs: Rouge           1994        90.5       drama, mystery, romance\n",
            "273                                                   Fanny och Alexander           1982        90.5                         drama\n",
            "77   Dr. Strangelove or: How I Learned to Stop Worrying and Love the Bomb           1964        90.5                        comedy\n",
            "117                                                    North by Northwest           1959        90.5  adventure, mystery, thriller\n"
          ]
        }
      ]
    },
    {
      "cell_type": "markdown",
      "source": [
        "Mas se priorizarmos a avaliação média, não se importando para o ano de lançamento, estes filmes acima seriam a minha recomendação.\n",
        "\n",
        "Com destaque ao filme 'The Godfather' de 1972 com a pontuação mais alta de 96.0."
      ],
      "metadata": {
        "id": "VvSKxsH6VM-b"
      }
    },
    {
      "cell_type": "markdown",
      "source": [
        "# Top 20 Filmes"
      ],
      "metadata": {
        "id": "E-NPCjPxf6jF"
      }
    },
    {
      "cell_type": "markdown",
      "source": [
        "Vamos visualizar agora quais são top 20 filmes com maior Arrecadação, Número de Votos, Tempo de Duração e Nota Média.\n",
        "\n",
        "Vamos verificar também se há algum filme que se encaixe em todas essas categorias no nosso top 20."
      ],
      "metadata": {
        "id": "yzgjUFbrewaR"
      }
    },
    {
      "cell_type": "code",
      "source": [
        "# Visualizando os top 20 filmes com maior arrecadação e verificando também seus valores de Número de Votos, Nota Média, Tempo de Duração e Ano de Lançamento\n",
        "top_20_filmes_gross = dados_tratados.sort_values(by='Gross', ascending=False).head(20)\n",
        "\n",
        "print('TOP 20 MAIORES ARRECADAÇÕES')\n",
        "print('NOME DO FILME  X  ARRECADAÇÃO  X  NUMERO DE VOTOS  X   NOTA MÉDIA  X  DURAÇÃO(MIN)  X  ANO DE LANÇAMENTO')\n",
        "print('-'*115)\n",
        "\n",
        "for titulo, gross, votos, notamedia, runtime, ano in zip(top_20_filmes_gross['Series_Title'],\n",
        "                                          top_20_filmes_gross['Gross'],\n",
        "                                          top_20_filmes_gross['No_of_Votes'],\n",
        "                                          top_20_filmes_gross['Nota_Media'],\n",
        "                                          top_20_filmes_gross['Runtime_min'],\n",
        "                                          top_20_filmes_gross['Released_Year']):\n",
        "    print(f'{titulo:<50}, {gross:>10}, {votos:>10} {notamedia:>10}, {runtime:>10}min, {ano:>10}')"
      ],
      "metadata": {
        "id": "-cYkOIVkywXa",
        "colab": {
          "base_uri": "https://localhost:8080/"
        },
        "outputId": "01e7902a-f4a7-41db-8953-aa1c1b28f6ac"
      },
      "execution_count": 222,
      "outputs": [
        {
          "output_type": "stream",
          "name": "stdout",
          "text": [
            "TOP 20 MAIORES ARRECADAÇÕES\n",
            "NOME DO FILME  X  ARRECADAÇÃO  X  NUMERO DE VOTOS  X   NOTA MÉDIA  X  DURAÇÃO(MIN)  X  ANO DE LANÇAMENTO\n",
            "-------------------------------------------------------------------------------------------------------------------\n",
            "Star Wars: Episode VII - The Force Awakens        , 936662225.0,     860823       79.5,        138min,       2015\n",
            "Avengers: Endgame                                 , 858373000.0,     809955       81.0,        181min,       2019\n",
            "Avatar                                            , 760507625.0,    1118998       80.5,        162min,       2009\n",
            "Avengers: Infinity War                            , 678815482.0,     834477       76.0,        149min,       2018\n",
            "Titanic                                           , 659325379.0,    1046089       76.5,        194min,       1997\n",
            "The Avengers                                      , 623279547.0,    1260806       74.5,        143min,       2012\n",
            "Incredibles 2                                     , 608581744.0,     250057       78.0,        118min,       2018\n",
            "The Dark Knight                                   , 534858444.0,    2303232       87.0,        152min,       2008\n",
            "Rogue One                                         , 532177324.0,     556608       71.5,        133min,       2016\n",
            "The Dark Knight Rises                             , 448139099.0,    1516346       81.0,        164min,       2012\n",
            "E.T. the Extra-Terrestrial                        , 435110554.0,     372490       84.5,        115min,       1982\n",
            "Toy Story 4                                       , 434038008.0,     203177       81.0,        100min,       2019\n",
            "The Lion King                                     , 422783777.0,     942045       86.5,         88min,       1994\n",
            "Toy Story 3                                       , 415004880.0,     757032       87.0,        103min,       2010\n",
            "Captain America: Civil War                        , 408084349.0,     663649       76.5,        147min,       2016\n",
            "Jurassic Park                                     , 402453882.0,     867615       74.5,        127min,       1993\n",
            "Guardians of the Galaxy Vol. 2                    , 389813101.0,     569974       71.5,        136min,       2017\n",
            "Harry Potter and the Deathly Hallows: Part 2      , 381011219.0,     764493       83.0,        130min,       2011\n",
            "Finding Nemo                                      , 380843261.0,     949565       85.5,        100min,       2003\n",
            "The Lord of the Rings: The Return of the King     , 377845905.0,    1642758       91.5,        201min,       2003\n"
          ]
        }
      ]
    },
    {
      "cell_type": "code",
      "source": [
        "# Visualizando os top 20 filmes com maior número de votos e verificando seus valores de Arrecadação, Nota Média, Tempo de Duração e Ano de Lançamento\n",
        "top_20_filmes_votos = dados_tratados.sort_values(by= 'No_of_Votes', ascending=False).head(20)\n",
        "\n",
        "print('TOP 20 MAIORES NÚMERO DE VOTOS')\n",
        "print('NOME DO FILME  X  TEMPO DE DURAÇÃO(MIN) X NOTA MÉDIA  X  ARRECADAÇÃO  X  ANO DE LANÇAMENTO')\n",
        "print('-' *105)\n",
        "\n",
        "for titulo, runtime, notamedia, gross, ano in zip(top_20_filmes_votos['Series_Title'],\n",
        "                                    top_20_filmes_votos['Runtime_min'],\n",
        "                                    top_20_filmes_votos['Nota_Media'],\n",
        "                                    top_20_filmes_votos['Gross'],\n",
        "                                    top_20_filmes_votos['Released_Year']):\n",
        "    print(f'{titulo:<50}, {runtime:>10}, {notamedia:>10}, {gross:>15}, {ano:>10}')"
      ],
      "metadata": {
        "colab": {
          "base_uri": "https://localhost:8080/"
        },
        "id": "DnRQtinE1Caf",
        "outputId": "7c84b202-b717-4d4b-ca57-8551e2f2b219"
      },
      "execution_count": 259,
      "outputs": [
        {
          "output_type": "stream",
          "name": "stdout",
          "text": [
            "TOP 20 MAIORES NÚMERO DE VOTOS\n",
            "NOME DO FILME  X  TEMPO DE DURAÇÃO(MIN) X NOTA MÉDIA  X  ARRECADAÇÃO  X  ANO DE LANÇAMENTO\n",
            "---------------------------------------------------------------------------------------------------------\n",
            "The Dark Knight                                   ,        152,       87.0,     534858444.0,       2008\n",
            "Inception                                         ,        148,       81.0,     292576195.0,       2010\n",
            "Fight Club                                        ,        139,       77.0,      37030102.0,       1999\n",
            "Pulp Fiction                                      ,        154,       91.5,     107928762.0,       1994\n",
            "Forrest Gump                                      ,        142,       85.0,     330252182.0,       1994\n",
            "The Matrix                                        ,        136,       80.0,     171479930.0,       1999\n",
            "The Lord of the Rings: The Fellowship of the Ring ,        178,       90.0,     315544750.0,       2001\n",
            "The Lord of the Rings: The Return of the King     ,        201,       91.5,     377845905.0,       2003\n",
            "The Godfather                                     ,        175,       96.0,     134966411.0,       1972\n",
            "The Dark Knight Rises                             ,        164,       81.0,     448139099.0,       2012\n",
            "Interstellar                                      ,        169,       80.0,     188020017.0,       2014\n",
            "The Lord of the Rings: The Two Towers             ,        179,       87.0,     342551365.0,       2002\n",
            "Se7en                                             ,        127,       75.5,     100125643.0,       1995\n",
            "Django Unchained                                  ,        165,       82.5,     162805434.0,       2012\n",
            "Gladiator                                         ,        155,       76.0,     187705427.0,       2000\n",
            "Batman Begins                                     ,        140,       76.0,     206852432.0,       2005\n",
            "The Silence of the Lambs                          ,        118,       85.5,     130742922.0,       1991\n",
            "Inglourious Basterds                              ,        153,       76.0,     120540719.0,       2009\n",
            "The Avengers                                      ,        143,       74.5,     623279547.0,       2012\n",
            "Saving Private Ryan                               ,        169,       88.5,     216540909.0,       1998\n"
          ]
        }
      ]
    },
    {
      "cell_type": "code",
      "source": [
        "top_20_filmes_runtime = dados_tratados.copy()\n",
        "top_20_filmes_runtime = dados_tratados.sort_values(by= 'Runtime_min', ascending=False).head(20)\n",
        "top_20_filmes_runtime['Gross'] = top_20_filmes_runtime['Gross'].fillna('Unkown')\n",
        "\n",
        "print('TOP 20 MAIORES DURAÇÃO')\n",
        "print('NOME DO FILME  X  DURAÇÃO(MIN)  X  NOTA MÉDIA X ARRECADAÇÃO  X  ANO DE LANÇAMENTO')\n",
        "print('-'*105)\n",
        "for titulo, runtime, notamedia, gross, ano in zip(top_20_filmes_runtime['Series_Title'],\n",
        "                               top_20_filmes_runtime['Runtime_min'],\n",
        "                               top_20_filmes_runtime['Nota_Media'],\n",
        "                               top_20_filmes_runtime['Gross'],\n",
        "                               top_20_filmes_runtime['Released_Year']\n",
        "                               ):\n",
        "    print(f'{titulo:<50}, {runtime:>10}min, {notamedia:>10} {gross:>15}, {ano:>10}')\n"
      ],
      "metadata": {
        "id": "XokTXRWl1PY4",
        "colab": {
          "base_uri": "https://localhost:8080/"
        },
        "outputId": "3eead5ab-c709-4417-cc23-77b86e2774f7"
      },
      "execution_count": 258,
      "outputs": [
        {
          "output_type": "stream",
          "name": "stdout",
          "text": [
            "TOP 20 MAIORES DURAÇÃO\n",
            "NOME DO FILME  X  DURAÇÃO(MIN)  X  NOTA MÉDIA X ARRECADAÇÃO  X  ANO DE LANÇAMENTO\n",
            "---------------------------------------------------------------------------------------------------------\n",
            "Gangs of Wasseypur                                ,        321min,       85.5          Unkown,       2012\n",
            "Hamlet                                            ,        242min,       78.0       4414535.0,       1996\n",
            "Gone with the Wind                                ,        238min,       89.0     198676459.0,       1939\n",
            "Once Upon a Time in America                       ,        229min,       81.5       5321508.0,       1984\n",
            "Lawrence of Arabia                                ,        228min,       91.5      44824144.0,       1962\n",
            "Lagaan: Once Upon a Time in India                 ,        224min,       82.5         70147.0,       2001\n",
            "The Ten Commandments                              ,        220min,       79.0      93740000.0,       1956\n",
            "Ben-Hur                                           ,        212min,       85.5      74700000.0,       1959\n",
            "Swades: We, the People                            ,        210min,       80.5       1223240.0,       2004\n",
            "The Irishman                                      ,        209min,       86.5       7000000.0,       2019\n",
            "Shichinin no samurai                              ,        207min,       92.0        269061.0,       1954\n",
            "Andrei Rublev                                     ,        205min,       80.0        102021.0,       1966\n",
            "Sholay                                            ,        204min,       80.5          Unkown,       1975\n",
            "Malcolm X                                         ,        202min,       75.0      48169908.0,       1992\n",
            "The Godfather: Part II                            ,        202min,       90.0      57300000.0,       1974\n",
            "The Lord of the Rings: The Return of the King     ,        201min,       91.5     377845905.0,       2003\n",
            "Giant                                             ,        201min,       80.0          Unkown,       1956\n",
            "Spartacus                                         ,        197min,       83.0      30000000.0,       1960\n",
            "Doctor Zhivago                                    ,        197min,       74.5     111722000.0,       1965\n",
            "Kis Uykusu                                        ,        196min,       84.5        165520.0,       2014\n"
          ]
        }
      ]
    },
    {
      "cell_type": "code",
      "source": [
        "top_20_filmes_notamedia = dados_tratados.copy()\n",
        "top_20_filmes_notamedia = dados_tratados.sort_values(by= 'Nota_Media', ascending=False).head(20)\n",
        "top_20_filmes_notamedia['Gross'] = top_20_filmes_runtime['Gross'].fillna('Unkown')\n",
        "\n",
        "print('TOP 20 MAIORES DURAÇÃO')\n",
        "print('NOME DO FILME  X  DURAÇÃO(MIN)  X  NOTA MÉDIA X  ARRECADAÇÃO  X  ANO DE LANÇAMENTO')\n",
        "print('-------------------------------------------------------------------------------------')\n",
        "for titulo, runtime, notamedia, gross, ano in zip(top_20_filmes_notamedia['Series_Title'],\n",
        "                               top_20_filmes_notamedia['Runtime_min'],\n",
        "                               top_20_filmes_notamedia['Nota_Media'],\n",
        "                               top_20_filmes_notamedia['Gross'],\n",
        "                               top_20_filmes_notamedia['Released_Year']\n",
        "                               ):\n",
        "    print(f'{titulo:<50}, {runtime:>10}min, {notamedia:>10} {gross:>15}, {ano:>10}')\n"
      ],
      "metadata": {
        "colab": {
          "base_uri": "https://localhost:8080/"
        },
        "id": "MvCcreWhhEDu",
        "outputId": "f7279aed-c7db-467a-d064-ba928c1fb91d"
      },
      "execution_count": 262,
      "outputs": [
        {
          "output_type": "stream",
          "name": "stdout",
          "text": [
            "TOP 20 MAIORES DURAÇÃO\n",
            "NOME DO FILME  X  DURAÇÃO(MIN)  X  NOTA MÉDIA X  ARRECADAÇÃO  X  ANO DE LANÇAMENTO\n",
            "-------------------------------------------------------------------------------------\n",
            "The Godfather                                     ,        175min,       96.0             nan,       1972\n",
            "12 Angry Men                                      ,         96min,       93.0             nan,       1957\n",
            "Casablanca                                        ,        102min,       92.5             nan,       1942\n",
            "Rear Window                                       ,        112min,       92.0             nan,       1954\n",
            "City Lights                                       ,         87min,       92.0             nan,       1931\n",
            "Shichinin no samurai                              ,        207min,       92.0        269061.0,       1954\n",
            "Pulp Fiction                                      ,        154min,       91.5             nan,       1994\n",
            "The Lord of the Rings: The Return of the King     ,        201min,       91.5     377845905.0,       2003\n",
            "Schindler's List                                  ,        195min,       91.5             nan,       1993\n",
            "Vertigo                                           ,        128min,       91.5             nan,       1958\n",
            "Citizen Kane                                      ,        119min,       91.5             nan,       1941\n",
            "Lawrence of Arabia                                ,        228min,       91.5      44824144.0,       1962\n",
            "Psycho                                            ,        109min,       91.0             nan,       1960\n",
            "Gisaengchung                                      ,        132min,       91.0             nan,       2019\n",
            "Singin' in the Rain                               ,        103min,       91.0             nan,       1952\n",
            "Sen to Chihiro no kamikakushi                     ,        125min,       91.0             nan,       2001\n",
            "North by Northwest                                ,        136min,       90.5             nan,       1959\n",
            "Dr. Strangelove or: How I Learned to Stop Worrying and Love the Bomb,         95min,       90.5             nan,       1964\n",
            "Modern Times                                      ,         87min,       90.5             nan,       1936\n",
            "Metropolis                                        ,        153min,       90.5             nan,       1927\n"
          ]
        }
      ]
    },
    {
      "cell_type": "code",
      "source": [
        "title_gross = set(top_20_filmes_gross['Series_Title'])\n",
        "title_votos = set(top_20_filmes_votos['Series_Title'])\n",
        "title_runtime = set(top_20_filmes_runtime['Series_Title'])\n",
        "title_notamedia = set(top_20_filmes_notamedia['Series_Title'])\n",
        "\n",
        "intersecao = title_gross.intersection(title_votos, title_runtime, title_notamedia)\n",
        "print(intersecao)"
      ],
      "metadata": {
        "colab": {
          "base_uri": "https://localhost:8080/"
        },
        "id": "6KI_Zosz-yqI",
        "outputId": "15696413-dde1-42d2-e8ea-ead6b3e8b8b8"
      },
      "execution_count": 263,
      "outputs": [
        {
          "output_type": "stream",
          "name": "stdout",
          "text": [
            "{'The Lord of the Rings: The Return of the King'}\n"
          ]
        }
      ]
    },
    {
      "cell_type": "markdown",
      "source": [
        "Podemos verificar que o filme 'The Lord of the Rings: The Return of the King' é o único que está presente em todas as lista de top 20 maiores em arrecadação, número de votos, nota média e maior tempo de duração.\n",
        "\n",
        "Um filme com maior arrecadação e número de votos indica popularidade.\n",
        "\n",
        "Maior nota média indica que o filme foi bem avaliado tanto pelo público geral quanto pelos críticos especialistas.\n",
        "\n",
        "Um filme com maior duração, apesar de não ser decisivo, tende a faturar mais. indicando que possivelmente o público tende a gostar de filmes mais longos.\n",
        "\n",
        "Assim, considerando os fatores analisados acima, o filme 'The Lord of the Rings: The Return of the King' seria o mais recomendado.\n",
        "\n"
      ],
      "metadata": {
        "id": "rcKiI66qZcEm"
      }
    },
    {
      "cell_type": "markdown",
      "source": [
        "# Quais são os principais fatores que estão relacionados com alta expectativa de faturamento de um filme?\n"
      ],
      "metadata": {
        "id": "5MwDpPSQpTmw"
      }
    },
    {
      "cell_type": "code",
      "source": [
        "# Tratando a coluna 'Gross' separadamente e retirando as vírgulas\n",
        "dados_tratados['Gross'] = dados_tratados['Gross'].str.replace(',', '', regex=False)"
      ],
      "metadata": {
        "id": "SZ8GFcx1bnon"
      },
      "execution_count": 163,
      "outputs": []
    },
    {
      "cell_type": "code",
      "source": [
        "# Transformando a coluna 'Gross' em numérica para trabalharmos no novo DataFrame\n",
        "import numpy as np\n",
        "dados_tratados['Gross'] = pd.to_numeric(dados_tratados['Gross'], errors='coerce')"
      ],
      "metadata": {
        "id": "PRSHoG5TXX3B"
      },
      "execution_count": 164,
      "outputs": []
    },
    {
      "cell_type": "code",
      "source": [
        "# Verificando se o tipo transformado em numérico corretamente\n",
        "dados_tratados.info()"
      ],
      "metadata": {
        "colab": {
          "base_uri": "https://localhost:8080/"
        },
        "id": "MuPrZONTbA3h",
        "outputId": "d6f7a2fb-9749-4cb7-f499-5853e6c7c954"
      },
      "execution_count": 165,
      "outputs": [
        {
          "output_type": "stream",
          "name": "stdout",
          "text": [
            "<class 'pandas.core.frame.DataFrame'>\n",
            "RangeIndex: 999 entries, 0 to 998\n",
            "Data columns (total 17 columns):\n",
            " #   Column         Non-Null Count  Dtype  \n",
            "---  ------         --------------  -----  \n",
            " 0   Series_Title   999 non-null    object \n",
            " 1   Released_Year  999 non-null    int64  \n",
            " 2   Certificate    999 non-null    object \n",
            " 3   Genre          999 non-null    object \n",
            " 4   IMDB_Rating    999 non-null    float64\n",
            " 5   Overview       999 non-null    object \n",
            " 6   Meta_score     999 non-null    float64\n",
            " 7   Director       999 non-null    object \n",
            " 8   Star1          999 non-null    object \n",
            " 9   Star2          999 non-null    object \n",
            " 10  Star3          999 non-null    object \n",
            " 11  Star4          999 non-null    object \n",
            " 12  No_of_Votes    999 non-null    int64  \n",
            " 13  Gross          830 non-null    float64\n",
            " 14  Runtime_min    999 non-null    int64  \n",
            " 15  Nota_Media     999 non-null    float64\n",
            " 16  Genre_split    999 non-null    object \n",
            "dtypes: float64(4), int64(3), object(10)\n",
            "memory usage: 132.8+ KB\n"
          ]
        }
      ]
    },
    {
      "cell_type": "code",
      "source": [
        "# Visualizando os dados da coluna 'Gross' utilizando o describe\n",
        "dados_tratados['Gross'].describe()"
      ],
      "metadata": {
        "colab": {
          "base_uri": "https://localhost:8080/",
          "height": 335
        },
        "id": "elGTCrNSaO6u",
        "outputId": "24ba48a8-36a6-4b8b-83ad-36d9e175d706"
      },
      "execution_count": 166,
      "outputs": [
        {
          "output_type": "execute_result",
          "data": {
            "text/plain": [
              "count    8.300000e+02\n",
              "mean     6.808257e+07\n",
              "std      1.098076e+08\n",
              "min      1.305000e+03\n",
              "25%      3.245338e+06\n",
              "50%      2.345744e+07\n",
              "75%      8.087634e+07\n",
              "max      9.366622e+08\n",
              "Name: Gross, dtype: float64"
            ],
            "text/html": [
              "<div>\n",
              "<style scoped>\n",
              "    .dataframe tbody tr th:only-of-type {\n",
              "        vertical-align: middle;\n",
              "    }\n",
              "\n",
              "    .dataframe tbody tr th {\n",
              "        vertical-align: top;\n",
              "    }\n",
              "\n",
              "    .dataframe thead th {\n",
              "        text-align: right;\n",
              "    }\n",
              "</style>\n",
              "<table border=\"1\" class=\"dataframe\">\n",
              "  <thead>\n",
              "    <tr style=\"text-align: right;\">\n",
              "      <th></th>\n",
              "      <th>Gross</th>\n",
              "    </tr>\n",
              "  </thead>\n",
              "  <tbody>\n",
              "    <tr>\n",
              "      <th>count</th>\n",
              "      <td>8.300000e+02</td>\n",
              "    </tr>\n",
              "    <tr>\n",
              "      <th>mean</th>\n",
              "      <td>6.808257e+07</td>\n",
              "    </tr>\n",
              "    <tr>\n",
              "      <th>std</th>\n",
              "      <td>1.098076e+08</td>\n",
              "    </tr>\n",
              "    <tr>\n",
              "      <th>min</th>\n",
              "      <td>1.305000e+03</td>\n",
              "    </tr>\n",
              "    <tr>\n",
              "      <th>25%</th>\n",
              "      <td>3.245338e+06</td>\n",
              "    </tr>\n",
              "    <tr>\n",
              "      <th>50%</th>\n",
              "      <td>2.345744e+07</td>\n",
              "    </tr>\n",
              "    <tr>\n",
              "      <th>75%</th>\n",
              "      <td>8.087634e+07</td>\n",
              "    </tr>\n",
              "    <tr>\n",
              "      <th>max</th>\n",
              "      <td>9.366622e+08</td>\n",
              "    </tr>\n",
              "  </tbody>\n",
              "</table>\n",
              "</div><br><label><b>dtype:</b> float64</label>"
            ]
          },
          "metadata": {},
          "execution_count": 166
        }
      ]
    },
    {
      "cell_type": "markdown",
      "source": [
        "Através da função describe podemos visualizar de forma rápida algumas estatísticas sobre a coluna 'Gross'.\n",
        "\n",
        "É possível observar que o maior faturamento registrado no nosso dataset é de 936.662.200 e o menor é de 1.300, o que indica uma grande diferença e possível presença de outliers puxando a média para cima ou para baixo.\n",
        "\n",
        "A média de arrecadação 'Gross' está em 68.082.570.\n",
        "\n",
        "75% dos filmes tiveram uma arrecadação abaixo dos 80.876.340.\n",
        "\n",
        "25% dos filmes tiveram uma arrecadação abaixo de 3.245.338.\n",
        "\n",
        "Podemos observar através dessa análise que tanto os valores máximo e mínimo estão bem distantes dos valores da maioria dos filmes.\n",
        "\n"
      ],
      "metadata": {
        "id": "TBCJyGs217Dv"
      }
    },
    {
      "cell_type": "code",
      "source": [
        "# Visualizando o heatmap agora com a coluna 'Gross' e 'Nota_Media'\n",
        "colunas_selecionadas = ['Gross', 'Nota_Media', 'Released_Year', 'Runtime_min', 'No_of_Votes']\n",
        "dados_selecionados = dados_tratados[colunas_selecionadas]\n",
        "correlacao_selecionados = dados_selecionados.corr()\n",
        "\n",
        "plt.figure(figsize=(10,8))\n",
        "sns.heatmap(correlacao_selecionados, annot=True, cmap='coolwarm', fmt='.2f')\n",
        "plt.show()"
      ],
      "metadata": {
        "colab": {
          "base_uri": "https://localhost:8080/",
          "height": 682
        },
        "id": "E84P-BUitfdJ",
        "outputId": "8c9ba374-4aee-41bf-906d-1dac1dd6d06c"
      },
      "execution_count": 195,
      "outputs": [
        {
          "output_type": "display_data",
          "data": {
            "text/plain": [
              "<Figure size 1000x800 with 2 Axes>"
            ],
            "image/png": "[encoded data removed]"
          },
          "metadata": {}
        }
      ]
    },
    {
      "cell_type": "markdown",
      "source": [
        "Podemos visualizar no heatmap que os principais fatores que tem maior correlação a arrecadação 'Gross' são:\n",
        "\n",
        "Número de votos: 0.59\n",
        "\n",
        "Ano de Lançamento: 0.23\n",
        "\n",
        "Tempo de duração: 0.14\n",
        "\n",
        "Com as informações observadas no mapa de correlação, podemos tirar alguns insights como o 'Número de Votos' indica a popularidade do filme, quanto maior a quantidade de votos, maior o público que assistiu e avaliou o filme. Logo a arrecadação 'Gross' cresce no mesmo sentido que o número de votos, quanto maior a popularidade do filme, maior o faturamento.\n",
        "\n",
        "O 'Ano de Lançamento' apesar do coeficiente baixo, ainda é o segundo fator que influencia no faturamento, seu coeficiente positivo pode indicar que filmes mais recentes tendem a faturar mais.\n",
        "\n",
        "O 'Tempo de Duração' apesar de ainda menor que o 'Ano de Lançamento' é ainda um coeficiente positivo, o que pode indicar que um filme mais curto não necessariamente tem um faturamento maior.\n",
        "\n",
        "O último insight sobre o único coeficiente negativo a 'Nota Média' nos faz pensar que a nota do filme não é decisiva para o faturamento.\n",
        "\n"
      ],
      "metadata": {
        "id": "41OgBvIjy91j"
      }
    },
    {
      "cell_type": "code",
      "source": [
        "# Criando um gráfico de dispersão da relação da Arrecadação e o Número de Votos\n",
        "plt.figure(figsize=(12,8))\n",
        "sns.scatterplot(data=dados_tratados, x='Gross', y='No_of_Votes', alpha=0.5)\n",
        "plt.title('Relação da Arrecadação e o Número de Votos', fontsize=14)\n",
        "plt.xlabel('Arrecadação')\n",
        "plt.ylabel('Número de Votos')\n",
        "plt.xlim(0, None)\n",
        "plt.ylim(0, None)\n",
        "\n",
        "plt.show()"
      ],
      "metadata": {
        "colab": {
          "base_uri": "https://localhost:8080/",
          "height": 720
        },
        "id": "bWtIVdP-lvs1",
        "outputId": "fb0dd1d4-28a3-4852-9b5c-d4605b2d3d49"
      },
      "execution_count": 167,
      "outputs": [
        {
          "output_type": "display_data",
          "data": {
            "text/plain": [
              "<Figure size 1200x800 with 1 Axes>"
            ],
            "image/png": "[encoded data removed]"
          },
          "metadata": {}
        }
      ]
    },
    {
      "cell_type": "markdown",
      "source": [
        "A relação positiva entre Arrecadação 'Gross' e 'Numero de Votos' pode ser visualizada de forma clara nesse gráfico de dispersão. Observa-se uma linha crescente onde mostra a tendencia de quando maior o número de votos, maior a arrecadação. Observa-se também pontos onde isso não é verdade, o que pode indicar presença de outliers."
      ],
      "metadata": {
        "id": "jCQbjdJmsh3R"
      }
    },
    {
      "cell_type": "code",
      "source": [
        "# Dividindo os filmes em faixas de preços para melhor visualização\n",
        "bins=[0, 100000, 500000, 2000000, 20000000, 50000000, 100000000, dados_tratados['Gross'].max()]\n",
        "\n",
        "dados_tratados['Gross_group'] = pd.cut(\n",
        "    dados_tratados['Gross'],\n",
        "    bins=bins,\n",
        "    labels=['1k-100k', '100k-500k', '500k-2M', '2M-20M', '20M-50M', '50M-100M', '>100M']\n",
        ")\n",
        "\n",
        "print(dados_tratados['Gross_group'].value_counts())\n"
      ],
      "metadata": {
        "colab": {
          "base_uri": "https://localhost:8080/"
        },
        "id": "DbIrciBXSx5p",
        "outputId": "7343716b-b2ba-475b-df27-912259e2aee0"
      },
      "execution_count": 168,
      "outputs": [
        {
          "output_type": "stream",
          "name": "stdout",
          "text": [
            "Gross_group\n",
            "2M-20M       226\n",
            ">100M        187\n",
            "20M-50M      139\n",
            "50M-100M     110\n",
            "500k-2M       84\n",
            "100k-500k     48\n",
            "1k-100k       36\n",
            "Name: count, dtype: int64\n"
          ]
        }
      ]
    },
    {
      "cell_type": "code",
      "source": [
        "# Visualizando o Boxplot da Arrecadação x Número de Votos\n",
        "sns.boxplot(data=dados_tratados, x='Gross_group', y='No_of_Votes')\n",
        "plt.xlabel('Arrecadação')\n",
        "plt.ylabel('Número de votos')\n",
        "plt.title('Boxplot da Arrecadação x Número de votos', fontsize=14)\n",
        "plt.show()"
      ],
      "metadata": {
        "colab": {
          "base_uri": "https://localhost:8080/",
          "height": 474
        },
        "id": "96X_EgWuj8R0",
        "outputId": "fe7d1895-e019-42fb-a0a7-5187eba9554f"
      },
      "execution_count": 205,
      "outputs": [
        {
          "output_type": "display_data",
          "data": {
            "text/plain": [
              "<Figure size 640x480 with 1 Axes>"
            ],
            "image/png": "[encoded data removed]"
          },
          "metadata": {}
        }
      ]
    },
    {
      "cell_type": "markdown",
      "source": [
        "Podemos observar no boxplot que a tendencia é de que quanto maior a Arrecadação, maior é o número de votos, assim como vimos no mapa de correlação, quando um cresce o outro tende a crescer também.\n",
        "\n",
        "Notamos também a presença de alguns outliers positivos em todas as faixas de valores arrecadados, o que pode indicar a popularidade de alguns filmes com Arrecadação menor."
      ],
      "metadata": {
        "id": "qnYYmT3Y8mOP"
      }
    },
    {
      "cell_type": "code",
      "source": [
        "# Visualizando o Boxplot da Arrecadação x Tempo de Duração\n",
        "sns.boxplot(data=dados_tratados, x='Gross_group', y='Runtime_min')\n",
        "plt.xlabel('Arrecadação')\n",
        "plt.ylabel('Tempo de Duração (min)')\n",
        "plt.title('Boxplot da Arrecadação x Tempo de Duração (min)', fontsize=14)\n",
        "plt.show()"
      ],
      "metadata": {
        "colab": {
          "base_uri": "https://localhost:8080/",
          "height": 473
        },
        "id": "F3c2wYDoqhD2",
        "outputId": "563ec7f5-5ac6-4821-d5ad-6c27bca2f3ed"
      },
      "execution_count": 207,
      "outputs": [
        {
          "output_type": "display_data",
          "data": {
            "text/plain": [
              "<Figure size 640x480 with 1 Axes>"
            ],
            "image/png": "[encoded data removed]"
          },
          "metadata": {}
        }
      ]
    },
    {
      "cell_type": "markdown",
      "source": [
        "Podemos observar através do gráfico Boxplot acima que apesar do leve crescimento no tempo de duração a medida que o valor de Arrecadação aumenta, a mediana em todas as faixas sem mantem em um valor próximo. Além da presença de outliers positivos em todos as faixas de arrecadação.\n",
        "\n",
        "Podemos concluir que apesar do Tempo de Duração ter uma certa influencia na arrecadação, ela não é uma variável decisiva no faturamento."
      ],
      "metadata": {
        "id": "YRDpAIs58JWA"
      }
    },
    {
      "cell_type": "code",
      "source": [
        "# Visualizando o Boxplot da Arrecadação x Ano de Lançamento\n",
        "sns.boxplot(data=dados_tratados, x='Gross_group', y='Released_Year')\n",
        "plt.xlabel('Arrecadação')\n",
        "plt.ylabel('Ano de Lançamento')\n",
        "plt.title('Boxplot da Arrecadação x Ano de Lançamento', fontsize=14)\n",
        "plt.show()"
      ],
      "metadata": {
        "colab": {
          "base_uri": "https://localhost:8080/",
          "height": 473
        },
        "id": "VEz6ErLE8K8X",
        "outputId": "51448f92-7c2c-404b-a1eb-339b663c059f"
      },
      "execution_count": 208,
      "outputs": [
        {
          "output_type": "display_data",
          "data": {
            "text/plain": [
              "<Figure size 640x480 with 1 Axes>"
            ],
            "image/png": "[encoded data removed]"
          },
          "metadata": {}
        }
      ]
    },
    {
      "cell_type": "markdown",
      "source": [
        "Podemos visualizar no gráfico Boxplot acima que a maior mediana do Ano de Lançamento se encontra na maior faixa de Arrecadação, sinalizando que filmes mais recentes podem ter um faturamento maior. Porém, existe também a presença de outliers negativos indicando que há filmes mais antigos também nessa faixa de Arrecadação."
      ],
      "metadata": {
        "id": "YJMYdOwW8klz"
      }
    },
    {
      "cell_type": "markdown",
      "source": [
        "# Quais insights podem ser tirados com a coluna overview? É possível inferir o gênero do filme a partir dessa coluna?"
      ],
      "metadata": {
        "id": "huUrpYAp3JtK"
      }
    },
    {
      "cell_type": "code",
      "source": [
        "# Visualizando a coluna 'Overview' garantindo que o texto seja exibido por completo em cada linha\n",
        "pd.set_option('display.max_colwidth', None)\n",
        "print(dados_tratados['Overview'].head())"
      ],
      "metadata": {
        "id": "VvFLEJWiHXFJ",
        "colab": {
          "base_uri": "https://localhost:8080/"
        },
        "outputId": "4b70b6b3-d6c3-40bc-99b3-8f19a6018143"
      },
      "execution_count": 187,
      "outputs": [
        {
          "output_type": "stream",
          "name": "stdout",
          "text": [
            "0                                                                                   an organized crime dynasty's aging patriarch transfers control of his clandestine empire to his reluctant son.\n",
            "1    when the menace known as the joker wreaks havoc and chaos on the people of gotham, batman must accept one of the greatest psychological and physical tests of his ability to fight injustice.\n",
            "2                             the early life and career of vito corleone in 1920s new york city is portrayed, while his son, michael, expands and tightens his grip on the family crime syndicate.\n",
            "3                                                                                a jury holdout attempts to prevent a miscarriage of justice by forcing his colleagues to reconsider the evidence.\n",
            "4                                               gandalf and aragorn lead the world of men against sauron's army to draw his gaze from frodo and sam as they approach mount doom with the one ring.\n",
            "Name: Overview, dtype: object\n"
          ]
        }
      ]
    },
    {
      "cell_type": "markdown",
      "source": [
        "Podemos observar que na coluna 'Overview' temos textos longos, porém algumas palavras como \"crime\" ou \"fight\" se destacam por nos dar dicas de qual gênero estão se referindo. Isso nos dá uma ideia de que se filtrarmos essas palavras, poderemos sim identificar o gênero através da coluna 'Overview'. Para isso, a seguir iremos isolar cada palavra em um novo dataframe para fazer a contagem, além de filtrar as palavras mais frequentes em todos os gêneros que não tem sentido semântico para nos ajudar a identificar o gênero."
      ],
      "metadata": {
        "id": "My6bBGs1et8I"
      }
    },
    {
      "cell_type": "code",
      "source": [
        "# Criando uma nova coluna chamada 'Overview_words' para ser explodida em linhas com palavras únicas garantindo novamente a padronização das palavras em lowercase e retirando os espaçamentos\n",
        "dados_genero['Overview_words'] = dados_genero['Overview'].str.lower().str.split()"
      ],
      "metadata": {
        "id": "RsEbViZi3DTZ"
      },
      "execution_count": 177,
      "outputs": []
    },
    {
      "cell_type": "code",
      "source": [
        "# Explodindo a coluna 'Overview_words' em um novo df para fazermos a contagem das palavras\n",
        "dados_genero_explodido = dados_genero.explode('Overview_words')"
      ],
      "metadata": {
        "id": "CVtH7vCM_8ZZ"
      },
      "execution_count": 178,
      "outputs": []
    },
    {
      "cell_type": "code",
      "source": [
        "# Fazendo a contagem de palavras por gênero\n",
        "contagem_palavras = dados_genero_explodido.groupby('Genre_split')['Overview_words'].value_counts().reset_index(name='Count')\n",
        "print(contagem_palavras)"
      ],
      "metadata": {
        "colab": {
          "base_uri": "https://localhost:8080/"
        },
        "id": "q7efRxPJAMAa",
        "outputId": "29df16aa-b8c6-478d-ff51-85d8b10eda41"
      },
      "execution_count": 179,
      "outputs": [
        {
          "output_type": "stream",
          "name": "stdout",
          "text": [
            "      Genre_split Overview_words  Count\n",
            "0          action              a    315\n",
            "1          action            the    271\n",
            "2          action             to    180\n",
            "3          action             of    150\n",
            "4          action            and    140\n",
            "...           ...            ...    ...\n",
            "26402     western          winds      1\n",
            "26403     western         wolves      1\n",
            "26404     western           work      1\n",
            "26405     western        working      1\n",
            "26406     western          years      1\n",
            "\n",
            "[26407 rows x 3 columns]\n"
          ]
        }
      ]
    },
    {
      "cell_type": "code",
      "source": [
        "# Criando uma visualização de lista das palavras com mais frequencia para usar como filto stop_words utilizando um parâmetro das 35 primeiras palavras que mais aparecem e verificando se faz sentido esse número ou se aumento o range\n",
        "stop_words = contagem_palavras['Overview_words'].head(35).to_list()\n",
        "print(stop_words)"
      ],
      "metadata": {
        "colab": {
          "base_uri": "https://localhost:8080/"
        },
        "id": "OPPhm1VTbrgo",
        "outputId": "ed0f5825-1208-4c7c-edc6-7f328659a78b"
      },
      "execution_count": 283,
      "outputs": [
        {
          "output_type": "stream",
          "name": "stdout",
          "text": [
            "['a', 'the', 'to', 'of', 'and', 'in', 'his', 'an', 'is', 'from', 'by', 'with', 'who', 'he', 'on', 'for', 'as', 'after', 'must', 'when', 'their', 'two', 'young', 'are', 'her', 'against', 'at', 'while', 'one', 'into', 'that', 'find', 'former', 'man', 'up']\n"
          ]
        }
      ]
    },
    {
      "cell_type": "code",
      "source": [
        "# Criando um conjunto de palavras sem valor semântico que aparecem com mais frequencia em todos os textos para filtrar na lista a ser criada\n",
        "dados_genero_explodido = dados_genero_explodido[~dados_genero_explodido.isin(stop_words)]"
      ],
      "metadata": {
        "id": "gFTyTVKsBAa8"
      },
      "execution_count": 285,
      "outputs": []
    },
    {
      "cell_type": "code",
      "source": [
        "# Verificando os gêneros únicos existentes\n",
        "dados_genero['Genre_split'].unique()"
      ],
      "metadata": {
        "colab": {
          "base_uri": "https://localhost:8080/"
        },
        "id": "bgFHgETeEbVP",
        "outputId": "c316daf2-cc20-4361-e332-abc7f9ae13ee"
      },
      "execution_count": 181,
      "outputs": [
        {
          "output_type": "execute_result",
          "data": {
            "text/plain": [
              "array(['crime', 'drama', 'action', 'adventure', 'biography', 'history',\n",
              "       'sci-fi', 'romance', 'western', 'fantasy', 'comedy', 'thriller',\n",
              "       'animation', 'family', 'war', 'mystery', 'music', 'horror',\n",
              "       'musical', 'film-noir', 'sport'], dtype=object)"
            ]
          },
          "metadata": {},
          "execution_count": 181
        }
      ]
    },
    {
      "cell_type": "code",
      "source": [
        "# Contar as palavras por gênero\n",
        "genero_top_words = (dados_genero_explodido.groupby('Genre_split')['Overview_words'].value_counts().groupby(level=0).head(30))\n",
        "print(genero_top_words)"
      ],
      "metadata": {
        "colab": {
          "base_uri": "https://localhost:8080/"
        },
        "id": "RTf2TOGmCs5f",
        "outputId": "e7d77354-c57a-4ec7-9f7a-dc4f87ab7791"
      },
      "execution_count": 291,
      "outputs": [
        {
          "output_type": "stream",
          "name": "stdout",
          "text": [
            "Genre_split  Overview_words\n",
            "action       that              14\n",
            "             find              13\n",
            "             former            12\n",
            "             man               12\n",
            "             up                12\n",
            "                               ..\n",
            "western      rescue             2\n",
            "             track              2\n",
            "             war                2\n",
            "             \"schofield         1\n",
            "             \"traditional\"      1\n",
            "Name: count, Length: 630, dtype: int64\n"
          ]
        }
      ]
    },
    {
      "cell_type": "code",
      "source": [
        "# Criando um dicionário com a lista de palavras que aparecem mais em cada gênero\n",
        "genero_words_dict = (genero_top_words.groupby(level=0).apply(lambda x: x.index.get_level_values(1).tolist()).to_dict())\n"
      ],
      "metadata": {
        "id": "2ON-qyHD90oL"
      },
      "execution_count": 292,
      "outputs": []
    },
    {
      "cell_type": "code",
      "source": [
        "# Exemplo de saíde das listas criadas com o dicionário separada por gênero\n",
        "print('crime:', genero_words_dict['crime'])\n",
        "print('drama:', genero_words_dict['drama'])\n",
        "print('action:', genero_words_dict['action'])\n",
        "print('adventure:', genero_words_dict['adventure'])"
      ],
      "metadata": {
        "colab": {
          "base_uri": "https://localhost:8080/"
        },
        "id": "vgjI2qopEwfb",
        "outputId": "4a1b6971-c44d-48d2-814d-e52d73fe595a"
      },
      "execution_count": 294,
      "outputs": [
        {
          "output_type": "stream",
          "name": "stdout",
          "text": [
            "crime: ['man', 'that', 'police', 'they', 'but', 'out', 'up', 'crime', 'has', 'him', 'murder', 'story', 'them', 'finds', 'three', 'family', 'men', 'violent', 'be', 'down', 'former', 'get', 'himself', 'new', 'agent', 'life', 'other', 'tries', 'becomes', 'detective']\n",
            "drama: ['man', 'that', 'life', 'but', 'they', 'story', 'world', 'new', 'war', 'during', 'has', 'woman', 'love', 'find', 'finds', 'him', 'be', 'out', 'up', 'family', 'between', 'becomes', 'former', 'help', 'lives', 'she', 'each', 'them', 'boy', 'girl']\n",
            "action: ['that', 'find', 'former', 'man', 'up', 'becomes', 'between', 'out', 'save', 'them', 'war', 'new', 'family', 'help', 'leads', 'police', 'team', 'world', 'agent', 'army', 'battle', 'being', 'but', 'down', 'during', 'officer', 'stop', 'story', 'they', 'together']\n",
            "adventure: ['world', 'that', 'new', 'find', 'out', 'war', 'help', 'family', 'girl', 'journey', 'save', 'where', 'be', 'boy', 'friends', 'group', 'him', 'man', 'search', 'story', 'up', 'american', 'but', 'mission', 'set', 'she', 'becomes', 'between', 'during', 'old']\n"
          ]
        }
      ]
    },
    {
      "cell_type": "markdown",
      "source": [
        "Agora nós já temos nossa lista de palavras mais utilizadas para descrever cada filme, assim podemos através da coluna 'Overview' inferir o gênero do filme."
      ],
      "metadata": {
        "id": "GWwoM0ZUrrhl"
      }
    },
    {
      "cell_type": "code",
      "source": [],
      "metadata": {
        "id": "Xt8rZLRk-kuc"
      },
      "execution_count": 184,
      "outputs": []
    },
    {
      "cell_type": "code",
      "source": [],
      "metadata": {
        "id": "kwXRLjx3-qiS"
      },
      "execution_count": 184,
      "outputs": []
    },
    {
      "cell_type": "code",
      "source": [],
      "metadata": {
        "id": "0f00CizE-u93"
      },
      "execution_count": 184,
      "outputs": []
    }
  ]
}